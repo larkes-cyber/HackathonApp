{
 "cells": [
  {
   "cell_type": "code",
   "execution_count": 1,
   "id": "6b71ff6d-efe7-47e8-8d65-863672019818",
   "metadata": {},
   "outputs": [],
   "source": [
    "# Функции для "
   ]
  },
  {
   "cell_type": "code",
   "execution_count": 2,
   "id": "831f6133-9163-4064-beaa-e718d5c47a73",
   "metadata": {},
   "outputs": [],
   "source": [
    "import cv2\n",
    "import mediapipe as mp"
   ]
  },
  {
   "cell_type": "code",
   "execution_count": 3,
   "id": "35e679db-b0fd-4796-b694-b31a805ca2dd",
   "metadata": {},
   "outputs": [],
   "source": [
    "mp_pose = mp.solutions.pose\n",
    "pose = mp_pose.Pose(static_image_mode=True, model_complexity=1)\n",
    "mp_drawing = mp.solutions.drawing_utils"
   ]
  },
  {
   "cell_type": "code",
   "execution_count": 4,
   "id": "867fa9a3-fd31-4534-8418-195cf4327cdd",
   "metadata": {},
   "outputs": [],
   "source": [
    "def video_now(video_array, fps):\n",
    "    if not video_array.isOpened():\n",
    "        print(\"Ошибка при открытии видеофайла.\")\n",
    "\n",
    "    data_frame_video = list()\n",
    "    while True:\n",
    "        ret, frame = video_array.read()\n",
    "        if not ret:\n",
    "            break\n",
    "\n",
    "        if flag_fps == fps:\n",
    "            res = frame_to_cord(frame)\n",
    "    \n",
    "            if len(res)!=18: print(\"Error!\")\n",
    "            data_frame_video.append(res)\n",
    "\n",
    "        flag_fps += 1\n",
    "            \n",
    "    return data_frame_video"
   ]
  },
  {
   "cell_type": "code",
   "execution_count": 678,
   "id": "bea69d81-1770-4b87-90b5-8c58826209fc",
   "metadata": {},
   "outputs": [],
   "source": [
    "def frame_to_cord(frame):\n",
    "    # num_block_access_cords = [8, 6, 5, 4, 1, 2, 3, 7, 18, 20, 22, 21, 19, 17]    \n",
    "    # num_access_cords = list(filter(lambda x: x not in num_block_access_cords, list(range(32))))\n",
    "                                \n",
    "    results = pose.process(cv2.cvtColor(frame, cv2.COLOR_BGR2RGB))\n",
    "\n",
    "    cord = list()\n",
    "    for i in num_access_cords:\n",
    "        try:\n",
    "            x = results.pose_landmarks.landmark[mp_pose.PoseLandmark(i).value].x\n",
    "            y = results.pose_landmarks.landmark[mp_pose.PoseLandmark(i).value].y\n",
    "            \n",
    "            if x == None or y == None:\n",
    "                cord.append([0, 0])\n",
    "            else: cord.append([x, y])\n",
    "        except:\n",
    "            cord.append([0, 0])\n",
    "    \n",
    "    return cord"
   ]
  },
  {
   "cell_type": "code",
   "execution_count": 6,
   "id": "ad72a1ee-b2fc-4552-b486-4db6ca6fb7ee",
   "metadata": {},
   "outputs": [],
   "source": [
    "# Код для поиска положений P-10 и сохранения Frame"
   ]
  },
  {
   "cell_type": "code",
   "execution_count": 7,
   "id": "526883e8-ca2c-4dd0-91b4-4f68529c6352",
   "metadata": {},
   "outputs": [
    {
     "name": "stdout",
     "output_type": "stream",
     "text": [
      "Requirement already satisfied: pandas in /Users/odner/miniconda3/envs/torch/lib/python3.8/site-packages (2.0.3)\n",
      "Requirement already satisfied: python-dateutil>=2.8.2 in /Users/odner/miniconda3/envs/torch/lib/python3.8/site-packages (from pandas) (2.8.2)\n",
      "Requirement already satisfied: pytz>=2020.1 in /Users/odner/miniconda3/envs/torch/lib/python3.8/site-packages (from pandas) (2023.3)\n",
      "Requirement already satisfied: tzdata>=2022.1 in /Users/odner/miniconda3/envs/torch/lib/python3.8/site-packages (from pandas) (2023.3)\n",
      "Requirement already satisfied: numpy>=1.20.3 in /Users/odner/miniconda3/envs/torch/lib/python3.8/site-packages (from pandas) (1.24.4)\n",
      "Requirement already satisfied: six>=1.5 in /Users/odner/miniconda3/envs/torch/lib/python3.8/site-packages (from python-dateutil>=2.8.2->pandas) (1.16.0)\n"
     ]
    }
   ],
   "source": [
    "!pip install pandas"
   ]
  },
  {
   "cell_type": "code",
   "execution_count": 8,
   "id": "0fa99033-7177-4edf-a8e0-31a4f8f91273",
   "metadata": {},
   "outputs": [],
   "source": [
    "import os\n",
    "import pandas as pd"
   ]
  },
  {
   "cell_type": "code",
   "execution_count": 9,
   "id": "5c276e02-10eb-4ee3-bb20-024005d46936",
   "metadata": {},
   "outputs": [],
   "source": [
    "xml_train = \"/Users/odner/Documents/Programming/Hackatons/Hack_24_08_2023/Датасет_Синтез/positions_markup_train.xlsx\""
   ]
  },
  {
   "cell_type": "code",
   "execution_count": 10,
   "id": "c9995f2e-350e-49fc-8350-fb3ddb4e7373",
   "metadata": {},
   "outputs": [],
   "source": [
    "df = pd.read_excel(xml_train)"
   ]
  },
  {
   "cell_type": "code",
   "execution_count": 11,
   "id": "f85a7db4-0d08-447a-a183-21dedd3b39ae",
   "metadata": {},
   "outputs": [],
   "source": [
    "def frame_p_from_video(video, data_p, frame_id):\n",
    "    video_path = f\"/Users/odner/Documents/Programming/Hackaton's/Hack_24_08_2023/Датасет_Синтез/positions_of_the_golf_swing_train/{video}\"\n",
    "    output_directory = f\"/Users/odner/Documents/Programming/Hackaton's/Hack_24_08_2023/positions_of_the_golf_swing_train_frame\"\n",
    "    frame_p = ['P1', 'P2', 'P3', 'P4', 'P5', 'P6', 'P8', 'P10']\n",
    "\n",
    "    cap = cv2.VideoCapture(video_path)\n",
    "    if not cap.isOpened():\n",
    "        print(\"Ошибка при открытии видеофайла.\")\n",
    "\n",
    "\n",
    "    flag = 0\n",
    "    frame_p_flag = 0\n",
    "    while True:\n",
    "        ret, frame_video = cap.read()\n",
    "        if not ret:\n",
    "            break\n",
    "\n",
    "    \n",
    "        if flag in data_p:\n",
    "            frame_filename = os.path.join(output_directory, f\"{frame_p[frame_p_flag]}_{frame_id}.jpg\")\n",
    "            cv2.imwrite(frame_filename, frame_video)\n",
    "            frame_p_flag += 1\n",
    "            \n",
    "        flag += 1\n",
    "        if frame_p_flag == 8:\n",
    "            return True\n",
    "        \n",
    "    \n",
    "        "
   ]
  },
  {
   "cell_type": "code",
   "execution_count": 131,
   "id": "0f7b3066-1864-444b-8406-185018552f0b",
   "metadata": {},
   "outputs": [
    {
     "ename": "AttributeError",
     "evalue": "'numpy.ndarray' object has no attribute 'release'",
     "output_type": "error",
     "traceback": [
      "\u001b[0;31m---------------------------------------------------------------------------\u001b[0m",
      "\u001b[0;31mAttributeError\u001b[0m                            Traceback (most recent call last)",
      "Cell \u001b[0;32mIn[131], line 7\u001b[0m\n\u001b[1;32m      4\u001b[0m \u001b[38;5;28;01mif\u001b[39;00m \u001b[38;5;124m'\u001b[39m\u001b[38;5;124m-\u001b[39m\u001b[38;5;124m'\u001b[39m \u001b[38;5;129;01min\u001b[39;00m data_p:\n\u001b[1;32m      5\u001b[0m     \u001b[38;5;28;01mcontinue\u001b[39;00m\n\u001b[0;32m----> 7\u001b[0m \u001b[43mframe_p_from_video\u001b[49m\u001b[43m(\u001b[49m\u001b[43mdf\u001b[49m\u001b[43m[\u001b[49m\u001b[38;5;124;43m'\u001b[39;49m\u001b[38;5;124;43mНазвание видео\u001b[39;49m\u001b[38;5;124;43m'\u001b[39;49m\u001b[43m]\u001b[49m\u001b[43m[\u001b[49m\u001b[43mi\u001b[49m\u001b[43m]\u001b[49m\u001b[43m,\u001b[49m\u001b[43m \u001b[49m\u001b[43mdata_p\u001b[49m\u001b[43m,\u001b[49m\u001b[43m \u001b[49m\u001b[43mi\u001b[49m\u001b[43m)\u001b[49m\n",
      "Cell \u001b[0;32mIn[130], line 26\u001b[0m, in \u001b[0;36mframe_p_from_video\u001b[0;34m(video, data_p, frame_id)\u001b[0m\n\u001b[1;32m     24\u001b[0m flag \u001b[38;5;241m+\u001b[39m\u001b[38;5;241m=\u001b[39m \u001b[38;5;241m1\u001b[39m\n\u001b[1;32m     25\u001b[0m \u001b[38;5;28;01mif\u001b[39;00m frame_p_flag \u001b[38;5;241m==\u001b[39m \u001b[38;5;241m8\u001b[39m:\n\u001b[0;32m---> 26\u001b[0m     \u001b[43mframe_video\u001b[49m\u001b[38;5;241;43m.\u001b[39;49m\u001b[43mrelease\u001b[49m()\n\u001b[1;32m     27\u001b[0m     cv2\u001b[38;5;241m.\u001b[39mdestroyAllWindows()\n\u001b[1;32m     28\u001b[0m     \u001b[38;5;28;01mreturn\u001b[39;00m \u001b[38;5;28;01mTrue\u001b[39;00m\n",
      "\u001b[0;31mAttributeError\u001b[0m: 'numpy.ndarray' object has no attribute 'release'"
     ]
    }
   ],
   "source": [
    "for i in range(len(df)):\n",
    "    data_p = [df['P1'][i], df['P2'][i], df['P3'][i], df['P4'][i], df['P5'][i], df['P7'][i], df['P8'][i], df['P10'][i]]\n",
    "\n",
    "    if '-' in data_p:\n",
    "        continue\n",
    "\n",
    "    frame_p_from_video(df['Название видео'][i], data_p, i)"
   ]
  },
  {
   "cell_type": "code",
   "execution_count": 12,
   "id": "3097dc0b-33c9-40fe-b141-9cab4c997191",
   "metadata": {},
   "outputs": [],
   "source": [
    "# Код для большого датасета"
   ]
  },
  {
   "cell_type": "code",
   "execution_count": 13,
   "id": "98300bf2-37c9-433b-9154-7fcd5bb96b18",
   "metadata": {},
   "outputs": [
    {
     "name": "stdout",
     "output_type": "stream",
     "text": [
      "Requirement already satisfied: scipy in /Users/odner/miniconda3/envs/torch/lib/python3.8/site-packages (1.10.1)\n",
      "Requirement already satisfied: youtube-dl in /Users/odner/miniconda3/envs/torch/lib/python3.8/site-packages (2021.12.17)\n",
      "Requirement already satisfied: pafy in /Users/odner/miniconda3/envs/torch/lib/python3.8/site-packages (0.5.5)\n",
      "Requirement already satisfied: pytube in /Users/odner/miniconda3/envs/torch/lib/python3.8/site-packages (15.0.0)\n",
      "Requirement already satisfied: numpy<1.27.0,>=1.19.5 in /Users/odner/miniconda3/envs/torch/lib/python3.8/site-packages (from scipy) (1.24.4)\n"
     ]
    }
   ],
   "source": [
    "!pip install scipy youtube-dl pafy pytube"
   ]
  },
  {
   "cell_type": "code",
   "execution_count": 14,
   "id": "bade557c-3759-4114-8430-ebb58433102d",
   "metadata": {},
   "outputs": [],
   "source": [
    "from scipy.io import loadmat\n",
    "import pandas as pd\n",
    "import cv2\n",
    "from pytube import YouTube\n",
    "import numpy as np\n",
    "import os"
   ]
  },
  {
   "cell_type": "code",
   "execution_count": 15,
   "id": "f851693d-02cf-4a68-9251-ec2c3212c389",
   "metadata": {},
   "outputs": [],
   "source": [
    "x = loadmat('golfDB.mat')\n",
    "l = list(x['golfDB'][0])\n",
    "d = dict()\n",
    "for idx, k in enumerate(l):\n",
    "    d[\"{:3d}\".format(idx)] = list(l[idx])\n",
    "df = pd.DataFrame(d).T\n",
    "df.columns = [\"id\",\"youtube_id\",\"player\", \"sex\", \"club\",\"view\",\"slow\",\"events\",\"bbox\",\"split\"]"
   ]
  },
  {
   "cell_type": "code",
   "execution_count": 16,
   "id": "350349e7-f375-4d4d-884d-5c6a0a5dbc9b",
   "metadata": {},
   "outputs": [],
   "source": [
    "# data format cleansing\n",
    "df['id'] = df['id'].apply(lambda x: x[0][0])\n",
    "df['youtube_id'] = df['youtube_id'].apply(lambda x: x[0])\n",
    "df['player'] = df['player'].apply(lambda x: x[0])\n",
    "df['sex'] = df['sex'].apply(lambda x: x[0])\n",
    "df['club'] = df['club'].apply(lambda x: x[0])\n",
    "df['view'] = df['view'].apply(lambda x: x[0])\n",
    "df['slow'] = df['slow'].apply(lambda x: x[0][0])\n",
    "df['events'] = df['events'].apply(lambda x: x[0])\n",
    "df['bbox'] = df['bbox'].apply(lambda x: x[0])\n",
    "df['split'] = df['split'].apply(lambda x: x[0][0])"
   ]
  },
  {
   "cell_type": "code",
   "execution_count": 17,
   "id": "e65321e7-44d5-415a-896f-4d5f0578c5a0",
   "metadata": {},
   "outputs": [],
   "source": [
    "#df.index = df.index.astype(int)\n",
    "#df.to_pickle('golfDB.pkl')"
   ]
  },
  {
   "cell_type": "code",
   "execution_count": 18,
   "id": "cf250dcf-8fb3-4f39-ab2a-e19fb8c32fde",
   "metadata": {
    "scrolled": true
   },
   "outputs": [
    {
     "data": {
      "text/html": [
       "<div>\n",
       "<style scoped>\n",
       "    .dataframe tbody tr th:only-of-type {\n",
       "        vertical-align: middle;\n",
       "    }\n",
       "\n",
       "    .dataframe tbody tr th {\n",
       "        vertical-align: top;\n",
       "    }\n",
       "\n",
       "    .dataframe thead th {\n",
       "        text-align: right;\n",
       "    }\n",
       "</style>\n",
       "<table border=\"1\" class=\"dataframe\">\n",
       "  <thead>\n",
       "    <tr style=\"text-align: right;\">\n",
       "      <th></th>\n",
       "      <th>id</th>\n",
       "      <th>youtube_id</th>\n",
       "      <th>player</th>\n",
       "      <th>sex</th>\n",
       "      <th>club</th>\n",
       "      <th>view</th>\n",
       "      <th>slow</th>\n",
       "      <th>events</th>\n",
       "      <th>bbox</th>\n",
       "      <th>split</th>\n",
       "    </tr>\n",
       "  </thead>\n",
       "  <tbody>\n",
       "    <tr>\n",
       "      <th>0</th>\n",
       "      <td>0</td>\n",
       "      <td>f1BWA5F87Jc</td>\n",
       "      <td>SANDRA GAL</td>\n",
       "      <td>f</td>\n",
       "      <td>driver</td>\n",
       "      <td>down-the-line</td>\n",
       "      <td>0</td>\n",
       "      <td>[408, 455, 473, 476, 490, 495, 498, 501, 514, ...</td>\n",
       "      <td>[0.09765625000000001, 0.006944444444444444, 0....</td>\n",
       "      <td>3</td>\n",
       "    </tr>\n",
       "    <tr>\n",
       "      <th>1</th>\n",
       "      <td>1</td>\n",
       "      <td>f1BWA5F87Jc</td>\n",
       "      <td>SANDRA GAL</td>\n",
       "      <td>f</td>\n",
       "      <td>driver</td>\n",
       "      <td>down-the-line</td>\n",
       "      <td>1</td>\n",
       "      <td>[814, 854, 917, 931, 988, 1006, 1019, 1030, 10...</td>\n",
       "      <td>[0.039062500000000014, 0.0006944444444444445, ...</td>\n",
       "      <td>3</td>\n",
       "    </tr>\n",
       "    <tr>\n",
       "      <th>2</th>\n",
       "      <td>2</td>\n",
       "      <td>tA1iotgtMyc</td>\n",
       "      <td>CHRIS DIMARCO</td>\n",
       "      <td>m</td>\n",
       "      <td>driver</td>\n",
       "      <td>down-the-line</td>\n",
       "      <td>0</td>\n",
       "      <td>[521, 659, 678, 683, 692, 696, 698, 701, 715, ...</td>\n",
       "      <td>[0.165625, 0.0006944444444444445, 0.48359375, ...</td>\n",
       "      <td>3</td>\n",
       "    </tr>\n",
       "    <tr>\n",
       "      <th>3</th>\n",
       "      <td>3</td>\n",
       "      <td>tA1iotgtMyc</td>\n",
       "      <td>CHRIS DIMARCO</td>\n",
       "      <td>m</td>\n",
       "      <td>driver</td>\n",
       "      <td>down-the-line</td>\n",
       "      <td>1</td>\n",
       "      <td>[1106, 1190, 1244, 1264, 1300, 1313, 1324, 133...</td>\n",
       "      <td>[0.18515625, 0.0006944444444444445, 0.465625, ...</td>\n",
       "      <td>3</td>\n",
       "    </tr>\n",
       "    <tr>\n",
       "      <th>4</th>\n",
       "      <td>4</td>\n",
       "      <td>wDCKLePrwHA</td>\n",
       "      <td>BROOKE HENDERSON</td>\n",
       "      <td>f</td>\n",
       "      <td>driver</td>\n",
       "      <td>down-the-line</td>\n",
       "      <td>0</td>\n",
       "      <td>[157, 170, 183, 188, 197, 201, 205, 207, 220, ...</td>\n",
       "      <td>[0.11015625, 0.0006944444444444445, 0.4984375,...</td>\n",
       "      <td>3</td>\n",
       "    </tr>\n",
       "    <tr>\n",
       "      <th>...</th>\n",
       "      <td>...</td>\n",
       "      <td>...</td>\n",
       "      <td>...</td>\n",
       "      <td>...</td>\n",
       "      <td>...</td>\n",
       "      <td>...</td>\n",
       "      <td>...</td>\n",
       "      <td>...</td>\n",
       "      <td>...</td>\n",
       "      <td>...</td>\n",
       "    </tr>\n",
       "    <tr>\n",
       "      <th>1395</th>\n",
       "      <td>1395</td>\n",
       "      <td>bXqJtcWylfQ</td>\n",
       "      <td>ARIYA JUTANUGARN</td>\n",
       "      <td>f</td>\n",
       "      <td>iron</td>\n",
       "      <td>down-the-line</td>\n",
       "      <td>1</td>\n",
       "      <td>[867, 887, 949, 968, 1001, 1017, 1029, 1039, 1...</td>\n",
       "      <td>[0.146875, 0.0006944444444444445, 0.4203125, 0...</td>\n",
       "      <td>1</td>\n",
       "    </tr>\n",
       "    <tr>\n",
       "      <th>1396</th>\n",
       "      <td>1396</td>\n",
       "      <td>TtxGGIzrqWI</td>\n",
       "      <td>KENNY PERRY</td>\n",
       "      <td>m</td>\n",
       "      <td>driver</td>\n",
       "      <td>face-on</td>\n",
       "      <td>0</td>\n",
       "      <td>[121, 394, 407, 414, 427, 431, 435, 437, 452, ...</td>\n",
       "      <td>[0.16796875, 0.0006944444444444445, 0.7171875,...</td>\n",
       "      <td>3</td>\n",
       "    </tr>\n",
       "    <tr>\n",
       "      <th>1397</th>\n",
       "      <td>1397</td>\n",
       "      <td>TtxGGIzrqWI</td>\n",
       "      <td>KENNY PERRY</td>\n",
       "      <td>m</td>\n",
       "      <td>driver</td>\n",
       "      <td>face-on</td>\n",
       "      <td>1</td>\n",
       "      <td>[875, 895, 967, 997, 1045, 1061, 1076, 1084, 1...</td>\n",
       "      <td>[0.16796875, 0.0006944444444444445, 0.696875, ...</td>\n",
       "      <td>3</td>\n",
       "    </tr>\n",
       "    <tr>\n",
       "      <th>1398</th>\n",
       "      <td>1398</td>\n",
       "      <td>TtxGGIzrqWI</td>\n",
       "      <td>KENNY PERRY</td>\n",
       "      <td>m</td>\n",
       "      <td>driver</td>\n",
       "      <td>down-the-line</td>\n",
       "      <td>0</td>\n",
       "      <td>[2585, 2890, 2904, 2912, 2925, 2929, 2932, 293...</td>\n",
       "      <td>[0.17578125, 0.0006944444444444445, 0.4203125,...</td>\n",
       "      <td>3</td>\n",
       "    </tr>\n",
       "    <tr>\n",
       "      <th>1399</th>\n",
       "      <td>1399</td>\n",
       "      <td>TtxGGIzrqWI</td>\n",
       "      <td>KENNY PERRY</td>\n",
       "      <td>m</td>\n",
       "      <td>driver</td>\n",
       "      <td>down-the-line</td>\n",
       "      <td>1</td>\n",
       "      <td>[3165, 3212, 3263, 3291, 3346, 3360, 3373, 338...</td>\n",
       "      <td>[0.1359375, 0.0006944444444444445, 0.46640625,...</td>\n",
       "      <td>3</td>\n",
       "    </tr>\n",
       "  </tbody>\n",
       "</table>\n",
       "<p>1400 rows × 10 columns</p>\n",
       "</div>"
      ],
      "text/plain": [
       "        id   youtube_id            player sex    club           view  slow  \\\n",
       "  0      0  f1BWA5F87Jc        SANDRA GAL   f  driver  down-the-line     0   \n",
       "  1      1  f1BWA5F87Jc        SANDRA GAL   f  driver  down-the-line     1   \n",
       "  2      2  tA1iotgtMyc     CHRIS DIMARCO   m  driver  down-the-line     0   \n",
       "  3      3  tA1iotgtMyc     CHRIS DIMARCO   m  driver  down-the-line     1   \n",
       "  4      4  wDCKLePrwHA  BROOKE HENDERSON   f  driver  down-the-line     0   \n",
       "...    ...          ...               ...  ..     ...            ...   ...   \n",
       "1395  1395  bXqJtcWylfQ  ARIYA JUTANUGARN   f    iron  down-the-line     1   \n",
       "1396  1396  TtxGGIzrqWI       KENNY PERRY   m  driver        face-on     0   \n",
       "1397  1397  TtxGGIzrqWI       KENNY PERRY   m  driver        face-on     1   \n",
       "1398  1398  TtxGGIzrqWI       KENNY PERRY   m  driver  down-the-line     0   \n",
       "1399  1399  TtxGGIzrqWI       KENNY PERRY   m  driver  down-the-line     1   \n",
       "\n",
       "                                                 events  \\\n",
       "  0   [408, 455, 473, 476, 490, 495, 498, 501, 514, ...   \n",
       "  1   [814, 854, 917, 931, 988, 1006, 1019, 1030, 10...   \n",
       "  2   [521, 659, 678, 683, 692, 696, 698, 701, 715, ...   \n",
       "  3   [1106, 1190, 1244, 1264, 1300, 1313, 1324, 133...   \n",
       "  4   [157, 170, 183, 188, 197, 201, 205, 207, 220, ...   \n",
       "...                                                 ...   \n",
       "1395  [867, 887, 949, 968, 1001, 1017, 1029, 1039, 1...   \n",
       "1396  [121, 394, 407, 414, 427, 431, 435, 437, 452, ...   \n",
       "1397  [875, 895, 967, 997, 1045, 1061, 1076, 1084, 1...   \n",
       "1398  [2585, 2890, 2904, 2912, 2925, 2929, 2932, 293...   \n",
       "1399  [3165, 3212, 3263, 3291, 3346, 3360, 3373, 338...   \n",
       "\n",
       "                                                   bbox  split  \n",
       "  0   [0.09765625000000001, 0.006944444444444444, 0....      3  \n",
       "  1   [0.039062500000000014, 0.0006944444444444445, ...      3  \n",
       "  2   [0.165625, 0.0006944444444444445, 0.48359375, ...      3  \n",
       "  3   [0.18515625, 0.0006944444444444445, 0.465625, ...      3  \n",
       "  4   [0.11015625, 0.0006944444444444445, 0.4984375,...      3  \n",
       "...                                                 ...    ...  \n",
       "1395  [0.146875, 0.0006944444444444445, 0.4203125, 0...      1  \n",
       "1396  [0.16796875, 0.0006944444444444445, 0.7171875,...      3  \n",
       "1397  [0.16796875, 0.0006944444444444445, 0.696875, ...      3  \n",
       "1398  [0.17578125, 0.0006944444444444445, 0.4203125,...      3  \n",
       "1399  [0.1359375, 0.0006944444444444445, 0.46640625,...      3  \n",
       "\n",
       "[1400 rows x 10 columns]"
      ]
     },
     "execution_count": 18,
     "metadata": {},
     "output_type": "execute_result"
    }
   ],
   "source": [
    "df"
   ]
  },
  {
   "cell_type": "code",
   "execution_count": 19,
   "id": "9fc6bf19-1288-4bb8-8998-9b81069b8ea6",
   "metadata": {},
   "outputs": [],
   "source": [
    "def get_from_youtube(url_id, frame_id, events):\n",
    "    try:\n",
    "        video_url = f'https://www.youtube.com/watch?v={url_id}'\n",
    "        yt = YouTube(video_url)\n",
    "        video_stream = yt.streams.get_lowest_resolution()\n",
    "        cap = cv2.VideoCapture(video_stream.url)\n",
    "\n",
    "        event = events.copy()\n",
    "    \n",
    "        if not cap.isOpened():\n",
    "            print(\"Ошибка при открытии видеофайла.\")\n",
    "            \n",
    "        event = np.delete(event, 8)\n",
    "        event = np.delete(event, 6)\n",
    "    \n",
    "        output_directory = f\"/Users/odner/Documents/Programming/Hackaton's/Hack_24_08_2023/positions_of_the_golf_swing_train_frame\"\n",
    "        frame_p = ['P1', 'P2', 'P3', 'P4', 'P5', 'P6', 'P8', 'P10']\n",
    "    \n",
    "        flag = 0\n",
    "        frame_p_flag = 0\n",
    "        while True:\n",
    "            ret, frame = cap.read()\n",
    "            if not ret:\n",
    "                break\n",
    "    \n",
    "            if flag in event:\n",
    "                frame_filename = os.path.join(output_directory, f\"{frame_p[frame_p_flag]}_{int(frame_id) + 85}.jpg\")\n",
    "                cv2.imwrite(frame_filename, frame)\n",
    "                frame_p_flag += 1\n",
    "                \n",
    "            flag += 1\n",
    "            if frame_p_flag == 8:\n",
    "                return True\n",
    "    except Exception as e:\n",
    "        print(f\"Error:{url_id}\", e)"
   ]
  },
  {
   "cell_type": "code",
   "execution_count": 75,
   "id": "984c8609-cdc2-4cad-98db-5e2a7589da43",
   "metadata": {},
   "outputs": [
    {
     "name": "stdout",
     "output_type": "stream",
     "text": [
      "Error:bF8A2zdAfAs bF8A2zdAfAs is age restricted, and can't be accessed without logging in.\n",
      "Error:bF8A2zdAfAs bF8A2zdAfAs is age restricted, and can't be accessed without logging in.\n",
      "Error:DZ9FpPXrD74 DZ9FpPXrD74 is age restricted, and can't be accessed without logging in.\n",
      "Error:DZ9FpPXrD74 DZ9FpPXrD74 is age restricted, and can't be accessed without logging in.\n",
      "Error:DZ9FpPXrD74 DZ9FpPXrD74 is age restricted, and can't be accessed without logging in.\n",
      "Error:ppDvhlGr5nI ppDvhlGr5nI is age restricted, and can't be accessed without logging in.\n",
      "Error:ppDvhlGr5nI ppDvhlGr5nI is age restricted, and can't be accessed without logging in.\n",
      "Error:ZivMJ6nSS-E ZivMJ6nSS-E is age restricted, and can't be accessed without logging in.\n",
      "Error:ZivMJ6nSS-E ZivMJ6nSS-E is age restricted, and can't be accessed without logging in.\n",
      "Error:cshnEYiQggc cshnEYiQggc is age restricted, and can't be accessed without logging in.\n",
      "Error:cshnEYiQggc cshnEYiQggc is age restricted, and can't be accessed without logging in.\n",
      "Error:eQEdf5KMyzM [Errno 54] Connection reset by peer\n",
      "Error:YZZOQXXmnTs YZZOQXXmnTs is age restricted, and can't be accessed without logging in.\n",
      "Error:YZZOQXXmnTs YZZOQXXmnTs is age restricted, and can't be accessed without logging in.\n",
      "Error:MiPq0zmI_Bo MiPq0zmI_Bo is age restricted, and can't be accessed without logging in.\n",
      "Error:MiPq0zmI_Bo MiPq0zmI_Bo is age restricted, and can't be accessed without logging in.\n",
      "Error:skkF2JsuLWM skkF2JsuLWM is age restricted, and can't be accessed without logging in.\n",
      "Error:skkF2JsuLWM skkF2JsuLWM is age restricted, and can't be accessed without logging in.\n",
      "Error:skkF2JsuLWM skkF2JsuLWM is age restricted, and can't be accessed without logging in.\n",
      "Error:skkF2JsuLWM skkF2JsuLWM is age restricted, and can't be accessed without logging in.\n",
      "Error:skkF2JsuLWM skkF2JsuLWM is age restricted, and can't be accessed without logging in.\n",
      "Error:skkF2JsuLWM skkF2JsuLWM is age restricted, and can't be accessed without logging in.\n",
      "Error:skkF2JsuLWM skkF2JsuLWM is age restricted, and can't be accessed without logging in.\n",
      "Error:skkF2JsuLWM skkF2JsuLWM is age restricted, and can't be accessed without logging in.\n",
      "Error:_QCr-j75SFM _QCr-j75SFM is age restricted, and can't be accessed without logging in.\n",
      "Error:_QCr-j75SFM _QCr-j75SFM is age restricted, and can't be accessed without logging in.\n",
      "Error:Shk6obgJMsE Shk6obgJMsE is age restricted, and can't be accessed without logging in.\n",
      "Error:Shk6obgJMsE Shk6obgJMsE is age restricted, and can't be accessed without logging in.\n",
      "Error:AmJx1lu1fv8 AmJx1lu1fv8 is age restricted, and can't be accessed without logging in.\n",
      "Error:AmJx1lu1fv8 AmJx1lu1fv8 is age restricted, and can't be accessed without logging in.\n",
      "Error:NLprImdkR_k NLprImdkR_k is age restricted, and can't be accessed without logging in.\n",
      "Error:NLprImdkR_k NLprImdkR_k is age restricted, and can't be accessed without logging in.\n",
      "Error:H9MWcs3YS-I H9MWcs3YS-I is age restricted, and can't be accessed without logging in.\n",
      "Error:H9MWcs3YS-I H9MWcs3YS-I is age restricted, and can't be accessed without logging in.\n",
      "Error:H9MWcs3YS-I H9MWcs3YS-I is age restricted, and can't be accessed without logging in.\n",
      "Error:H9MWcs3YS-I H9MWcs3YS-I is age restricted, and can't be accessed without logging in.\n",
      "Error:H9MWcs3YS-I H9MWcs3YS-I is age restricted, and can't be accessed without logging in.\n",
      "Error:-w6CkCOV_no -w6CkCOV_no is age restricted, and can't be accessed without logging in.\n",
      "Error:-w6CkCOV_no -w6CkCOV_no is age restricted, and can't be accessed without logging in.\n",
      "Error:7F2rA0oXNo0 7F2rA0oXNo0 is age restricted, and can't be accessed without logging in.\n",
      "Error:7F2rA0oXNo0 7F2rA0oXNo0 is age restricted, and can't be accessed without logging in.\n",
      "Error:1arb_a_Ik8c 1arb_a_Ik8c is age restricted, and can't be accessed without logging in.\n",
      "Error:1arb_a_Ik8c 1arb_a_Ik8c is age restricted, and can't be accessed without logging in.\n",
      "Error:aOCQAkVYEkU aOCQAkVYEkU is age restricted, and can't be accessed without logging in.\n",
      "Error:aOCQAkVYEkU aOCQAkVYEkU is age restricted, and can't be accessed without logging in.\n",
      "Error:oGTKW_UbusM oGTKW_UbusM is age restricted, and can't be accessed without logging in.\n",
      "Error:oGTKW_UbusM oGTKW_UbusM is age restricted, and can't be accessed without logging in.\n",
      "Error:66k8pcYkY3M 66k8pcYkY3M is age restricted, and can't be accessed without logging in.\n",
      "Error:66k8pcYkY3M 66k8pcYkY3M is age restricted, and can't be accessed without logging in.\n"
     ]
    }
   ],
   "source": [
    "for i in range(len(df)):\n",
    "    get_from_youtube(df['youtube_id'][i], df['id'][i], df['events'][i])"
   ]
  },
  {
   "cell_type": "code",
   "execution_count": 166,
   "id": "4055747b-becc-460b-8506-8b9f073c66de",
   "metadata": {},
   "outputs": [
    {
     "name": "stdout",
     "output_type": "stream",
     "text": [
      "Complete id_pose: 100\n",
      "Complete id_pose: 500\n",
      "Complete id_pose: 1000\n",
      "Complete id_pose: 1400\n",
      "Complete p_pose: P1\n",
      "Complete id_pose: 100\n",
      "Complete id_pose: 500\n",
      "Complete id_pose: 1000\n",
      "Complete id_pose: 1400\n",
      "Complete p_pose: P2\n",
      "Complete id_pose: 100\n",
      "Complete id_pose: 500\n",
      "Complete id_pose: 1000\n",
      "Complete id_pose: 1400\n",
      "Complete p_pose: P3\n",
      "Complete id_pose: 100\n",
      "Complete id_pose: 500\n",
      "Complete id_pose: 1000\n",
      "Complete id_pose: 1400\n",
      "Complete p_pose: P4\n",
      "Complete id_pose: 100\n",
      "Complete id_pose: 500\n",
      "Complete id_pose: 1000\n",
      "Complete id_pose: 1400\n",
      "Complete p_pose: P5\n",
      "Complete id_pose: 100\n",
      "Complete id_pose: 500\n",
      "Complete id_pose: 1000\n",
      "Complete id_pose: 1400\n",
      "Complete p_pose: P6\n",
      "Complete id_pose: 100\n",
      "Complete id_pose: 500\n",
      "Complete id_pose: 1000\n",
      "Complete id_pose: 1400\n",
      "Complete p_pose: P8\n",
      "Complete id_pose: 100\n",
      "Complete id_pose: 500\n",
      "Complete id_pose: 1000\n",
      "Complete id_pose: 1400\n",
      "Complete p_pose: P10\n"
     ]
    }
   ],
   "source": [
    "frame_p = ['P1', 'P2', 'P3', 'P4', 'P5', 'P6', 'P8', 'P10']\n",
    "data_set_all_pose = list()\n",
    "for p_pose in frame_p:\n",
    "    data_set_pose = list()\n",
    "    for id_pose in range(1485):\n",
    "        frame_train_path = f\"/Users/odner/Documents/Programming/Hackatons/Hack_24_08_2023/positions_of_the_golf_swing_train_frame/{p_pose}_{id_pose}.jpg\"\n",
    "        \n",
    "        if os.path.exists(frame_train_path):\n",
    "            frame_pose_image = cv2.imread(frame_train_path)\n",
    "            data_set_pose.append(frame_to_cord(frame_pose_image))\n",
    "        if id_pose in [100, 500, 1000, 1400]:\n",
    "            print(f'Complete id_pose: {id_pose}')\n",
    "\n",
    "    print(f'Complete p_pose: {p_pose}')\n",
    "    data_set_all_pose.append(data_set_pose)"
   ]
  },
  {
   "cell_type": "code",
   "execution_count": 167,
   "id": "2b4f7467-d04f-4a99-b4ad-17f431c3553d",
   "metadata": {},
   "outputs": [],
   "source": [
    " # Обучение системы на P-10 system"
   ]
  },
  {
   "cell_type": "code",
   "execution_count": 168,
   "id": "6862f094-4094-44c6-9635-f2376b0d978e",
   "metadata": {},
   "outputs": [
    {
     "name": "stdout",
     "output_type": "stream",
     "text": [
      "Requirement already satisfied: scikit-learn in /Users/odner/miniconda3/envs/torch/lib/python3.8/site-packages (1.3.0)\n",
      "Requirement already satisfied: numpy>=1.17.3 in /Users/odner/miniconda3/envs/torch/lib/python3.8/site-packages (from scikit-learn) (1.24.4)\n",
      "Requirement already satisfied: scipy>=1.5.0 in /Users/odner/miniconda3/envs/torch/lib/python3.8/site-packages (from scikit-learn) (1.10.1)\n",
      "Requirement already satisfied: joblib>=1.1.1 in /Users/odner/miniconda3/envs/torch/lib/python3.8/site-packages (from scikit-learn) (1.3.2)\n",
      "Requirement already satisfied: threadpoolctl>=2.0.0 in /Users/odner/miniconda3/envs/torch/lib/python3.8/site-packages (from scikit-learn) (3.2.0)\n"
     ]
    }
   ],
   "source": [
    "!pip install -U scikit-learn"
   ]
  },
  {
   "cell_type": "code",
   "execution_count": 169,
   "id": "43945f1c-ae1d-4d22-a4a7-39af2456a144",
   "metadata": {},
   "outputs": [],
   "source": [
    "from sklearn import svm\n",
    "from sklearn.utils import shuffle\n",
    "from sklearn.model_selection import train_test_split"
   ]
  },
  {
   "cell_type": "code",
   "execution_count": 170,
   "id": "78a0726d-d936-4a3b-b775-973d9affb9bd",
   "metadata": {},
   "outputs": [],
   "source": [
    "x_data_test = np.array(data_set_all_pose.copy())"
   ]
  },
  {
   "cell_type": "code",
   "execution_count": 171,
   "id": "f7b42fa9-583a-4a64-9522-55803016dff9",
   "metadata": {},
   "outputs": [
    {
     "data": {
      "text/plain": [
       "(8, 1424, 18, 2)"
      ]
     },
     "execution_count": 171,
     "metadata": {},
     "output_type": "execute_result"
    }
   ],
   "source": [
    "np.shape(x_data_test)"
   ]
  },
  {
   "cell_type": "code",
   "execution_count": 172,
   "id": "0977073d-74ff-4daf-8720-4045c35dfa93",
   "metadata": {},
   "outputs": [],
   "source": [
    "x=[]\n",
    "y=[]\n",
    "p_pose_element = [1, 2, 3, 4, 5, 6, 8, 10] # [1, 2, 3, 4, 5, 6, 8, 10]\n",
    "counter = 0\n",
    "\n",
    "for p_pose_data in x_data_test:\n",
    "    for pic in p_pose_data:\n",
    "        dots=[]\n",
    "        for i in range(18):\n",
    "            dots.append(pic[i][0])\n",
    "            dots.append(pic[i][1])\n",
    "        x.append(dots)\n",
    "        y.append(counter)\n",
    "    counter+=1"
   ]
  },
  {
   "cell_type": "code",
   "execution_count": 213,
   "id": "09eb32a0-92f7-48fe-8bbf-fb5cae91af9e",
   "metadata": {},
   "outputs": [],
   "source": [
    "x_data = x.copy()\n",
    "y_data = y.copy()"
   ]
  },
  {
   "cell_type": "code",
   "execution_count": 214,
   "id": "5fcdf963-74e7-4064-854e-79bdc3d39680",
   "metadata": {},
   "outputs": [
    {
     "name": "stdout",
     "output_type": "stream",
     "text": [
      "(11392, 36)\n",
      "(11392,)\n"
     ]
    }
   ],
   "source": [
    "print(np.asarray(x_data).shape)\n",
    "print(np.asarray(y_data).shape)"
   ]
  },
  {
   "cell_type": "code",
   "execution_count": 215,
   "id": "a0c18bb9-c43a-496b-8d7b-d5f4258bab0c",
   "metadata": {},
   "outputs": [
    {
     "name": "stderr",
     "output_type": "stream",
     "text": [
      "IOPub data rate exceeded.\n",
      "The Jupyter server will temporarily stop sending output\n",
      "to the client in order to avoid crashing it.\n",
      "To change this limit, set the config variable\n",
      "`--ServerApp.iopub_data_rate_limit`.\n",
      "\n",
      "Current values:\n",
      "ServerApp.iopub_data_rate_limit=1000000.0 (bytes/sec)\n",
      "ServerApp.rate_limit_window=3.0 (secs)\n",
      "\n"
     ]
    }
   ],
   "source": [
    "print(x_data)\n",
    "print(y_data)"
   ]
  },
  {
   "cell_type": "code",
   "execution_count": 216,
   "id": "e794923d-d318-46ca-95a4-ca3c484a1651",
   "metadata": {},
   "outputs": [],
   "source": [
    "np.save(\"/Users/odner/Documents/Programming/Hackatons/Hack_24_08_2023/data/x_data.npy\", x_data)\n",
    "np.save(\"/Users/odner/Documents/Programming/Hackatons/Hack_24_08_2023/data/y_data.npy\", y_data)"
   ]
  },
  {
   "cell_type": "code",
   "execution_count": 217,
   "id": "e14437ab-6830-4f7b-a1a7-47e52c30108a",
   "metadata": {},
   "outputs": [],
   "source": [
    "x_data = np.load(\"/Users/odner/Documents/Programming/Hackatons/Hack_24_08_2023/data/x_data.npy\")\n",
    "y_data = np.load(\"/Users/odner/Documents/Programming/Hackatons/Hack_24_08_2023/data/y_data.npy\")"
   ]
  },
  {
   "cell_type": "code",
   "execution_count": 623,
   "id": "23a0cf47-0711-4470-a467-bfe3b889f43e",
   "metadata": {},
   "outputs": [],
   "source": [
    "x_data, y_data = shuffle(x_data, y_data)\n",
    "x_train, x_test, y_train, y_test = train_test_split(x_data, y_data, test_size=0.01, random_state=21)"
   ]
  },
  {
   "cell_type": "code",
   "execution_count": 626,
   "id": "d8b7a3ac-5363-4d08-b315-3b3d63e7a88a",
   "metadata": {
    "scrolled": true
   },
   "outputs": [
    {
     "data": {
      "text/html": [
       "<style>#sk-container-id-155 {color: black;}#sk-container-id-155 pre{padding: 0;}#sk-container-id-155 div.sk-toggleable {background-color: white;}#sk-container-id-155 label.sk-toggleable__label {cursor: pointer;display: block;width: 100%;margin-bottom: 0;padding: 0.3em;box-sizing: border-box;text-align: center;}#sk-container-id-155 label.sk-toggleable__label-arrow:before {content: \"▸\";float: left;margin-right: 0.25em;color: #696969;}#sk-container-id-155 label.sk-toggleable__label-arrow:hover:before {color: black;}#sk-container-id-155 div.sk-estimator:hover label.sk-toggleable__label-arrow:before {color: black;}#sk-container-id-155 div.sk-toggleable__content {max-height: 0;max-width: 0;overflow: hidden;text-align: left;background-color: #f0f8ff;}#sk-container-id-155 div.sk-toggleable__content pre {margin: 0.2em;color: black;border-radius: 0.25em;background-color: #f0f8ff;}#sk-container-id-155 input.sk-toggleable__control:checked~div.sk-toggleable__content {max-height: 200px;max-width: 100%;overflow: auto;}#sk-container-id-155 input.sk-toggleable__control:checked~label.sk-toggleable__label-arrow:before {content: \"▾\";}#sk-container-id-155 div.sk-estimator input.sk-toggleable__control:checked~label.sk-toggleable__label {background-color: #d4ebff;}#sk-container-id-155 div.sk-label input.sk-toggleable__control:checked~label.sk-toggleable__label {background-color: #d4ebff;}#sk-container-id-155 input.sk-hidden--visually {border: 0;clip: rect(1px 1px 1px 1px);clip: rect(1px, 1px, 1px, 1px);height: 1px;margin: -1px;overflow: hidden;padding: 0;position: absolute;width: 1px;}#sk-container-id-155 div.sk-estimator {font-family: monospace;background-color: #f0f8ff;border: 1px dotted black;border-radius: 0.25em;box-sizing: border-box;margin-bottom: 0.5em;}#sk-container-id-155 div.sk-estimator:hover {background-color: #d4ebff;}#sk-container-id-155 div.sk-parallel-item::after {content: \"\";width: 100%;border-bottom: 1px solid gray;flex-grow: 1;}#sk-container-id-155 div.sk-label:hover label.sk-toggleable__label {background-color: #d4ebff;}#sk-container-id-155 div.sk-serial::before {content: \"\";position: absolute;border-left: 1px solid gray;box-sizing: border-box;top: 0;bottom: 0;left: 50%;z-index: 0;}#sk-container-id-155 div.sk-serial {display: flex;flex-direction: column;align-items: center;background-color: white;padding-right: 0.2em;padding-left: 0.2em;position: relative;}#sk-container-id-155 div.sk-item {position: relative;z-index: 1;}#sk-container-id-155 div.sk-parallel {display: flex;align-items: stretch;justify-content: center;background-color: white;position: relative;}#sk-container-id-155 div.sk-item::before, #sk-container-id-155 div.sk-parallel-item::before {content: \"\";position: absolute;border-left: 1px solid gray;box-sizing: border-box;top: 0;bottom: 0;left: 50%;z-index: -1;}#sk-container-id-155 div.sk-parallel-item {display: flex;flex-direction: column;z-index: 1;position: relative;background-color: white;}#sk-container-id-155 div.sk-parallel-item:first-child::after {align-self: flex-end;width: 50%;}#sk-container-id-155 div.sk-parallel-item:last-child::after {align-self: flex-start;width: 50%;}#sk-container-id-155 div.sk-parallel-item:only-child::after {width: 0;}#sk-container-id-155 div.sk-dashed-wrapped {border: 1px dashed gray;margin: 0 0.4em 0.5em 0.4em;box-sizing: border-box;padding-bottom: 0.4em;background-color: white;}#sk-container-id-155 div.sk-label label {font-family: monospace;font-weight: bold;display: inline-block;line-height: 1.2em;}#sk-container-id-155 div.sk-label-container {text-align: center;}#sk-container-id-155 div.sk-container {/* jupyter's `normalize.less` sets `[hidden] { display: none; }` but bootstrap.min.css set `[hidden] { display: none !important; }` so we also need the `!important` here to be able to override the default hidden behavior on the sphinx rendered scikit-learn.org. See: https://github.com/scikit-learn/scikit-learn/issues/21755 */display: inline-block !important;position: relative;}#sk-container-id-155 div.sk-text-repr-fallback {display: none;}</style><div id=\"sk-container-id-155\" class=\"sk-top-container\"><div class=\"sk-text-repr-fallback\"><pre>SVC(kernel=&#x27;poly&#x27;, probability=True)</pre><b>In a Jupyter environment, please rerun this cell to show the HTML representation or trust the notebook. <br />On GitHub, the HTML representation is unable to render, please try loading this page with nbviewer.org.</b></div><div class=\"sk-container\" hidden><div class=\"sk-item\"><div class=\"sk-estimator sk-toggleable\"><input class=\"sk-toggleable__control sk-hidden--visually\" id=\"sk-estimator-id-157\" type=\"checkbox\" checked><label for=\"sk-estimator-id-157\" class=\"sk-toggleable__label sk-toggleable__label-arrow\">SVC</label><div class=\"sk-toggleable__content\"><pre>SVC(kernel=&#x27;poly&#x27;, probability=True)</pre></div></div></div></div></div>"
      ],
      "text/plain": [
       "SVC(kernel='poly', probability=True)"
      ]
     },
     "execution_count": 626,
     "metadata": {},
     "output_type": "execute_result"
    }
   ],
   "source": [
    "lin_clf = svm.SVC(kernel='poly', probability=True)\n",
    "lin_clf.fit(x_train, y_train)"
   ]
  },
  {
   "cell_type": "code",
   "execution_count": 627,
   "id": "4a54cbe3-f92b-4bf0-a5bb-c5c79fb142e7",
   "metadata": {
    "scrolled": true
   },
   "outputs": [
    {
     "name": "stdout",
     "output_type": "stream",
     "text": [
      "0.8421052631578947\n"
     ]
    }
   ],
   "source": [
    "import numpy as np\n",
    "correct = 0\n",
    "y_test, x_test = y_test, x_test\n",
    "\n",
    "\n",
    "for i in range(len(x_test)):\n",
    "    dec = lin_clf.predict([x_test[i]])\n",
    "    if dec==y_test[i]: correct+=1\n",
    "print(correct/len(x_test))"
   ]
  },
  {
   "cell_type": "code",
   "execution_count": 628,
   "id": "2c320d19-862c-4e61-a6e9-307beee5e30f",
   "metadata": {},
   "outputs": [],
   "source": [
    "with open('./model_pose_842.pkl','wb') as f:\n",
    "    pickle.dump(lin_clf, f)"
   ]
  },
  {
   "cell_type": "code",
   "execution_count": 263,
   "id": "209b913d-4f15-44e0-aaba-c950928e74d7",
   "metadata": {},
   "outputs": [
    {
     "data": {
      "text/plain": [
       "array([2])"
      ]
     },
     "execution_count": 263,
     "metadata": {},
     "output_type": "execute_result"
    }
   ],
   "source": [
    "lin_clf.predict([x_test[3]])"
   ]
  },
  {
   "cell_type": "code",
   "execution_count": 201,
   "id": "4dae4e7c-6b54-4258-8e13-47c6621b3d09",
   "metadata": {},
   "outputs": [
    {
     "ename": "AttributeError",
     "evalue": "predict_proba is not available when  probability=False",
     "output_type": "error",
     "traceback": [
      "\u001b[0;31m---------------------------------------------------------------------------\u001b[0m",
      "\u001b[0;31mAttributeError\u001b[0m                            Traceback (most recent call last)",
      "Cell \u001b[0;32mIn[201], line 1\u001b[0m\n\u001b[0;32m----> 1\u001b[0m probabilities \u001b[38;5;241m=\u001b[39m \u001b[43mlin_clf\u001b[49m\u001b[38;5;241;43m.\u001b[39;49m\u001b[43mpredict_proba\u001b[49m([x_test[\u001b[38;5;241m1\u001b[39m]])\n",
      "File \u001b[0;32m~/miniconda3/envs/torch/lib/python3.8/site-packages/sklearn/utils/_available_if.py:31\u001b[0m, in \u001b[0;36m_AvailableIfDescriptor.__get__\u001b[0;34m(self, obj, owner)\u001b[0m\n\u001b[1;32m     25\u001b[0m attr_err \u001b[38;5;241m=\u001b[39m \u001b[38;5;167;01mAttributeError\u001b[39;00m(\n\u001b[1;32m     26\u001b[0m     \u001b[38;5;124mf\u001b[39m\u001b[38;5;124m\"\u001b[39m\u001b[38;5;124mThis \u001b[39m\u001b[38;5;132;01m{\u001b[39;00m\u001b[38;5;28mrepr\u001b[39m(owner\u001b[38;5;241m.\u001b[39m\u001b[38;5;18m__name__\u001b[39m)\u001b[38;5;132;01m}\u001b[39;00m\u001b[38;5;124m has no attribute \u001b[39m\u001b[38;5;132;01m{\u001b[39;00m\u001b[38;5;28mrepr\u001b[39m(\u001b[38;5;28mself\u001b[39m\u001b[38;5;241m.\u001b[39mattribute_name)\u001b[38;5;132;01m}\u001b[39;00m\u001b[38;5;124m\"\u001b[39m\n\u001b[1;32m     27\u001b[0m )\n\u001b[1;32m     28\u001b[0m \u001b[38;5;28;01mif\u001b[39;00m obj \u001b[38;5;129;01mis\u001b[39;00m \u001b[38;5;129;01mnot\u001b[39;00m \u001b[38;5;28;01mNone\u001b[39;00m:\n\u001b[1;32m     29\u001b[0m     \u001b[38;5;66;03m# delegate only on instances, not the classes.\u001b[39;00m\n\u001b[1;32m     30\u001b[0m     \u001b[38;5;66;03m# this is to allow access to the docstrings.\u001b[39;00m\n\u001b[0;32m---> 31\u001b[0m     \u001b[38;5;28;01mif\u001b[39;00m \u001b[38;5;129;01mnot\u001b[39;00m \u001b[38;5;28;43mself\u001b[39;49m\u001b[38;5;241;43m.\u001b[39;49m\u001b[43mcheck\u001b[49m\u001b[43m(\u001b[49m\u001b[43mobj\u001b[49m\u001b[43m)\u001b[49m:\n\u001b[1;32m     32\u001b[0m         \u001b[38;5;28;01mraise\u001b[39;00m attr_err\n\u001b[1;32m     33\u001b[0m     out \u001b[38;5;241m=\u001b[39m MethodType(\u001b[38;5;28mself\u001b[39m\u001b[38;5;241m.\u001b[39mfn, obj)\n",
      "File \u001b[0;32m~/miniconda3/envs/torch/lib/python3.8/site-packages/sklearn/svm/_base.py:827\u001b[0m, in \u001b[0;36mBaseSVC._check_proba\u001b[0;34m(self)\u001b[0m\n\u001b[1;32m    825\u001b[0m \u001b[38;5;28;01mdef\u001b[39;00m \u001b[38;5;21m_check_proba\u001b[39m(\u001b[38;5;28mself\u001b[39m):\n\u001b[1;32m    826\u001b[0m     \u001b[38;5;28;01mif\u001b[39;00m \u001b[38;5;129;01mnot\u001b[39;00m \u001b[38;5;28mself\u001b[39m\u001b[38;5;241m.\u001b[39mprobability:\n\u001b[0;32m--> 827\u001b[0m         \u001b[38;5;28;01mraise\u001b[39;00m \u001b[38;5;167;01mAttributeError\u001b[39;00m(\n\u001b[1;32m    828\u001b[0m             \u001b[38;5;124m\"\u001b[39m\u001b[38;5;124mpredict_proba is not available when  probability=False\u001b[39m\u001b[38;5;124m\"\u001b[39m\n\u001b[1;32m    829\u001b[0m         )\n\u001b[1;32m    830\u001b[0m     \u001b[38;5;28;01mif\u001b[39;00m \u001b[38;5;28mself\u001b[39m\u001b[38;5;241m.\u001b[39m_impl \u001b[38;5;129;01mnot\u001b[39;00m \u001b[38;5;129;01min\u001b[39;00m (\u001b[38;5;124m\"\u001b[39m\u001b[38;5;124mc_svc\u001b[39m\u001b[38;5;124m\"\u001b[39m, \u001b[38;5;124m\"\u001b[39m\u001b[38;5;124mnu_svc\u001b[39m\u001b[38;5;124m\"\u001b[39m):\n\u001b[1;32m    831\u001b[0m         \u001b[38;5;28;01mraise\u001b[39;00m \u001b[38;5;167;01mAttributeError\u001b[39;00m(\u001b[38;5;124m\"\u001b[39m\u001b[38;5;124mpredict_proba only implemented for SVC and NuSVC\u001b[39m\u001b[38;5;124m\"\u001b[39m)\n",
      "\u001b[0;31mAttributeError\u001b[0m: predict_proba is not available when  probability=False"
     ]
    }
   ],
   "source": [
    "probabilities = lin_clf.predict_proba([x_test[1]])"
   ]
  },
  {
   "cell_type": "code",
   "execution_count": 193,
   "id": "c578c9c4-0f6c-45ef-8464-783ae53f6bb7",
   "metadata": {},
   "outputs": [
    {
     "data": {
      "text/plain": [
       "array([[9.81271248e-05, 1.09871462e-04, 1.95275531e-02, 9.53624469e-01,\n",
       "        1.51357147e-02, 9.20989069e-03, 1.61675969e-03, 6.77613802e-04]])"
      ]
     },
     "execution_count": 193,
     "metadata": {},
     "output_type": "execute_result"
    }
   ],
   "source": [
    "probabilities"
   ]
  },
  {
   "cell_type": "code",
   "execution_count": 194,
   "id": "97af5aaa-479e-4154-96d0-efe3a0936cb9",
   "metadata": {},
   "outputs": [
    {
     "data": {
      "text/plain": [
       "array([[  2.52525599,   3.7340236 , 100.        ,   0.33583257,\n",
       "          0.        ,   3.63214951,   0.11160011,   0.11570045]])"
      ]
     },
     "execution_count": 194,
     "metadata": {},
     "output_type": "execute_result"
    }
   ],
   "source": [
    "normalized_probabilities"
   ]
  },
  {
   "cell_type": "code",
   "execution_count": 195,
   "id": "9193d181-8c23-4d84-99e2-46b7636e1a9a",
   "metadata": {},
   "outputs": [
    {
     "data": {
      "text/plain": [
       "1"
      ]
     },
     "execution_count": 195,
     "metadata": {},
     "output_type": "execute_result"
    }
   ],
   "source": [
    "y_test[3]"
   ]
  },
  {
   "cell_type": "code",
   "execution_count": 196,
   "id": "69441691-6a52-4412-9f9d-6c01e64ee6fc",
   "metadata": {},
   "outputs": [],
   "source": [
    "import pickle"
   ]
  },
  {
   "cell_type": "code",
   "execution_count": 619,
   "id": "8c6700df-13d7-45df-a398-9c024eb27461",
   "metadata": {},
   "outputs": [
    {
     "data": {
      "text/html": [
       "<style>#sk-container-id-152 {color: black;}#sk-container-id-152 pre{padding: 0;}#sk-container-id-152 div.sk-toggleable {background-color: white;}#sk-container-id-152 label.sk-toggleable__label {cursor: pointer;display: block;width: 100%;margin-bottom: 0;padding: 0.3em;box-sizing: border-box;text-align: center;}#sk-container-id-152 label.sk-toggleable__label-arrow:before {content: \"▸\";float: left;margin-right: 0.25em;color: #696969;}#sk-container-id-152 label.sk-toggleable__label-arrow:hover:before {color: black;}#sk-container-id-152 div.sk-estimator:hover label.sk-toggleable__label-arrow:before {color: black;}#sk-container-id-152 div.sk-toggleable__content {max-height: 0;max-width: 0;overflow: hidden;text-align: left;background-color: #f0f8ff;}#sk-container-id-152 div.sk-toggleable__content pre {margin: 0.2em;color: black;border-radius: 0.25em;background-color: #f0f8ff;}#sk-container-id-152 input.sk-toggleable__control:checked~div.sk-toggleable__content {max-height: 200px;max-width: 100%;overflow: auto;}#sk-container-id-152 input.sk-toggleable__control:checked~label.sk-toggleable__label-arrow:before {content: \"▾\";}#sk-container-id-152 div.sk-estimator input.sk-toggleable__control:checked~label.sk-toggleable__label {background-color: #d4ebff;}#sk-container-id-152 div.sk-label input.sk-toggleable__control:checked~label.sk-toggleable__label {background-color: #d4ebff;}#sk-container-id-152 input.sk-hidden--visually {border: 0;clip: rect(1px 1px 1px 1px);clip: rect(1px, 1px, 1px, 1px);height: 1px;margin: -1px;overflow: hidden;padding: 0;position: absolute;width: 1px;}#sk-container-id-152 div.sk-estimator {font-family: monospace;background-color: #f0f8ff;border: 1px dotted black;border-radius: 0.25em;box-sizing: border-box;margin-bottom: 0.5em;}#sk-container-id-152 div.sk-estimator:hover {background-color: #d4ebff;}#sk-container-id-152 div.sk-parallel-item::after {content: \"\";width: 100%;border-bottom: 1px solid gray;flex-grow: 1;}#sk-container-id-152 div.sk-label:hover label.sk-toggleable__label {background-color: #d4ebff;}#sk-container-id-152 div.sk-serial::before {content: \"\";position: absolute;border-left: 1px solid gray;box-sizing: border-box;top: 0;bottom: 0;left: 50%;z-index: 0;}#sk-container-id-152 div.sk-serial {display: flex;flex-direction: column;align-items: center;background-color: white;padding-right: 0.2em;padding-left: 0.2em;position: relative;}#sk-container-id-152 div.sk-item {position: relative;z-index: 1;}#sk-container-id-152 div.sk-parallel {display: flex;align-items: stretch;justify-content: center;background-color: white;position: relative;}#sk-container-id-152 div.sk-item::before, #sk-container-id-152 div.sk-parallel-item::before {content: \"\";position: absolute;border-left: 1px solid gray;box-sizing: border-box;top: 0;bottom: 0;left: 50%;z-index: -1;}#sk-container-id-152 div.sk-parallel-item {display: flex;flex-direction: column;z-index: 1;position: relative;background-color: white;}#sk-container-id-152 div.sk-parallel-item:first-child::after {align-self: flex-end;width: 50%;}#sk-container-id-152 div.sk-parallel-item:last-child::after {align-self: flex-start;width: 50%;}#sk-container-id-152 div.sk-parallel-item:only-child::after {width: 0;}#sk-container-id-152 div.sk-dashed-wrapped {border: 1px dashed gray;margin: 0 0.4em 0.5em 0.4em;box-sizing: border-box;padding-bottom: 0.4em;background-color: white;}#sk-container-id-152 div.sk-label label {font-family: monospace;font-weight: bold;display: inline-block;line-height: 1.2em;}#sk-container-id-152 div.sk-label-container {text-align: center;}#sk-container-id-152 div.sk-container {/* jupyter's `normalize.less` sets `[hidden] { display: none; }` but bootstrap.min.css set `[hidden] { display: none !important; }` so we also need the `!important` here to be able to override the default hidden behavior on the sphinx rendered scikit-learn.org. See: https://github.com/scikit-learn/scikit-learn/issues/21755 */display: inline-block !important;position: relative;}#sk-container-id-152 div.sk-text-repr-fallback {display: none;}</style><div id=\"sk-container-id-152\" class=\"sk-top-container\"><div class=\"sk-text-repr-fallback\"><pre>SVC(kernel=&#x27;poly&#x27;, probability=True)</pre><b>In a Jupyter environment, please rerun this cell to show the HTML representation or trust the notebook. <br />On GitHub, the HTML representation is unable to render, please try loading this page with nbviewer.org.</b></div><div class=\"sk-container\" hidden><div class=\"sk-item\"><div class=\"sk-estimator sk-toggleable\"><input class=\"sk-toggleable__control sk-hidden--visually\" id=\"sk-estimator-id-154\" type=\"checkbox\" checked><label for=\"sk-estimator-id-154\" class=\"sk-toggleable__label sk-toggleable__label-arrow\">SVC</label><div class=\"sk-toggleable__content\"><pre>SVC(kernel=&#x27;poly&#x27;, probability=True)</pre></div></div></div></div></div>"
      ],
      "text/plain": [
       "SVC(kernel='poly', probability=True)"
      ]
     },
     "execution_count": 619,
     "metadata": {},
     "output_type": "execute_result"
    }
   ],
   "source": [
    "np.load('./model_pose_833.pkl', allow_pickle=True)"
   ]
  },
  {
   "cell_type": "code",
   "execution_count": 382,
   "id": "0fd3616b-2497-4f1e-8ee2-e7665db65811",
   "metadata": {},
   "outputs": [
    {
     "ename": "AttributeError",
     "evalue": "predict_proba is not available when  probability=False",
     "output_type": "error",
     "traceback": [
      "\u001b[0;31m---------------------------------------------------------------------------\u001b[0m",
      "\u001b[0;31mAttributeError\u001b[0m                            Traceback (most recent call last)",
      "Cell \u001b[0;32mIn[382], line 3\u001b[0m\n\u001b[1;32m      1\u001b[0m \u001b[38;5;28;01mwith\u001b[39;00m \u001b[38;5;28mopen\u001b[39m(\u001b[38;5;124m'\u001b[39m\u001b[38;5;124m./model_pose_833.pkl\u001b[39m\u001b[38;5;124m'\u001b[39m,\u001b[38;5;124m'\u001b[39m\u001b[38;5;124mwb\u001b[39m\u001b[38;5;124m'\u001b[39m) \u001b[38;5;28;01mas\u001b[39;00m f:\n\u001b[1;32m      2\u001b[0m     pickle\u001b[38;5;241m.\u001b[39mdump(lin_clf, f)\n\u001b[0;32m----> 3\u001b[0m     \u001b[43mlin_clf\u001b[49m\u001b[38;5;241;43m.\u001b[39;49m\u001b[43mpredict_proba\u001b[49m([x_test[\u001b[38;5;241m1\u001b[39m]])\n",
      "File \u001b[0;32m~/miniconda3/envs/torch/lib/python3.8/site-packages/sklearn/utils/_available_if.py:31\u001b[0m, in \u001b[0;36m_AvailableIfDescriptor.__get__\u001b[0;34m(self, obj, owner)\u001b[0m\n\u001b[1;32m     25\u001b[0m attr_err \u001b[38;5;241m=\u001b[39m \u001b[38;5;167;01mAttributeError\u001b[39;00m(\n\u001b[1;32m     26\u001b[0m     \u001b[38;5;124mf\u001b[39m\u001b[38;5;124m\"\u001b[39m\u001b[38;5;124mThis \u001b[39m\u001b[38;5;132;01m{\u001b[39;00m\u001b[38;5;28mrepr\u001b[39m(owner\u001b[38;5;241m.\u001b[39m\u001b[38;5;18m__name__\u001b[39m)\u001b[38;5;132;01m}\u001b[39;00m\u001b[38;5;124m has no attribute \u001b[39m\u001b[38;5;132;01m{\u001b[39;00m\u001b[38;5;28mrepr\u001b[39m(\u001b[38;5;28mself\u001b[39m\u001b[38;5;241m.\u001b[39mattribute_name)\u001b[38;5;132;01m}\u001b[39;00m\u001b[38;5;124m\"\u001b[39m\n\u001b[1;32m     27\u001b[0m )\n\u001b[1;32m     28\u001b[0m \u001b[38;5;28;01mif\u001b[39;00m obj \u001b[38;5;129;01mis\u001b[39;00m \u001b[38;5;129;01mnot\u001b[39;00m \u001b[38;5;28;01mNone\u001b[39;00m:\n\u001b[1;32m     29\u001b[0m     \u001b[38;5;66;03m# delegate only on instances, not the classes.\u001b[39;00m\n\u001b[1;32m     30\u001b[0m     \u001b[38;5;66;03m# this is to allow access to the docstrings.\u001b[39;00m\n\u001b[0;32m---> 31\u001b[0m     \u001b[38;5;28;01mif\u001b[39;00m \u001b[38;5;129;01mnot\u001b[39;00m \u001b[38;5;28;43mself\u001b[39;49m\u001b[38;5;241;43m.\u001b[39;49m\u001b[43mcheck\u001b[49m\u001b[43m(\u001b[49m\u001b[43mobj\u001b[49m\u001b[43m)\u001b[49m:\n\u001b[1;32m     32\u001b[0m         \u001b[38;5;28;01mraise\u001b[39;00m attr_err\n\u001b[1;32m     33\u001b[0m     out \u001b[38;5;241m=\u001b[39m MethodType(\u001b[38;5;28mself\u001b[39m\u001b[38;5;241m.\u001b[39mfn, obj)\n",
      "File \u001b[0;32m~/miniconda3/envs/torch/lib/python3.8/site-packages/sklearn/svm/_base.py:827\u001b[0m, in \u001b[0;36mBaseSVC._check_proba\u001b[0;34m(self)\u001b[0m\n\u001b[1;32m    825\u001b[0m \u001b[38;5;28;01mdef\u001b[39;00m \u001b[38;5;21m_check_proba\u001b[39m(\u001b[38;5;28mself\u001b[39m):\n\u001b[1;32m    826\u001b[0m     \u001b[38;5;28;01mif\u001b[39;00m \u001b[38;5;129;01mnot\u001b[39;00m \u001b[38;5;28mself\u001b[39m\u001b[38;5;241m.\u001b[39mprobability:\n\u001b[0;32m--> 827\u001b[0m         \u001b[38;5;28;01mraise\u001b[39;00m \u001b[38;5;167;01mAttributeError\u001b[39;00m(\n\u001b[1;32m    828\u001b[0m             \u001b[38;5;124m\"\u001b[39m\u001b[38;5;124mpredict_proba is not available when  probability=False\u001b[39m\u001b[38;5;124m\"\u001b[39m\n\u001b[1;32m    829\u001b[0m         )\n\u001b[1;32m    830\u001b[0m     \u001b[38;5;28;01mif\u001b[39;00m \u001b[38;5;28mself\u001b[39m\u001b[38;5;241m.\u001b[39m_impl \u001b[38;5;129;01mnot\u001b[39;00m \u001b[38;5;129;01min\u001b[39;00m (\u001b[38;5;124m\"\u001b[39m\u001b[38;5;124mc_svc\u001b[39m\u001b[38;5;124m\"\u001b[39m, \u001b[38;5;124m\"\u001b[39m\u001b[38;5;124mnu_svc\u001b[39m\u001b[38;5;124m\"\u001b[39m):\n\u001b[1;32m    831\u001b[0m         \u001b[38;5;28;01mraise\u001b[39;00m \u001b[38;5;167;01mAttributeError\u001b[39;00m(\u001b[38;5;124m\"\u001b[39m\u001b[38;5;124mpredict_proba only implemented for SVC and NuSVC\u001b[39m\u001b[38;5;124m\"\u001b[39m)\n",
      "\u001b[0;31mAttributeError\u001b[0m: predict_proba is not available when  probability=False"
     ]
    }
   ],
   "source": [
    "with open('./model_pose_833.pkl','wb') as f:\n",
    "    pickle.dump(lin_clf, f)\n",
    "    lin_clf.predict_proba([x_test[1]])"
   ]
  },
  {
   "cell_type": "code",
   "execution_count": null,
   "id": "5f1a6cf9-3543-4ac2-8bb0-13187ac8f4ee",
   "metadata": {},
   "outputs": [],
   "source": []
  },
  {
   "cell_type": "code",
   "execution_count": 137,
   "id": "70dbe38e-b72a-466a-96c4-9f342fabfcb2",
   "metadata": {},
   "outputs": [
    {
     "name": "stdout",
     "output_type": "stream",
     "text": [
      "0.7719298245614035\n"
     ]
    }
   ],
   "source": [
    "import numpy as np\n",
    "correct = 0\n",
    "y_test, x_test = y_test, x_test\n",
    "\n",
    "\n",
    "for i in range(len(x_test)):\n",
    "    dec = lin_clf.predict([x_test[i]])\n",
    "    if dec==y_test[i]: correct+=1\n",
    "print(correct/len(x_test))"
   ]
  },
  {
   "cell_type": "code",
   "execution_count": 138,
   "id": "4a9cfd95-dd06-4e2a-8682-23dfb8f5b7ac",
   "metadata": {},
   "outputs": [],
   "source": [
    "x_data = np.load(\"/Users/odner/Documents/Programming/Hackatons/Hack_24_08_2023/data/x_data.npy\")\n",
    "y_data = np.load(\"/Users/odner/Documents/Programming/Hackatons/Hack_24_08_2023/data/y_data.npy\")"
   ]
  },
  {
   "cell_type": "code",
   "execution_count": 41,
   "id": "89cf2394-cf52-47c9-bd16-6b9bed920d09",
   "metadata": {},
   "outputs": [],
   "source": [
    "x_data, y_data = shuffle(x_data, y_data)\n",
    "x_train, x_test, y_train, y_test = train_test_split(x_data, y_data, test_size=0.01, random_state=21)"
   ]
  },
  {
   "cell_type": "code",
   "execution_count": 42,
   "id": "c03bbe5d-5a6a-4efa-ad18-4086cbc10f69",
   "metadata": {},
   "outputs": [
    {
     "name": "stdout",
     "output_type": "stream",
     "text": [
      "(11392, 36)\n"
     ]
    }
   ],
   "source": [
    "print(np.asarray(x_data).shape)"
   ]
  },
  {
   "cell_type": "code",
   "execution_count": 43,
   "id": "1d1199f8-9d7e-4d5d-b9d9-ea1f57aab8b5",
   "metadata": {},
   "outputs": [],
   "source": [
    "from sklearn import svm\n",
    "from sklearn.calibration import CalibratedClassifierCV"
   ]
  },
  {
   "cell_type": "code",
   "execution_count": 44,
   "id": "58d50d47-350d-42e7-af51-f5cbd84729c9",
   "metadata": {},
   "outputs": [
    {
     "data": {
      "text/html": [
       "<style>#sk-container-id-3 {color: black;}#sk-container-id-3 pre{padding: 0;}#sk-container-id-3 div.sk-toggleable {background-color: white;}#sk-container-id-3 label.sk-toggleable__label {cursor: pointer;display: block;width: 100%;margin-bottom: 0;padding: 0.3em;box-sizing: border-box;text-align: center;}#sk-container-id-3 label.sk-toggleable__label-arrow:before {content: \"▸\";float: left;margin-right: 0.25em;color: #696969;}#sk-container-id-3 label.sk-toggleable__label-arrow:hover:before {color: black;}#sk-container-id-3 div.sk-estimator:hover label.sk-toggleable__label-arrow:before {color: black;}#sk-container-id-3 div.sk-toggleable__content {max-height: 0;max-width: 0;overflow: hidden;text-align: left;background-color: #f0f8ff;}#sk-container-id-3 div.sk-toggleable__content pre {margin: 0.2em;color: black;border-radius: 0.25em;background-color: #f0f8ff;}#sk-container-id-3 input.sk-toggleable__control:checked~div.sk-toggleable__content {max-height: 200px;max-width: 100%;overflow: auto;}#sk-container-id-3 input.sk-toggleable__control:checked~label.sk-toggleable__label-arrow:before {content: \"▾\";}#sk-container-id-3 div.sk-estimator input.sk-toggleable__control:checked~label.sk-toggleable__label {background-color: #d4ebff;}#sk-container-id-3 div.sk-label input.sk-toggleable__control:checked~label.sk-toggleable__label {background-color: #d4ebff;}#sk-container-id-3 input.sk-hidden--visually {border: 0;clip: rect(1px 1px 1px 1px);clip: rect(1px, 1px, 1px, 1px);height: 1px;margin: -1px;overflow: hidden;padding: 0;position: absolute;width: 1px;}#sk-container-id-3 div.sk-estimator {font-family: monospace;background-color: #f0f8ff;border: 1px dotted black;border-radius: 0.25em;box-sizing: border-box;margin-bottom: 0.5em;}#sk-container-id-3 div.sk-estimator:hover {background-color: #d4ebff;}#sk-container-id-3 div.sk-parallel-item::after {content: \"\";width: 100%;border-bottom: 1px solid gray;flex-grow: 1;}#sk-container-id-3 div.sk-label:hover label.sk-toggleable__label {background-color: #d4ebff;}#sk-container-id-3 div.sk-serial::before {content: \"\";position: absolute;border-left: 1px solid gray;box-sizing: border-box;top: 0;bottom: 0;left: 50%;z-index: 0;}#sk-container-id-3 div.sk-serial {display: flex;flex-direction: column;align-items: center;background-color: white;padding-right: 0.2em;padding-left: 0.2em;position: relative;}#sk-container-id-3 div.sk-item {position: relative;z-index: 1;}#sk-container-id-3 div.sk-parallel {display: flex;align-items: stretch;justify-content: center;background-color: white;position: relative;}#sk-container-id-3 div.sk-item::before, #sk-container-id-3 div.sk-parallel-item::before {content: \"\";position: absolute;border-left: 1px solid gray;box-sizing: border-box;top: 0;bottom: 0;left: 50%;z-index: -1;}#sk-container-id-3 div.sk-parallel-item {display: flex;flex-direction: column;z-index: 1;position: relative;background-color: white;}#sk-container-id-3 div.sk-parallel-item:first-child::after {align-self: flex-end;width: 50%;}#sk-container-id-3 div.sk-parallel-item:last-child::after {align-self: flex-start;width: 50%;}#sk-container-id-3 div.sk-parallel-item:only-child::after {width: 0;}#sk-container-id-3 div.sk-dashed-wrapped {border: 1px dashed gray;margin: 0 0.4em 0.5em 0.4em;box-sizing: border-box;padding-bottom: 0.4em;background-color: white;}#sk-container-id-3 div.sk-label label {font-family: monospace;font-weight: bold;display: inline-block;line-height: 1.2em;}#sk-container-id-3 div.sk-label-container {text-align: center;}#sk-container-id-3 div.sk-container {/* jupyter's `normalize.less` sets `[hidden] { display: none; }` but bootstrap.min.css set `[hidden] { display: none !important; }` so we also need the `!important` here to be able to override the default hidden behavior on the sphinx rendered scikit-learn.org. See: https://github.com/scikit-learn/scikit-learn/issues/21755 */display: inline-block !important;position: relative;}#sk-container-id-3 div.sk-text-repr-fallback {display: none;}</style><div id=\"sk-container-id-3\" class=\"sk-top-container\"><div class=\"sk-text-repr-fallback\"><pre>SVC(kernel=&#x27;poly&#x27;, probability=True)</pre><b>In a Jupyter environment, please rerun this cell to show the HTML representation or trust the notebook. <br />On GitHub, the HTML representation is unable to render, please try loading this page with nbviewer.org.</b></div><div class=\"sk-container\" hidden><div class=\"sk-item\"><div class=\"sk-estimator sk-toggleable\"><input class=\"sk-toggleable__control sk-hidden--visually\" id=\"sk-estimator-id-3\" type=\"checkbox\" checked><label for=\"sk-estimator-id-3\" class=\"sk-toggleable__label sk-toggleable__label-arrow\">SVC</label><div class=\"sk-toggleable__content\"><pre>SVC(kernel=&#x27;poly&#x27;, probability=True)</pre></div></div></div></div></div>"
      ],
      "text/plain": [
       "SVC(kernel='poly', probability=True)"
      ]
     },
     "execution_count": 44,
     "metadata": {},
     "output_type": "execute_result"
    }
   ],
   "source": [
    "# Создание SVM\n",
    "clf = svm.SVC(kernel='poly', probability=True)\n",
    "# Обучение модели на данных\n",
    "clf.fit(x_train, y_train)"
   ]
  },
  {
   "cell_type": "code",
   "execution_count": 45,
   "id": "daa967ef-13b7-4496-b252-08e471165240",
   "metadata": {},
   "outputs": [
    {
     "data": {
      "text/html": [
       "<style>#sk-container-id-4 {color: black;}#sk-container-id-4 pre{padding: 0;}#sk-container-id-4 div.sk-toggleable {background-color: white;}#sk-container-id-4 label.sk-toggleable__label {cursor: pointer;display: block;width: 100%;margin-bottom: 0;padding: 0.3em;box-sizing: border-box;text-align: center;}#sk-container-id-4 label.sk-toggleable__label-arrow:before {content: \"▸\";float: left;margin-right: 0.25em;color: #696969;}#sk-container-id-4 label.sk-toggleable__label-arrow:hover:before {color: black;}#sk-container-id-4 div.sk-estimator:hover label.sk-toggleable__label-arrow:before {color: black;}#sk-container-id-4 div.sk-toggleable__content {max-height: 0;max-width: 0;overflow: hidden;text-align: left;background-color: #f0f8ff;}#sk-container-id-4 div.sk-toggleable__content pre {margin: 0.2em;color: black;border-radius: 0.25em;background-color: #f0f8ff;}#sk-container-id-4 input.sk-toggleable__control:checked~div.sk-toggleable__content {max-height: 200px;max-width: 100%;overflow: auto;}#sk-container-id-4 input.sk-toggleable__control:checked~label.sk-toggleable__label-arrow:before {content: \"▾\";}#sk-container-id-4 div.sk-estimator input.sk-toggleable__control:checked~label.sk-toggleable__label {background-color: #d4ebff;}#sk-container-id-4 div.sk-label input.sk-toggleable__control:checked~label.sk-toggleable__label {background-color: #d4ebff;}#sk-container-id-4 input.sk-hidden--visually {border: 0;clip: rect(1px 1px 1px 1px);clip: rect(1px, 1px, 1px, 1px);height: 1px;margin: -1px;overflow: hidden;padding: 0;position: absolute;width: 1px;}#sk-container-id-4 div.sk-estimator {font-family: monospace;background-color: #f0f8ff;border: 1px dotted black;border-radius: 0.25em;box-sizing: border-box;margin-bottom: 0.5em;}#sk-container-id-4 div.sk-estimator:hover {background-color: #d4ebff;}#sk-container-id-4 div.sk-parallel-item::after {content: \"\";width: 100%;border-bottom: 1px solid gray;flex-grow: 1;}#sk-container-id-4 div.sk-label:hover label.sk-toggleable__label {background-color: #d4ebff;}#sk-container-id-4 div.sk-serial::before {content: \"\";position: absolute;border-left: 1px solid gray;box-sizing: border-box;top: 0;bottom: 0;left: 50%;z-index: 0;}#sk-container-id-4 div.sk-serial {display: flex;flex-direction: column;align-items: center;background-color: white;padding-right: 0.2em;padding-left: 0.2em;position: relative;}#sk-container-id-4 div.sk-item {position: relative;z-index: 1;}#sk-container-id-4 div.sk-parallel {display: flex;align-items: stretch;justify-content: center;background-color: white;position: relative;}#sk-container-id-4 div.sk-item::before, #sk-container-id-4 div.sk-parallel-item::before {content: \"\";position: absolute;border-left: 1px solid gray;box-sizing: border-box;top: 0;bottom: 0;left: 50%;z-index: -1;}#sk-container-id-4 div.sk-parallel-item {display: flex;flex-direction: column;z-index: 1;position: relative;background-color: white;}#sk-container-id-4 div.sk-parallel-item:first-child::after {align-self: flex-end;width: 50%;}#sk-container-id-4 div.sk-parallel-item:last-child::after {align-self: flex-start;width: 50%;}#sk-container-id-4 div.sk-parallel-item:only-child::after {width: 0;}#sk-container-id-4 div.sk-dashed-wrapped {border: 1px dashed gray;margin: 0 0.4em 0.5em 0.4em;box-sizing: border-box;padding-bottom: 0.4em;background-color: white;}#sk-container-id-4 div.sk-label label {font-family: monospace;font-weight: bold;display: inline-block;line-height: 1.2em;}#sk-container-id-4 div.sk-label-container {text-align: center;}#sk-container-id-4 div.sk-container {/* jupyter's `normalize.less` sets `[hidden] { display: none; }` but bootstrap.min.css set `[hidden] { display: none !important; }` so we also need the `!important` here to be able to override the default hidden behavior on the sphinx rendered scikit-learn.org. See: https://github.com/scikit-learn/scikit-learn/issues/21755 */display: inline-block !important;position: relative;}#sk-container-id-4 div.sk-text-repr-fallback {display: none;}</style><div id=\"sk-container-id-4\" class=\"sk-top-container\"><div class=\"sk-text-repr-fallback\"><pre>CalibratedClassifierCV(estimator=SVC(kernel=&#x27;poly&#x27;, probability=True))</pre><b>In a Jupyter environment, please rerun this cell to show the HTML representation or trust the notebook. <br />On GitHub, the HTML representation is unable to render, please try loading this page with nbviewer.org.</b></div><div class=\"sk-container\" hidden><div class=\"sk-item sk-dashed-wrapped\"><div class=\"sk-label-container\"><div class=\"sk-label sk-toggleable\"><input class=\"sk-toggleable__control sk-hidden--visually\" id=\"sk-estimator-id-4\" type=\"checkbox\" ><label for=\"sk-estimator-id-4\" class=\"sk-toggleable__label sk-toggleable__label-arrow\">CalibratedClassifierCV</label><div class=\"sk-toggleable__content\"><pre>CalibratedClassifierCV(estimator=SVC(kernel=&#x27;poly&#x27;, probability=True))</pre></div></div></div><div class=\"sk-parallel\"><div class=\"sk-parallel-item\"><div class=\"sk-item\"><div class=\"sk-label-container\"><div class=\"sk-label sk-toggleable\"><input class=\"sk-toggleable__control sk-hidden--visually\" id=\"sk-estimator-id-5\" type=\"checkbox\" ><label for=\"sk-estimator-id-5\" class=\"sk-toggleable__label sk-toggleable__label-arrow\">estimator: SVC</label><div class=\"sk-toggleable__content\"><pre>SVC(kernel=&#x27;poly&#x27;, probability=True)</pre></div></div></div><div class=\"sk-serial\"><div class=\"sk-item\"><div class=\"sk-estimator sk-toggleable\"><input class=\"sk-toggleable__control sk-hidden--visually\" id=\"sk-estimator-id-6\" type=\"checkbox\" ><label for=\"sk-estimator-id-6\" class=\"sk-toggleable__label sk-toggleable__label-arrow\">SVC</label><div class=\"sk-toggleable__content\"><pre>SVC(kernel=&#x27;poly&#x27;, probability=True)</pre></div></div></div></div></div></div></div></div></div></div>"
      ],
      "text/plain": [
       "CalibratedClassifierCV(estimator=SVC(kernel='poly', probability=True))"
      ]
     },
     "execution_count": 45,
     "metadata": {},
     "output_type": "execute_result"
    }
   ],
   "source": [
    "# Калибровка модели для получения вероятностей\n",
    "calibrated_clf = CalibratedClassifierCV(clf, method='sigmoid')\n",
    "calibrated_clf.fit(x_train, y_train)"
   ]
  },
  {
   "cell_type": "code",
   "execution_count": 46,
   "id": "66fd79f2-3088-4761-ae62-5d35a41c0f22",
   "metadata": {},
   "outputs": [
    {
     "name": "stdout",
     "output_type": "stream",
     "text": [
      "[0.5350855  0.39459845 0.52640325 0.39795274 0.52303255 0.39640146\n",
      " 0.51589102 0.41525227 0.43019378 0.39334008 0.5146597  0.46120116\n",
      " 0.40183702 0.44670734 0.51808131 0.4703151  0.46578115 0.47765818\n",
      " 0.45375833 0.50141764 0.40076837 0.49655268 0.47701603 0.57083344\n",
      " 0.43345758 0.5800615  0.44384748 0.63909698 0.42609867 0.66199416\n",
      " 0.4274416  0.65089995 0.41276088 0.67488956 0.4919481  0.66476059]\n"
     ]
    }
   ],
   "source": [
    "print(x_test[0])"
   ]
  },
  {
   "cell_type": "code",
   "execution_count": 99,
   "id": "bacbe792-2ef2-4e31-a2dd-b67454edcdd4",
   "metadata": {},
   "outputs": [
    {
     "name": "stdout",
     "output_type": "stream",
     "text": [
      "answer_model = ('P10', 100.0)% ; answer = P10 ; True\n",
      "answer_model = ('P5', 100.0)% ; answer = P5 ; True\n",
      "answer_model = ('P4', 100.0)% ; answer = P4 ; True\n",
      "answer_model = ('P6', 100.0)% ; answer = P6 ; True\n",
      "answer_model = ('P1', 100.0)% ; answer = P2 ; False\n",
      "answer_model = ('P8', 100.0)% ; answer = P8 ; True\n",
      "answer_model = ('P3', 100.0)% ; answer = P3 ; True\n",
      "answer_model = ('P3', 100.0)% ; answer = P4 ; False\n",
      "answer_model = ('P5', 100.0)% ; answer = P5 ; True\n",
      "answer_model = ('P2', 100.0)% ; answer = P1 ; False\n",
      "answer_model = ('P8', 100.0)% ; answer = P8 ; True\n",
      "answer_model = ('P10', 100.0)% ; answer = P1 ; False\n",
      "answer_model = ('P2', 100.0)% ; answer = P2 ; True\n",
      "answer_model = ('P3', 100.0)% ; answer = P3 ; True\n",
      "answer_model = ('P6', 100.0)% ; answer = P6 ; True\n",
      "answer_model = ('P1', 100.0)% ; answer = P1 ; True\n",
      "answer_model = ('P2', 100.0)% ; answer = P1 ; False\n",
      "answer_model = ('P5', 100.0)% ; answer = P5 ; True\n",
      "answer_model = ('P2', 100.0)% ; answer = P2 ; True\n",
      "answer_model = ('P2', 100.0)% ; answer = P2 ; True\n",
      "answer_model = ('P2', 100.0)% ; answer = P2 ; True\n",
      "answer_model = ('P8', 100.0)% ; answer = P8 ; True\n",
      "answer_model = ('P1', 100.0)% ; answer = P2 ; False\n",
      "answer_model = ('P8', 100.0)% ; answer = P8 ; True\n",
      "answer_model = ('P2', 100.0)% ; answer = P2 ; True\n",
      "answer_model = ('P3', 100.0)% ; answer = P3 ; True\n",
      "answer_model = ('P5', 100.0)% ; answer = P5 ; True\n",
      "answer_model = ('P1', 100.0)% ; answer = P2 ; False\n",
      "answer_model = ('P3', 100.0)% ; answer = P3 ; True\n",
      "answer_model = ('P2', 100.0)% ; answer = P1 ; False\n",
      "answer_model = ('P4', 100.0)% ; answer = P4 ; True\n",
      "answer_model = ('P6', 100.0)% ; answer = P6 ; True\n",
      "answer_model = ('P6', 100.0)% ; answer = P6 ; True\n",
      "answer_model = ('P2', 100.0)% ; answer = P2 ; True\n",
      "answer_model = ('P3', 100.0)% ; answer = P3 ; True\n",
      "answer_model = ('P8', 100.0)% ; answer = P8 ; True\n",
      "answer_model = ('P3', 100.0)% ; answer = P3 ; True\n",
      "answer_model = ('P2', 100.0)% ; answer = P2 ; True\n",
      "answer_model = ('P8', 100.0)% ; answer = P8 ; True\n",
      "answer_model = ('P2', 100.0)% ; answer = P1 ; False\n",
      "answer_model = ('P5', 100.0)% ; answer = P5 ; True\n",
      "answer_model = ('P8', 100.0)% ; answer = P6 ; False\n",
      "answer_model = ('P2', 100.0)% ; answer = P2 ; True\n",
      "answer_model = ('P10', 100.0)% ; answer = P10 ; True\n",
      "answer_model = ('P8', 100.0)% ; answer = P8 ; True\n",
      "answer_model = ('P3', 100.0)% ; answer = P3 ; True\n",
      "answer_model = ('P5', 100.0)% ; answer = P5 ; True\n",
      "answer_model = ('P2', 100.0)% ; answer = P2 ; True\n",
      "answer_model = ('P2', 100.0)% ; answer = P2 ; True\n",
      "answer_model = ('P10', 100.0)% ; answer = P10 ; True\n",
      "answer_model = ('P10', 100.0)% ; answer = P10 ; True\n",
      "answer_model = ('P2', 100.0)% ; answer = P2 ; True\n",
      "answer_model = ('P6', 100.0)% ; answer = P6 ; True\n",
      "answer_model = ('P10', 100.0)% ; answer = P5 ; False\n",
      "answer_model = ('P10', 100.0)% ; answer = P10 ; True\n",
      "answer_model = ('P2', 100.0)% ; answer = P2 ; True\n",
      "answer_model = ('P10', 100.0)% ; answer = P4 ; False\n",
      "answer_model = ('P5', 100.0)% ; answer = P5 ; True\n",
      "answer_model = ('P4', 100.0)% ; answer = P8 ; False\n",
      "answer_model = ('P5', 100.0)% ; answer = P5 ; True\n",
      "answer_model = ('P5', 100.0)% ; answer = P5 ; True\n",
      "answer_model = ('P4', 100.0)% ; answer = P4 ; True\n",
      "answer_model = ('P1', 100.0)% ; answer = P2 ; False\n",
      "answer_model = ('P5', 100.0)% ; answer = P5 ; True\n",
      "answer_model = ('P1', 100.0)% ; answer = P1 ; True\n",
      "answer_model = ('P2', 100.0)% ; answer = P2 ; True\n",
      "answer_model = ('P10', 100.0)% ; answer = P4 ; False\n",
      "answer_model = ('P1', 100.0)% ; answer = P1 ; True\n",
      "answer_model = ('P10', 100.0)% ; answer = P6 ; False\n",
      "answer_model = ('P2', 100.0)% ; answer = P2 ; True\n",
      "answer_model = ('P4', 100.0)% ; answer = P4 ; True\n",
      "answer_model = ('P3', 100.0)% ; answer = P3 ; True\n",
      "answer_model = ('P10', 100.0)% ; answer = P10 ; True\n",
      "answer_model = ('P2', 100.0)% ; answer = P2 ; True\n",
      "answer_model = ('P5', 100.0)% ; answer = P5 ; True\n",
      "answer_model = ('P10', 100.0)% ; answer = P10 ; True\n",
      "answer_model = ('P3', 100.0)% ; answer = P3 ; True\n",
      "answer_model = ('P8', 100.0)% ; answer = P6 ; False\n",
      "answer_model = ('P8', 100.0)% ; answer = P8 ; True\n",
      "answer_model = ('P1', 100.0)% ; answer = P2 ; False\n",
      "answer_model = ('P5', 100.0)% ; answer = P5 ; True\n",
      "answer_model = ('P2', 100.0)% ; answer = P2 ; True\n",
      "answer_model = ('P10', 100.0)% ; answer = P10 ; True\n",
      "answer_model = ('P4', 100.0)% ; answer = P4 ; True\n",
      "answer_model = ('P4', 100.0)% ; answer = P4 ; True\n",
      "answer_model = ('P3', 100.0)% ; answer = P2 ; False\n",
      "answer_model = ('P1', 100.0)% ; answer = P2 ; False\n",
      "answer_model = ('P3', 100.0)% ; answer = P3 ; True\n",
      "answer_model = ('P1', 100.0)% ; answer = P1 ; True\n",
      "answer_model = ('P4', 100.0)% ; answer = P4 ; True\n",
      "answer_model = ('P1', 100.0)% ; answer = P2 ; False\n",
      "answer_model = ('P4', 100.0)% ; answer = P4 ; True\n",
      "answer_model = ('P1', 100.0)% ; answer = P1 ; True\n",
      "answer_model = ('P6', 100.0)% ; answer = P1 ; False\n",
      "answer_model = ('P8', 100.0)% ; answer = P8 ; True\n",
      "answer_model = ('P5', 100.0)% ; answer = P5 ; True\n",
      "answer_model = ('P4', 100.0)% ; answer = P4 ; True\n",
      "answer_model = ('P5', 100.0)% ; answer = P5 ; True\n",
      "answer_model = ('P2', 100.0)% ; answer = P2 ; True\n",
      "answer_model = ('P10', 100.0)% ; answer = P10 ; True\n",
      "answer_model = ('P5', 100.0)% ; answer = P5 ; True\n",
      "answer_model = ('P10', 100.0)% ; answer = P10 ; True\n",
      "answer_model = ('P6', 100.0)% ; answer = P5 ; False\n",
      "answer_model = ('P6', 100.0)% ; answer = P6 ; True\n",
      "answer_model = ('P3', 100.0)% ; answer = P3 ; True\n",
      "answer_model = ('P2', 100.0)% ; answer = P2 ; True\n",
      "answer_model = ('P8', 100.0)% ; answer = P8 ; True\n",
      "answer_model = ('P5', 100.0)% ; answer = P5 ; True\n",
      "answer_model = ('P3', 100.0)% ; answer = P3 ; True\n",
      "answer_model = ('P2', 100.0)% ; answer = P2 ; True\n",
      "answer_model = ('P10', 100.0)% ; answer = P10 ; True\n",
      "answer_model = ('P1', 100.0)% ; answer = P2 ; False\n",
      "answer_model = ('P5', 100.0)% ; answer = P5 ; True\n",
      "answer_model = ('P6', 100.0)% ; answer = P6 ; True\n"
     ]
    }
   ],
   "source": [
    "for check in range(len(x_test)):\n",
    "    probabilities = calibrated_clf.predict_proba([x_test[check]])\n",
    "    normalized_probabilities = (probabilities - probabilities.min()) / (probabilities.max() - probabilities.min()) * 100\n",
    "\n",
    "    frame_pp = ['P1', 'P2', 'P3', 'P4', 'P5', 'P6', 'P8', 'P10']\n",
    "\n",
    "    maxx = 0\n",
    "    maxx_index = 0\n",
    "    for answer in normalized_probabilities:\n",
    "        for index in range(len(answer)):\n",
    "            if maxx < float(answer[index]):\n",
    "                maxx = float(answer[index])\n",
    "                maxx_index = index\n",
    "    # print(list(filter(lambda x: float(x), probabilities[0])))\n",
    "    print(f'answer_model = {frame_pp[maxx_index], maxx}% ; answer = {frame_pp[y_test[check]]} ; {frame_pp[y_test[check]] == frame_pp[maxx_index]}') "
   ]
  },
  {
   "cell_type": "code",
   "execution_count": 35,
   "id": "de8887e2-0fbc-48b5-b6ce-cca19f3f03ac",
   "metadata": {},
   "outputs": [],
   "source": [
    "probabilities = calibrated_clf.predict_proba([x_test[0]])"
   ]
  },
  {
   "cell_type": "code",
   "execution_count": 36,
   "id": "11d6d8e5-662c-47a4-adaf-953c8f1db16e",
   "metadata": {},
   "outputs": [
    {
     "name": "stdout",
     "output_type": "stream",
     "text": [
      "[[1.57217828e-01 2.95524798e-01 0.00000000e+00 1.32507889e+00\n",
      "  1.00978961e+01 9.53913900e-02 1.00000000e+02 4.73292278e+01]]\n"
     ]
    }
   ],
   "source": [
    "normalized_probabilities = (probabilities - probabilities.min()) / (probabilities.max() - probabilities.min()) * 100"
   ]
  },
  {
   "cell_type": "code",
   "execution_count": 39,
   "id": "acb2e101-0472-49d3-a072-35810dd1d86c",
   "metadata": {},
   "outputs": [
    {
     "name": "stdout",
     "output_type": "stream",
     "text": [
      "P1: 0.1572178280849077\n",
      "P2: 0.2955247980901574\n",
      "P3: 0.0\n",
      "P4: 1.325078893865379\n",
      "P5: 10.097896110011819\n",
      "P6: 0.09539138996351378\n",
      "P8: 100.0\n",
      "P10: 47.32922779242107\n"
     ]
    }
   ],
   "source": [
    "for answer in normalized_probabilities:\n",
    "    print(f'P1: {float(answer[0])}')\n",
    "    print(f'P2: {float(answer[1])}')\n",
    "    print(f'P3: {float(answer[2])}')\n",
    "    print(f'P4: {float(answer[3])}')\n",
    "    print(f'P5: {float(answer[4])}')\n",
    "    print(f'P6: {float(answer[5])}')\n",
    "    print(f'P8: {float(answer[6])}')\n",
    "    print(f'P10: {float(answer[7])}')"
   ]
  },
  {
   "cell_type": "code",
   "execution_count": 40,
   "id": "0c84978e-a3e2-46e5-8519-59eddd0dd2d5",
   "metadata": {},
   "outputs": [
    {
     "data": {
      "text/plain": [
       "10"
      ]
     },
     "execution_count": 40,
     "metadata": {},
     "output_type": "execute_result"
    }
   ],
   "source": [
    "y_test[0]"
   ]
  },
  {
   "cell_type": "code",
   "execution_count": null,
   "id": "517e27ff-1131-4c4f-bf25-5e95bf525829",
   "metadata": {},
   "outputs": [],
   "source": [
    "np.load('./model_pose_833.pkl', allow_pickle=True)"
   ]
  },
  {
   "cell_type": "code",
   "execution_count": null,
   "id": "92972b27-2f77-4a7c-a008-05c0b799a8f0",
   "metadata": {},
   "outputs": [],
   "source": []
  },
  {
   "cell_type": "code",
   "execution_count": null,
   "id": "b3d00893-2fd5-450b-9516-f7de1a5e2704",
   "metadata": {},
   "outputs": [],
   "source": [
    "array = np.array([1, 2, 3, 4, 5, 6, 7, 8, 9, 10])\n",
    "\n",
    "# Indices of the items you want to delete\n",
    "indices_to_delete = [1, 3, 6]\n",
    "\n",
    "# Delete the items at the specified indices\n",
    "new_array = np.delete(array, indices_to_delete)"
   ]
  },
  {
   "cell_type": "code",
   "execution_count": null,
   "id": "e100d8f6-82c1-4327-b2d2-0a819013be3d",
   "metadata": {},
   "outputs": [],
   "source": [
    "import numpy as np\n",
    "from os.path import dirname, join\n",
    "from PIL import Image, ImageDraw\n",
    "from joblib import dump, load\n",
    "\n",
    "\n",
    "def check_person(frame_all_cord_pose):\n",
    "    frame_all_cord_pose = np.array(frame_all_cord_pose)[:-1]\n",
    "    block_access_cords = [1, 2, 3, 4, 5, 6, 7, 8, 18, 20, 22, 21, 19, 17]\n",
    "    frame_access_cord_pose = np.delete(frame_all_cord_pose, block_access_cords, axis=0)\n",
    "    frame_access_cord_pose = np.concatenate(frame_access_cord_pose)\n",
    "    \n",
    "\n",
    "    if len(frame_access_cord_pose[frame_access_cord_pose == None]) >= 6:\n",
    "        return False\n",
    "    return True\n",
    "\n",
    "def racurs_model(frame_all_cord_pose):\n",
    "    frame_all_cord_pose = np.array(frame_all_cord_pose)[:-1]\n",
    "    block_access_cords = [1, 2, 3, 4, 5, 6, 7, 8, 18, 20, 22, 21, 19, 17]\n",
    "    frame_access_cord_pose = np.delete(frame_all_cord_pose, block_access_cords, axis=0)\n",
    "    frame_access_cord_pose = np.concatenate(frame_access_cord_pose)\n",
    "    frame_access_cord_pose[frame_access_cord_pose == None] = 0\n",
    "\n",
    "    with open(join(dirname(__file__), \"model_racurs.joblib\"), \"rb\") as f:\n",
    "        model_racurs = load(f)\n",
    "\n",
    "    answer_racurs = model_racurs.predict([frame_access_cord_pose])\n",
    "\n",
    "    return answer_racurs\n",
    "\n",
    "def video_model(frame_all_cord_pose):\n",
    "    frame_all_cord_pose = np.array(frame_all_cord_pose)[:-1]\n",
    "    block_access_cords = [1, 2, 3, 4, 5, 6, 7, 8, 18, 20, 22, 21, 19, 17]\n",
    "    frame_access_cord_pose = np.delete(frame_all_cord_pose, block_access_cords, axis=0)\n",
    "    frame_access_cord_pose = np.concatenate(frame_access_cord_pose)\n",
    "    frame_access_cord_pose[frame_access_cord_pose == None] = 0\n",
    "\n",
    "    with open(join(dirname(__file__), \"model_video.joblib\"), \"rb\") as f:\n",
    "        model_video = load(f)\n",
    "    \n",
    "    answer_video = np.argmax(model_video.predict_proba([frame_access_cord_pose]))\n",
    "\n",
    "    return answer_video"
   ]
  },
  {
   "cell_type": "code",
   "execution_count": null,
   "id": "967f2921-ff0c-4ead-8584-010c7aed155f",
   "metadata": {},
   "outputs": [],
   "source": [
    "import numpy as np\n",
    "from os.path import dirname, join\n",
    "from PIL import Image, ImageDraw\n",
    "from joblib import dump, load\n",
    "\n",
    "def distance(x1, y1, x2, y2):\n",
    "    return math.sqrt((x2-x1)**2 + (y2-y1)**2)\n",
    "\n",
    "def pose_codr_model(data_frame_cord_pose):\n",
    "    data_frame_cord_pose = np.array(data_frame_cord_pose)\n",
    "    \n",
    "    data_p_pose = list()\n",
    "    for frame_all_cord_pose in frame_all_cord_pose:\n",
    "        frame_all_cord_pose = np.array(frame_all_cord_pose)[:-1]\n",
    "        block_access_cords = [1, 2, 3, 4, 5, 6, 7, 8, 18, 20, 22, 21, 19, 17]\n",
    "        frame_access_cord_pose = np.delete(frame_all_cord_pose, block_access_cords, axis=0)\n",
    "        frame_access_cord_pose = np.concatenate(frame_access_cord_pose)\n",
    "        frame_access_cord_pose[frame_access_cord_pose == None] = 0\n",
    "        data_p_pose.append(frame_access_cord_pose)\n",
    "        \n",
    "    with open(join(dirname(__file__), \"model_pose.joblib\"), \"rb\") as f:\n",
    "        model_pose = load(f)\n",
    "\n",
    "    answer_pose = list(model_pose.predict_proba(data_p_pose))\n",
    "\n",
    "    frames_of_poses = [0, 0, 0, 0, 0, 0, 0, 0]\n",
    "    sure_of_poses = [0, 0, 0, 0, 0, 0, 0, 0]\n",
    "\n",
    "    for i in range(len(answer_pose)):\n",
    "        for num in range(8):\n",
    "            if(answer_pose[i][num] > sure_of_poses[num]):\n",
    "                sure_of_poses[num] = answer_pose[i][num]\n",
    "                frames_of_poses[num] = i\n",
    "\n",
    "    return frames_of_poses\n",
    "\n",
    "\n",
    "def pose_bytearray_model(data_bytearray_pose, frames_of_poses):\n",
    "    img_P1, cord_P1 = np.frombuffer(data_bytearray_pose[0], dtype=np.uint8), frames_of_poses[0]\n",
    "    img_P4, cord_P4 = np.frombuffer(data_bytearray_pose[3], dtype=np.uint8), frames_of_poses[3]\n",
    "\n",
    "    width, height = img_P4.size\n",
    "    draw = ImageDraw.Draw(img_P4)\n",
    "\n",
    "    x1_1, y1_1 = cord_P1[0][0] * width, cord_P1[0][1] * height\n",
    "    x1_4, y1_4 = cord_P4[0][0] * width, cord_P4[0][1] * height\n",
    "    \n",
    "    distance_between_dots = distance(x1_1, y1_1, x1_4, y1_4)\n",
    "\n",
    "    flag_of_mistake = 0\n",
    "    if(distance_between_dots >= max(width, height)*0.1):\n",
    "        draw = ImageDraw.Draw(img_P4)\n",
    "        draw.line((x1_1, y1_1,x1_4,y1_4), fill='green', width=3)\n",
    "\n",
    "        img_P4 = img_P4.tobytes()\n",
    "        flag_of_mistake = 0\n",
    "        return [False, img_P4]\n",
    "    return [True, '0']\n",
    "        \n",
    "    \n",
    "    \n",
    "    \n",
    "\n",
    "        \n",
    "\n",
    "        \n",
    "\n",
    "        "
   ]
  },
  {
   "cell_type": "code",
   "execution_count": 900,
   "id": "17ac3924-19d2-4211-b3da-90ff24bbe8f5",
   "metadata": {},
   "outputs": [],
   "source": [
    "model_pose = np.load('./model/model_pose_842.pkl', allow_pickle=True)\n",
    "answer_racurs = model_racurs.predict([x_data[0]])"
   ]
  },
  {
   "cell_type": "code",
   "execution_count": 18,
   "id": "d6383ab6-5ece-4ac0-bb2c-a81fd03ab989",
   "metadata": {
    "scrolled": true
   },
   "outputs": [
    {
     "ename": "NameError",
     "evalue": "name 'file' is not defined",
     "output_type": "error",
     "traceback": [
      "\u001b[0;31m---------------------------------------------------------------------------\u001b[0m",
      "\u001b[0;31mNameError\u001b[0m                                 Traceback (most recent call last)",
      "Cell \u001b[0;32mIn[18], line 1\u001b[0m\n\u001b[0;32m----> 1\u001b[0m \u001b[38;5;28;01mwith\u001b[39;00m \u001b[38;5;28mopen\u001b[39m(join(dirname(\u001b[43mfile\u001b[49m), \u001b[38;5;124m\"\u001b[39m\u001b[38;5;124mmodel/model_video.pkl\u001b[39m\u001b[38;5;124m\"\u001b[39m), \u001b[38;5;124m'\u001b[39m\u001b[38;5;124mrb\u001b[39m\u001b[38;5;124m'\u001b[39m) \u001b[38;5;28;01mas\u001b[39;00m f:\n\u001b[1;32m      2\u001b[0m     model_video \u001b[38;5;241m=\u001b[39m pickle\u001b[38;5;241m.\u001b[39mload(f)\n\u001b[1;32m      3\u001b[0m \u001b[38;5;28;01mwith\u001b[39;00m \u001b[38;5;28mopen\u001b[39m(join(dirname(file), \u001b[38;5;124m\"\u001b[39m\u001b[38;5;124mmodel/model_racurs.pkl\u001b[39m\u001b[38;5;124m\"\u001b[39m), \u001b[38;5;124m'\u001b[39m\u001b[38;5;124mrb\u001b[39m\u001b[38;5;124m'\u001b[39m) \u001b[38;5;28;01mas\u001b[39;00m f:\n",
      "\u001b[0;31mNameError\u001b[0m: name 'file' is not defined"
     ]
    }
   ],
   "source": [
    "with open(join(dirname(file), \"model/model_video.pkl\"), 'rb') as f:\n",
    "    model_video = pickle.load(f)\n",
    "with open(join(dirname(file), \"model/model_racurs.pkl\"), 'rb') as f:\n",
    "    model_racurs = pickle.load(f)"
   ]
  },
  {
   "cell_type": "code",
   "execution_count": 27,
   "id": "32042a42-7535-422f-8fad-7efcce95c45f",
   "metadata": {},
   "outputs": [],
   "source": [
    "# model_video = np.load('./model/model_video.pkl', allow_pickle=True)\n",
    "# model_racurs = np.load('./model/model_racurs.pkl', allow_pickle=True)\n",
    "model_pose = np.load('./model_pose_842.pkl', allow_pickle=True)"
   ]
  },
  {
   "cell_type": "code",
   "execution_count": 28,
   "id": "184e7a7c-3b94-4a21-bbb8-0b07fab7779c",
   "metadata": {},
   "outputs": [
    {
     "data": {
      "text/html": [
       "<style>#sk-container-id-2 {color: black;}#sk-container-id-2 pre{padding: 0;}#sk-container-id-2 div.sk-toggleable {background-color: white;}#sk-container-id-2 label.sk-toggleable__label {cursor: pointer;display: block;width: 100%;margin-bottom: 0;padding: 0.3em;box-sizing: border-box;text-align: center;}#sk-container-id-2 label.sk-toggleable__label-arrow:before {content: \"▸\";float: left;margin-right: 0.25em;color: #696969;}#sk-container-id-2 label.sk-toggleable__label-arrow:hover:before {color: black;}#sk-container-id-2 div.sk-estimator:hover label.sk-toggleable__label-arrow:before {color: black;}#sk-container-id-2 div.sk-toggleable__content {max-height: 0;max-width: 0;overflow: hidden;text-align: left;background-color: #f0f8ff;}#sk-container-id-2 div.sk-toggleable__content pre {margin: 0.2em;color: black;border-radius: 0.25em;background-color: #f0f8ff;}#sk-container-id-2 input.sk-toggleable__control:checked~div.sk-toggleable__content {max-height: 200px;max-width: 100%;overflow: auto;}#sk-container-id-2 input.sk-toggleable__control:checked~label.sk-toggleable__label-arrow:before {content: \"▾\";}#sk-container-id-2 div.sk-estimator input.sk-toggleable__control:checked~label.sk-toggleable__label {background-color: #d4ebff;}#sk-container-id-2 div.sk-label input.sk-toggleable__control:checked~label.sk-toggleable__label {background-color: #d4ebff;}#sk-container-id-2 input.sk-hidden--visually {border: 0;clip: rect(1px 1px 1px 1px);clip: rect(1px, 1px, 1px, 1px);height: 1px;margin: -1px;overflow: hidden;padding: 0;position: absolute;width: 1px;}#sk-container-id-2 div.sk-estimator {font-family: monospace;background-color: #f0f8ff;border: 1px dotted black;border-radius: 0.25em;box-sizing: border-box;margin-bottom: 0.5em;}#sk-container-id-2 div.sk-estimator:hover {background-color: #d4ebff;}#sk-container-id-2 div.sk-parallel-item::after {content: \"\";width: 100%;border-bottom: 1px solid gray;flex-grow: 1;}#sk-container-id-2 div.sk-label:hover label.sk-toggleable__label {background-color: #d4ebff;}#sk-container-id-2 div.sk-serial::before {content: \"\";position: absolute;border-left: 1px solid gray;box-sizing: border-box;top: 0;bottom: 0;left: 50%;z-index: 0;}#sk-container-id-2 div.sk-serial {display: flex;flex-direction: column;align-items: center;background-color: white;padding-right: 0.2em;padding-left: 0.2em;position: relative;}#sk-container-id-2 div.sk-item {position: relative;z-index: 1;}#sk-container-id-2 div.sk-parallel {display: flex;align-items: stretch;justify-content: center;background-color: white;position: relative;}#sk-container-id-2 div.sk-item::before, #sk-container-id-2 div.sk-parallel-item::before {content: \"\";position: absolute;border-left: 1px solid gray;box-sizing: border-box;top: 0;bottom: 0;left: 50%;z-index: -1;}#sk-container-id-2 div.sk-parallel-item {display: flex;flex-direction: column;z-index: 1;position: relative;background-color: white;}#sk-container-id-2 div.sk-parallel-item:first-child::after {align-self: flex-end;width: 50%;}#sk-container-id-2 div.sk-parallel-item:last-child::after {align-self: flex-start;width: 50%;}#sk-container-id-2 div.sk-parallel-item:only-child::after {width: 0;}#sk-container-id-2 div.sk-dashed-wrapped {border: 1px dashed gray;margin: 0 0.4em 0.5em 0.4em;box-sizing: border-box;padding-bottom: 0.4em;background-color: white;}#sk-container-id-2 div.sk-label label {font-family: monospace;font-weight: bold;display: inline-block;line-height: 1.2em;}#sk-container-id-2 div.sk-label-container {text-align: center;}#sk-container-id-2 div.sk-container {/* jupyter's `normalize.less` sets `[hidden] { display: none; }` but bootstrap.min.css set `[hidden] { display: none !important; }` so we also need the `!important` here to be able to override the default hidden behavior on the sphinx rendered scikit-learn.org. See: https://github.com/scikit-learn/scikit-learn/issues/21755 */display: inline-block !important;position: relative;}#sk-container-id-2 div.sk-text-repr-fallback {display: none;}</style><div id=\"sk-container-id-2\" class=\"sk-top-container\"><div class=\"sk-text-repr-fallback\"><pre>SVC(kernel=&#x27;poly&#x27;, probability=True)</pre><b>In a Jupyter environment, please rerun this cell to show the HTML representation or trust the notebook. <br />On GitHub, the HTML representation is unable to render, please try loading this page with nbviewer.org.</b></div><div class=\"sk-container\" hidden><div class=\"sk-item\"><div class=\"sk-estimator sk-toggleable\"><input class=\"sk-toggleable__control sk-hidden--visually\" id=\"sk-estimator-id-2\" type=\"checkbox\" checked><label for=\"sk-estimator-id-2\" class=\"sk-toggleable__label sk-toggleable__label-arrow\">SVC</label><div class=\"sk-toggleable__content\"><pre>SVC(kernel=&#x27;poly&#x27;, probability=True)</pre></div></div></div></div></div>"
      ],
      "text/plain": [
       "SVC(kernel='poly', probability=True)"
      ]
     },
     "execution_count": 28,
     "metadata": {},
     "output_type": "execute_result"
    }
   ],
   "source": [
    "model_pose"
   ]
  },
  {
   "cell_type": "code",
   "execution_count": 21,
   "id": "4dc8d8a7-2f5a-4ef7-9cf8-e207eb6b3940",
   "metadata": {},
   "outputs": [
    {
     "name": "stdout",
     "output_type": "stream",
     "text": [
      "Requirement already satisfied: joblib in /Users/odner/miniconda3/envs/torch/lib/python3.8/site-packages (1.3.2)\n"
     ]
    }
   ],
   "source": [
    "!pip install joblib"
   ]
  },
  {
   "cell_type": "code",
   "execution_count": 29,
   "id": "b9b63b6b-4606-4d24-9cc3-94d1ba984c7c",
   "metadata": {},
   "outputs": [
    {
     "data": {
      "text/plain": [
       "['model_pose.joblib']"
      ]
     },
     "execution_count": 29,
     "metadata": {},
     "output_type": "execute_result"
    }
   ],
   "source": [
    "from joblib import dump, load\n",
    "# dump(model_video, 'model_video.joblib')\n",
    "# dump(model_racurs, 'model_racurs.joblib')\n",
    "dump(model_pose, 'model_pose.joblib')"
   ]
  },
  {
   "cell_type": "code",
   "execution_count": 20,
   "id": "bcdf3bc1-3ba4-4d59-92fc-4f4d0e2012cf",
   "metadata": {},
   "outputs": [
    {
     "data": {
      "text/html": [
       "<style>#sk-container-id-1 {color: black;}#sk-container-id-1 pre{padding: 0;}#sk-container-id-1 div.sk-toggleable {background-color: white;}#sk-container-id-1 label.sk-toggleable__label {cursor: pointer;display: block;width: 100%;margin-bottom: 0;padding: 0.3em;box-sizing: border-box;text-align: center;}#sk-container-id-1 label.sk-toggleable__label-arrow:before {content: \"▸\";float: left;margin-right: 0.25em;color: #696969;}#sk-container-id-1 label.sk-toggleable__label-arrow:hover:before {color: black;}#sk-container-id-1 div.sk-estimator:hover label.sk-toggleable__label-arrow:before {color: black;}#sk-container-id-1 div.sk-toggleable__content {max-height: 0;max-width: 0;overflow: hidden;text-align: left;background-color: #f0f8ff;}#sk-container-id-1 div.sk-toggleable__content pre {margin: 0.2em;color: black;border-radius: 0.25em;background-color: #f0f8ff;}#sk-container-id-1 input.sk-toggleable__control:checked~div.sk-toggleable__content {max-height: 200px;max-width: 100%;overflow: auto;}#sk-container-id-1 input.sk-toggleable__control:checked~label.sk-toggleable__label-arrow:before {content: \"▾\";}#sk-container-id-1 div.sk-estimator input.sk-toggleable__control:checked~label.sk-toggleable__label {background-color: #d4ebff;}#sk-container-id-1 div.sk-label input.sk-toggleable__control:checked~label.sk-toggleable__label {background-color: #d4ebff;}#sk-container-id-1 input.sk-hidden--visually {border: 0;clip: rect(1px 1px 1px 1px);clip: rect(1px, 1px, 1px, 1px);height: 1px;margin: -1px;overflow: hidden;padding: 0;position: absolute;width: 1px;}#sk-container-id-1 div.sk-estimator {font-family: monospace;background-color: #f0f8ff;border: 1px dotted black;border-radius: 0.25em;box-sizing: border-box;margin-bottom: 0.5em;}#sk-container-id-1 div.sk-estimator:hover {background-color: #d4ebff;}#sk-container-id-1 div.sk-parallel-item::after {content: \"\";width: 100%;border-bottom: 1px solid gray;flex-grow: 1;}#sk-container-id-1 div.sk-label:hover label.sk-toggleable__label {background-color: #d4ebff;}#sk-container-id-1 div.sk-serial::before {content: \"\";position: absolute;border-left: 1px solid gray;box-sizing: border-box;top: 0;bottom: 0;left: 50%;z-index: 0;}#sk-container-id-1 div.sk-serial {display: flex;flex-direction: column;align-items: center;background-color: white;padding-right: 0.2em;padding-left: 0.2em;position: relative;}#sk-container-id-1 div.sk-item {position: relative;z-index: 1;}#sk-container-id-1 div.sk-parallel {display: flex;align-items: stretch;justify-content: center;background-color: white;position: relative;}#sk-container-id-1 div.sk-item::before, #sk-container-id-1 div.sk-parallel-item::before {content: \"\";position: absolute;border-left: 1px solid gray;box-sizing: border-box;top: 0;bottom: 0;left: 50%;z-index: -1;}#sk-container-id-1 div.sk-parallel-item {display: flex;flex-direction: column;z-index: 1;position: relative;background-color: white;}#sk-container-id-1 div.sk-parallel-item:first-child::after {align-self: flex-end;width: 50%;}#sk-container-id-1 div.sk-parallel-item:last-child::after {align-self: flex-start;width: 50%;}#sk-container-id-1 div.sk-parallel-item:only-child::after {width: 0;}#sk-container-id-1 div.sk-dashed-wrapped {border: 1px dashed gray;margin: 0 0.4em 0.5em 0.4em;box-sizing: border-box;padding-bottom: 0.4em;background-color: white;}#sk-container-id-1 div.sk-label label {font-family: monospace;font-weight: bold;display: inline-block;line-height: 1.2em;}#sk-container-id-1 div.sk-label-container {text-align: center;}#sk-container-id-1 div.sk-container {/* jupyter's `normalize.less` sets `[hidden] { display: none; }` but bootstrap.min.css set `[hidden] { display: none !important; }` so we also need the `!important` here to be able to override the default hidden behavior on the sphinx rendered scikit-learn.org. See: https://github.com/scikit-learn/scikit-learn/issues/21755 */display: inline-block !important;position: relative;}#sk-container-id-1 div.sk-text-repr-fallback {display: none;}</style><div id=\"sk-container-id-1\" class=\"sk-top-container\"><div class=\"sk-text-repr-fallback\"><pre>SVC(kernel=&#x27;poly&#x27;, probability=True)</pre><b>In a Jupyter environment, please rerun this cell to show the HTML representation or trust the notebook. <br />On GitHub, the HTML representation is unable to render, please try loading this page with nbviewer.org.</b></div><div class=\"sk-container\" hidden><div class=\"sk-item\"><div class=\"sk-estimator sk-toggleable\"><input class=\"sk-toggleable__control sk-hidden--visually\" id=\"sk-estimator-id-1\" type=\"checkbox\" checked><label for=\"sk-estimator-id-1\" class=\"sk-toggleable__label sk-toggleable__label-arrow\">SVC</label><div class=\"sk-toggleable__content\"><pre>SVC(kernel=&#x27;poly&#x27;, probability=True)</pre></div></div></div></div></div>"
      ],
      "text/plain": [
       "SVC(kernel='poly', probability=True)"
      ]
     },
     "execution_count": 20,
     "metadata": {},
     "output_type": "execute_result"
    }
   ],
   "source": [
    "model_video"
   ]
  },
  {
   "cell_type": "code",
   "execution_count": null,
   "id": "a4d6cdc2-69d5-437f-8ed8-6f1b8c49989c",
   "metadata": {},
   "outputs": [],
   "source": [
    "model_filename = 'trained_model.joblib'\n",
    "dump(model, model_filename)"
   ]
  },
  {
   "cell_type": "code",
   "execution_count": null,
   "id": "53fbb16f-b908-41f6-a89f-c4bcdaefcca5",
   "metadata": {},
   "outputs": [],
   "source": []
  },
  {
   "cell_type": "code",
   "execution_count": 15,
   "id": "8e8a0324-47a3-45c0-9ee4-938ac5228038",
   "metadata": {},
   "outputs": [
    {
     "name": "stdout",
     "output_type": "stream",
     "text": [
      "True\n"
     ]
    }
   ],
   "source": [
    "asdffdas = np.array([[1,2], [3,4], [5,6], [None,None]])\n",
    "asdffdas = np.concatenate(asdffdas)\n",
    "print(len(asdffdas[asdffdas == None]) != 0)"
   ]
  },
  {
   "cell_type": "code",
   "execution_count": 13,
   "id": "0e310f91-a5e6-4af5-a5ce-30d600385b66",
   "metadata": {},
   "outputs": [
    {
     "data": {
      "text/plain": [
       "36"
      ]
     },
     "execution_count": 13,
     "metadata": {},
     "output_type": "execute_result"
    }
   ],
   "source": [
    "len(x_data[0])"
   ]
  },
  {
   "cell_type": "code",
   "execution_count": null,
   "id": "45e49627-1fe8-4344-a057-f971b53f8342",
   "metadata": {},
   "outputs": [],
   "source": []
  },
  {
   "cell_type": "code",
   "execution_count": 10,
   "id": "fe41fdf6-afa3-4dd4-b5d2-cc35db0b1e55",
   "metadata": {},
   "outputs": [
    {
     "name": "stdout",
     "output_type": "stream",
     "text": [
      "[[1 2]\n",
      " [5 6]]\n"
     ]
    }
   ],
   "source": [
    "frame_all_cord_pose = np.array([[1,2],[3,4],[5,6],[7,8]])\n",
    "block_access_cords = [1, 3]\n",
    "frame_access_cord_pose = np.delete(frame_all_cord_pose, block_access_cords, axis=0)\n",
    "print(frame_access_cord_pose)\n",
    "frame_access_cord_pose = np.concatenate(frame_access_cord_pose)"
   ]
  },
  {
   "cell_type": "code",
   "execution_count": 7,
   "id": "be24bfa2-1a70-4413-b757-9624c60d3668",
   "metadata": {},
   "outputs": [
    {
     "name": "stdout",
     "output_type": "stream",
     "text": [
      "[1 2 5 6]\n"
     ]
    }
   ],
   "source": [
    "print(frame_access_cord_pose)"
   ]
  },
  {
   "cell_type": "code",
   "execution_count": 890,
   "id": "58cd7fbf-2e15-43ea-952f-a92cc7dc8a26",
   "metadata": {},
   "outputs": [],
   "source": [
    "qawsed = np.array([1, None, 3, None])\n",
    "qawsed[qawsed == None] = 0"
   ]
  },
  {
   "cell_type": "code",
   "execution_count": 891,
   "id": "d550ab68-d641-44dd-8ce9-d8f5254b894c",
   "metadata": {},
   "outputs": [
    {
     "data": {
      "text/plain": [
       "array([1, 0, 3, 0], dtype=object)"
      ]
     },
     "execution_count": 891,
     "metadata": {},
     "output_type": "execute_result"
    }
   ],
   "source": [
    "qawsed"
   ]
  },
  {
   "cell_type": "code",
   "execution_count": null,
   "id": "b0b783bd-d819-439c-9976-faf296a2a24b",
   "metadata": {},
   "outputs": [],
   "source": [
    "import pickle\n",
    "from sklearn import svm\n",
    "import cv2\n",
    "import mediapipe as mp\n",
    "import os\n",
    "import io\n",
    "import PIL.Image as Image\n",
    "\n",
    "def frame_to_cord_for_nn(frame):\n",
    "    num_block_access_cords = [8, 6, 5, 4, 1, 2, 3, 7, 18, 20, 22, 21, 19, 17]\n",
    "    num_access_cords = list(filter(lambda x: x not in num_block_access_cords, list(range(32))))\n",
    "\n",
    "                                \n",
    "    results = pose.process(cv2.cvtColor(frame, cv2.COLOR_BGR2RGB))\n",
    "    mp_drawing.draw_landmarks(image=img_copy, landmark_list=results.pose_landmarks, connections=mp_pose.POSE_CONNECTIONS)\n",
    "    \n",
    "    cord = list()\n",
    "    for i in num_access_cords:\n",
    "        try:\n",
    "            x = results.pose_landmarks.landmark[mp_pose.PoseLandmark(i).value].x\n",
    "            y = results.pose_landmarks.landmark[mp_pose.PoseLandmark(i).value].y\n",
    "            if x==None or y==None:\n",
    "                cord.append([-1, -1])\n",
    "            else: cord.append([x, y])\n",
    "        except:\n",
    "            cord.append([-1, -1])\n",
    "    \n",
    "    return cord,img_copy\n",
    "\n",
    "with open('./model_racurs.pkl', 'rb') as f:\n",
    "    lin_clf = pickle.load(f)\n",
    "    \n",
    "def get_racurs_from_image(bytes):\n",
    "    count = 0\n",
    "    human_is_there = True\n",
    "    frame = Image.open(io.BytesIO(bytes))\n",
    "    coords_of_frame,frame = frame_to_cord_for_nn(frame)\n",
    "    for j in range (18):\n",
    "        if (coords_of_frame[i][j][0] == -1 or coords_of_frame[i][j][1] == -1): count+=1\n",
    "        dots.append(coords_of_frame[i][j][0])\n",
    "        dots.append(coords_of_frame[i][j][1])\n",
    "    if count>=4:\n",
    "        human_is_there = False\n",
    "    res = lin_clf.predict([tuple(dots)])\n",
    "    \n",
    "    img_byte_arr = io.BytesIO()\n",
    "    frame.save(img_byte_arr, format='PNG')\n",
    "    img_byte_arr = string(img_byte_arr.getvalue())\n",
    "    \n",
    "    return img_byte_arr,human_is_there,res"
   ]
  },
  {
   "cell_type": "code",
   "execution_count": null,
   "id": "99db9552-0bfd-4455-b2e2-a6d81cb75280",
   "metadata": {},
   "outputs": [],
   "source": []
  },
  {
   "cell_type": "code",
   "execution_count": null,
   "id": "74d1e2c9-6a1e-4f72-999c-05266d7460a4",
   "metadata": {},
   "outputs": [],
   "source": []
  },
  {
   "cell_type": "code",
   "execution_count": null,
   "id": "e0a08287-e626-418b-9bd9-ea2004c23957",
   "metadata": {},
   "outputs": [],
   "source": []
  },
  {
   "cell_type": "code",
   "execution_count": null,
   "id": "828e82c5-d0dd-4ff9-a103-cac1f2e05d79",
   "metadata": {},
   "outputs": [],
   "source": []
  },
  {
   "cell_type": "code",
   "execution_count": 2,
   "id": "87b545aa-1c3d-4401-a66b-f9623907d879",
   "metadata": {},
   "outputs": [],
   "source": [
    "import numpy as np"
   ]
  },
  {
   "cell_type": "code",
   "execution_count": 819,
   "id": "d5f3ff91-41c2-4cee-9820-7bcdf5796233",
   "metadata": {},
   "outputs": [],
   "source": [
    "data_test = np.array([[1,2],[3,4],[5,6]])"
   ]
  },
  {
   "cell_type": "code",
   "execution_count": 821,
   "id": "3fd1a913-e1e4-420d-9296-86af2a9f8d76",
   "metadata": {},
   "outputs": [
    {
     "data": {
      "text/plain": [
       "array([1, 2, 3, 4, 5, 6])"
      ]
     },
     "execution_count": 821,
     "metadata": {},
     "output_type": "execute_result"
    }
   ],
   "source": [
    "np.concatenate(data_test)"
   ]
  },
  {
   "cell_type": "code",
   "execution_count": 822,
   "id": "5e3fa14a-0b2b-4cd0-bc1a-800a79c9387f",
   "metadata": {},
   "outputs": [],
   "source": [
    "model = np.load('./model_pose_833.pkl', allow_pickle=True)\n",
    "model.predict_proba()"
   ]
  },
  {
   "cell_type": "code",
   "execution_count": null,
   "id": "7350c928-e935-4901-8b00-bb804b7aa1e8",
   "metadata": {},
   "outputs": [],
   "source": [
    "model.predict_proba()"
   ]
  },
  {
   "cell_type": "code",
   "execution_count": 644,
   "id": "6c11c1d1-01e9-4501-be6e-eafa78a6098e",
   "metadata": {},
   "outputs": [],
   "source": [
    "from sklearn import svm\n",
    "from sklearn.utils import shuffle\n",
    "from sklearn.model_selection import train_test_split\n",
    "import numpy as np\n",
    "\n",
    "from scipy.io import loadmat\n",
    "import pandas as pd\n",
    "import cv2\n",
    "from pytube import YouTube\n",
    "import numpy as np\n",
    "import os"
   ]
  },
  {
   "cell_type": "code",
   "execution_count": 645,
   "id": "851fe706-1b47-4d91-96e6-6ca6303a1ede",
   "metadata": {},
   "outputs": [
    {
     "name": "stdout",
     "output_type": "stream",
     "text": [
      "Complete id_pose: 100\n",
      "Complete id_pose: 500\n",
      "Complete id_pose: 1000\n",
      "Complete id_pose: 1400\n",
      "Complete p_pose: P1\n",
      "Complete id_pose: 100\n",
      "Complete id_pose: 500\n",
      "Complete id_pose: 1000\n",
      "Complete id_pose: 1400\n",
      "Complete p_pose: P2\n",
      "Complete id_pose: 100\n",
      "Complete id_pose: 500\n",
      "Complete id_pose: 1000\n",
      "Complete id_pose: 1400\n",
      "Complete p_pose: P3\n",
      "Complete id_pose: 100\n",
      "Complete id_pose: 500\n",
      "Complete id_pose: 1000\n",
      "Complete id_pose: 1400\n",
      "Complete p_pose: P4\n",
      "Complete id_pose: 100\n",
      "Complete id_pose: 500\n",
      "Complete id_pose: 1000\n",
      "Complete id_pose: 1400\n",
      "Complete p_pose: P5\n",
      "Complete id_pose: 100\n",
      "Complete id_pose: 500\n",
      "Complete id_pose: 1000\n",
      "Complete id_pose: 1400\n",
      "Complete p_pose: P6\n",
      "Complete id_pose: 100\n",
      "Complete id_pose: 500\n",
      "Complete id_pose: 1000\n",
      "Complete id_pose: 1400\n",
      "Complete p_pose: P8\n",
      "Complete id_pose: 100\n",
      "Complete id_pose: 500\n",
      "Complete id_pose: 1000\n",
      "Complete id_pose: 1400\n",
      "Complete p_pose: P10\n"
     ]
    }
   ],
   "source": [
    "frame_p = ['P1', 'P2', 'P3', 'P4', 'P5', 'P6', 'P8', 'P10']\n",
    "data_set_all_pose = list()\n",
    "for p_pose in frame_p:\n",
    "    data_set_pose = list()\n",
    "    for id_pose in range(1485):\n",
    "        frame_train_path = f\"/Users/odner/Documents/Programming/Hackatons/Hack_24_08_2023/positions_of_the_golf_swing_train_frame/{p_pose}_{id_pose}.jpg\"\n",
    "        \n",
    "        if os.path.exists(frame_train_path):\n",
    "            frame_pose_image = cv2.imread(frame_train_path)\n",
    "            data_set_pose.append(frame_to_cord(frame_pose_image))\n",
    "        if id_pose in [100, 500, 1000, 1400]:\n",
    "            print(f'Complete id_pose: {id_pose}')\n",
    "\n",
    "    print(f'Complete p_pose: {p_pose}')\n",
    "    data_set_all_pose.append(data_set_pose)"
   ]
  },
  {
   "cell_type": "code",
   "execution_count": 736,
   "id": "d5022d92-9759-41b0-806d-1f60f99b6908",
   "metadata": {},
   "outputs": [],
   "source": [
    "x_data_test = np.array(data_set_all_pose.copy())"
   ]
  },
  {
   "cell_type": "code",
   "execution_count": 737,
   "id": "5c3edd95-c101-4098-a933-db8a8b305cc0",
   "metadata": {},
   "outputs": [
    {
     "name": "stdout",
     "output_type": "stream",
     "text": [
      "(8, 1424, 18, 2)\n"
     ]
    }
   ],
   "source": [
    "print(np.asarray(x_data_test).shape)"
   ]
  },
  {
   "cell_type": "code",
   "execution_count": 738,
   "id": "e91f3585-b3b7-4c30-b035-93c27a6ba0d3",
   "metadata": {},
   "outputs": [],
   "source": [
    "x_dots_0 = list()\n",
    "x_dots_1 = list()\n",
    "x_dots_2 = list()\n",
    "\n",
    "y_dots_0 = list()\n",
    "y_dots_1 = list()\n",
    "y_dots_2 = list()\n",
    "\n",
    "for p_pose_data in range(len(x_data_test)):\n",
    "    if p_pose_data == 0:\n",
    "        for pic in x_data_test[p_pose_data]:\n",
    "            dots_1 = list()\n",
    "            for i in range(18):\n",
    "                dots_1.append(pic[i][0])\n",
    "                dots_1.append(pic[i][1])\n",
    "            x_dots_1.append(dots_1)\n",
    "            y_dots_1.append(1)\n",
    "                \n",
    "    elif p_pose_data == 7:\n",
    "        for pic in x_data_test[p_pose_data]:\n",
    "            dots_2 = list()\n",
    "            for i in range(18):\n",
    "                dots_2.append(pic[i][0])\n",
    "                dots_2.append(pic[i][1])\n",
    "            x_dots_2.append(dots_2)\n",
    "            y_dots_2.append(2)\n",
    "    else:\n",
    "        for pic in x_data_test[p_pose_data]:\n",
    "            dots_0 = list()\n",
    "            for i in range(18):\n",
    "                dots_0.append(pic[i][0])\n",
    "                dots_0.append(pic[i][1])\n",
    "            x_dots_0.append(dots_0)\n",
    "            y_dots_0.append(0)"
   ]
  },
  {
   "cell_type": "code",
   "execution_count": 739,
   "id": "fc4c5ba9-018e-4812-975e-128b25f4c2ea",
   "metadata": {},
   "outputs": [],
   "source": [
    "x_dots_0, y_dots_0 = shuffle(x_dots_0, y_dots_0)"
   ]
  },
  {
   "cell_type": "code",
   "execution_count": 740,
   "id": "3a8999ff-3119-4bb5-8c71-1eded0a12348",
   "metadata": {},
   "outputs": [],
   "source": [
    "x_dots_0, y_dots_0 = x_dots_0[:2000], y_dots_0[:2000]"
   ]
  },
  {
   "cell_type": "code",
   "execution_count": 741,
   "id": "f074407a-9df6-49b3-b369-910078204e56",
   "metadata": {},
   "outputs": [],
   "source": [
    "x_data = np.concatenate((x_dots_0, x_dots_1, x_dots_2), axis=0)\n",
    "y_data = np.concatenate((y_dots_0, y_dots_1, y_dots_2), axis=0)"
   ]
  },
  {
   "cell_type": "code",
   "execution_count": 742,
   "id": "747ae6ec-6942-429a-9be5-1b4b787e3657",
   "metadata": {},
   "outputs": [
    {
     "name": "stdout",
     "output_type": "stream",
     "text": [
      "(4848, 36)\n"
     ]
    }
   ],
   "source": [
    "print(np.asarray(x_data).shape)"
   ]
  },
  {
   "cell_type": "code",
   "execution_count": 743,
   "id": "3d3de60c-ccf1-4bf9-8558-a7f7f99855b2",
   "metadata": {},
   "outputs": [
    {
     "name": "stdout",
     "output_type": "stream",
     "text": [
      "(4848, 36)\n",
      "(4848,)\n"
     ]
    }
   ],
   "source": [
    "print(np.asarray(x_data).shape)\n",
    "print(np.asarray(y_data).shape)"
   ]
  },
  {
   "cell_type": "code",
   "execution_count": 744,
   "id": "536459a4-9c0e-4c5c-b0bf-1feb4191d424",
   "metadata": {},
   "outputs": [],
   "source": [
    "np.save(\"/Users/odner/Documents/Programming/Hackatons/Hack_24_08_2023/data/x_data.npy\", x_data)\n",
    "np.save(\"/Users/odner/Documents/Programming/Hackatons/Hack_24_08_2023/data/y_data.npy\", y_data)"
   ]
  },
  {
   "cell_type": "code",
   "execution_count": 3,
   "id": "e33eef68-395a-4d8f-bd96-1d2a90cb1d36",
   "metadata": {},
   "outputs": [],
   "source": [
    "x_data = np.load(\"/Users/odner/Documents/Programming/Hackatons/Hack_24_08_2023/data/x_data.npy\")\n",
    "y_data = np.load(\"/Users/odner/Documents/Programming/Hackatons/Hack_24_08_2023/data/y_data.npy\")"
   ]
  },
  {
   "cell_type": "code",
   "execution_count": 4,
   "id": "41783256-153e-47ab-b46b-52ae8a23748b",
   "metadata": {},
   "outputs": [],
   "source": [
    "model_racurs = np.load('./model/model_racurs.pkl', allow_pickle=True)\n",
    "answer_racurs = model_racurs.predict([x_data[0]])"
   ]
  },
  {
   "cell_type": "code",
   "execution_count": null,
   "id": "d2355d76-d54e-462f-a3a7-d6e741651142",
   "metadata": {},
   "outputs": [],
   "source": []
  },
  {
   "cell_type": "code",
   "execution_count": 867,
   "id": "4ebc76f0-1772-4005-acba-0d11e9862615",
   "metadata": {},
   "outputs": [],
   "source": [
    "x_data, y_data = shuffle(x_data, y_data)\n",
    "x_train, x_test, y_train, y_test = train_test_split(x_data, y_data, test_size=0.01, random_state=21)"
   ]
  },
  {
   "cell_type": "code",
   "execution_count": 870,
   "id": "4595fdfc-bfa2-47f2-8bb0-ccc711bcdc13",
   "metadata": {},
   "outputs": [
    {
     "data": {
      "text/html": [
       "<style>#sk-container-id-200 {color: black;}#sk-container-id-200 pre{padding: 0;}#sk-container-id-200 div.sk-toggleable {background-color: white;}#sk-container-id-200 label.sk-toggleable__label {cursor: pointer;display: block;width: 100%;margin-bottom: 0;padding: 0.3em;box-sizing: border-box;text-align: center;}#sk-container-id-200 label.sk-toggleable__label-arrow:before {content: \"▸\";float: left;margin-right: 0.25em;color: #696969;}#sk-container-id-200 label.sk-toggleable__label-arrow:hover:before {color: black;}#sk-container-id-200 div.sk-estimator:hover label.sk-toggleable__label-arrow:before {color: black;}#sk-container-id-200 div.sk-toggleable__content {max-height: 0;max-width: 0;overflow: hidden;text-align: left;background-color: #f0f8ff;}#sk-container-id-200 div.sk-toggleable__content pre {margin: 0.2em;color: black;border-radius: 0.25em;background-color: #f0f8ff;}#sk-container-id-200 input.sk-toggleable__control:checked~div.sk-toggleable__content {max-height: 200px;max-width: 100%;overflow: auto;}#sk-container-id-200 input.sk-toggleable__control:checked~label.sk-toggleable__label-arrow:before {content: \"▾\";}#sk-container-id-200 div.sk-estimator input.sk-toggleable__control:checked~label.sk-toggleable__label {background-color: #d4ebff;}#sk-container-id-200 div.sk-label input.sk-toggleable__control:checked~label.sk-toggleable__label {background-color: #d4ebff;}#sk-container-id-200 input.sk-hidden--visually {border: 0;clip: rect(1px 1px 1px 1px);clip: rect(1px, 1px, 1px, 1px);height: 1px;margin: -1px;overflow: hidden;padding: 0;position: absolute;width: 1px;}#sk-container-id-200 div.sk-estimator {font-family: monospace;background-color: #f0f8ff;border: 1px dotted black;border-radius: 0.25em;box-sizing: border-box;margin-bottom: 0.5em;}#sk-container-id-200 div.sk-estimator:hover {background-color: #d4ebff;}#sk-container-id-200 div.sk-parallel-item::after {content: \"\";width: 100%;border-bottom: 1px solid gray;flex-grow: 1;}#sk-container-id-200 div.sk-label:hover label.sk-toggleable__label {background-color: #d4ebff;}#sk-container-id-200 div.sk-serial::before {content: \"\";position: absolute;border-left: 1px solid gray;box-sizing: border-box;top: 0;bottom: 0;left: 50%;z-index: 0;}#sk-container-id-200 div.sk-serial {display: flex;flex-direction: column;align-items: center;background-color: white;padding-right: 0.2em;padding-left: 0.2em;position: relative;}#sk-container-id-200 div.sk-item {position: relative;z-index: 1;}#sk-container-id-200 div.sk-parallel {display: flex;align-items: stretch;justify-content: center;background-color: white;position: relative;}#sk-container-id-200 div.sk-item::before, #sk-container-id-200 div.sk-parallel-item::before {content: \"\";position: absolute;border-left: 1px solid gray;box-sizing: border-box;top: 0;bottom: 0;left: 50%;z-index: -1;}#sk-container-id-200 div.sk-parallel-item {display: flex;flex-direction: column;z-index: 1;position: relative;background-color: white;}#sk-container-id-200 div.sk-parallel-item:first-child::after {align-self: flex-end;width: 50%;}#sk-container-id-200 div.sk-parallel-item:last-child::after {align-self: flex-start;width: 50%;}#sk-container-id-200 div.sk-parallel-item:only-child::after {width: 0;}#sk-container-id-200 div.sk-dashed-wrapped {border: 1px dashed gray;margin: 0 0.4em 0.5em 0.4em;box-sizing: border-box;padding-bottom: 0.4em;background-color: white;}#sk-container-id-200 div.sk-label label {font-family: monospace;font-weight: bold;display: inline-block;line-height: 1.2em;}#sk-container-id-200 div.sk-label-container {text-align: center;}#sk-container-id-200 div.sk-container {/* jupyter's `normalize.less` sets `[hidden] { display: none; }` but bootstrap.min.css set `[hidden] { display: none !important; }` so we also need the `!important` here to be able to override the default hidden behavior on the sphinx rendered scikit-learn.org. See: https://github.com/scikit-learn/scikit-learn/issues/21755 */display: inline-block !important;position: relative;}#sk-container-id-200 div.sk-text-repr-fallback {display: none;}</style><div id=\"sk-container-id-200\" class=\"sk-top-container\"><div class=\"sk-text-repr-fallback\"><pre>SVC(kernel=&#x27;poly&#x27;, probability=True)</pre><b>In a Jupyter environment, please rerun this cell to show the HTML representation or trust the notebook. <br />On GitHub, the HTML representation is unable to render, please try loading this page with nbviewer.org.</b></div><div class=\"sk-container\" hidden><div class=\"sk-item\"><div class=\"sk-estimator sk-toggleable\"><input class=\"sk-toggleable__control sk-hidden--visually\" id=\"sk-estimator-id-202\" type=\"checkbox\" checked><label for=\"sk-estimator-id-202\" class=\"sk-toggleable__label sk-toggleable__label-arrow\">SVC</label><div class=\"sk-toggleable__content\"><pre>SVC(kernel=&#x27;poly&#x27;, probability=True)</pre></div></div></div></div></div>"
      ],
      "text/plain": [
       "SVC(kernel='poly', probability=True)"
      ]
     },
     "execution_count": 870,
     "metadata": {},
     "output_type": "execute_result"
    }
   ],
   "source": [
    "lin_clf = svm.SVC(kernel='poly', probability=True)\n",
    "lin_clf.fit(x_train, y_train)"
   ]
  },
  {
   "cell_type": "code",
   "execution_count": 871,
   "id": "7f017f07-3040-4db7-a81a-c35a1d915288",
   "metadata": {},
   "outputs": [
    {
     "name": "stdout",
     "output_type": "stream",
     "text": [
      "0.9387755102040817\n"
     ]
    }
   ],
   "source": [
    "correct = 0\n",
    "y_test, x_test = y_test, x_test\n",
    "\n",
    "\n",
    "for i in range(len(x_test)):\n",
    "    dec = lin_clf.predict([x_test[i]])\n",
    "    if dec==y_test[i]: correct+=1\n",
    "print(correct/len(x_test))"
   ]
  },
  {
   "cell_type": "code",
   "execution_count": 872,
   "id": "36b1abf7-5fdf-4071-824c-c6e7fbf330a7",
   "metadata": {},
   "outputs": [],
   "source": [
    "with open('./model_check_P1_P10_938.pkl','wb') as f:\n",
    "    pickle.dump(lin_clf, f)"
   ]
  },
  {
   "cell_type": "code",
   "execution_count": 827,
   "id": "e216c12c-955e-4cd6-9f51-7a2c6db8684c",
   "metadata": {},
   "outputs": [
    {
     "data": {
      "text/html": [
       "<style>#sk-container-id-185 {color: black;}#sk-container-id-185 pre{padding: 0;}#sk-container-id-185 div.sk-toggleable {background-color: white;}#sk-container-id-185 label.sk-toggleable__label {cursor: pointer;display: block;width: 100%;margin-bottom: 0;padding: 0.3em;box-sizing: border-box;text-align: center;}#sk-container-id-185 label.sk-toggleable__label-arrow:before {content: \"▸\";float: left;margin-right: 0.25em;color: #696969;}#sk-container-id-185 label.sk-toggleable__label-arrow:hover:before {color: black;}#sk-container-id-185 div.sk-estimator:hover label.sk-toggleable__label-arrow:before {color: black;}#sk-container-id-185 div.sk-toggleable__content {max-height: 0;max-width: 0;overflow: hidden;text-align: left;background-color: #f0f8ff;}#sk-container-id-185 div.sk-toggleable__content pre {margin: 0.2em;color: black;border-radius: 0.25em;background-color: #f0f8ff;}#sk-container-id-185 input.sk-toggleable__control:checked~div.sk-toggleable__content {max-height: 200px;max-width: 100%;overflow: auto;}#sk-container-id-185 input.sk-toggleable__control:checked~label.sk-toggleable__label-arrow:before {content: \"▾\";}#sk-container-id-185 div.sk-estimator input.sk-toggleable__control:checked~label.sk-toggleable__label {background-color: #d4ebff;}#sk-container-id-185 div.sk-label input.sk-toggleable__control:checked~label.sk-toggleable__label {background-color: #d4ebff;}#sk-container-id-185 input.sk-hidden--visually {border: 0;clip: rect(1px 1px 1px 1px);clip: rect(1px, 1px, 1px, 1px);height: 1px;margin: -1px;overflow: hidden;padding: 0;position: absolute;width: 1px;}#sk-container-id-185 div.sk-estimator {font-family: monospace;background-color: #f0f8ff;border: 1px dotted black;border-radius: 0.25em;box-sizing: border-box;margin-bottom: 0.5em;}#sk-container-id-185 div.sk-estimator:hover {background-color: #d4ebff;}#sk-container-id-185 div.sk-parallel-item::after {content: \"\";width: 100%;border-bottom: 1px solid gray;flex-grow: 1;}#sk-container-id-185 div.sk-label:hover label.sk-toggleable__label {background-color: #d4ebff;}#sk-container-id-185 div.sk-serial::before {content: \"\";position: absolute;border-left: 1px solid gray;box-sizing: border-box;top: 0;bottom: 0;left: 50%;z-index: 0;}#sk-container-id-185 div.sk-serial {display: flex;flex-direction: column;align-items: center;background-color: white;padding-right: 0.2em;padding-left: 0.2em;position: relative;}#sk-container-id-185 div.sk-item {position: relative;z-index: 1;}#sk-container-id-185 div.sk-parallel {display: flex;align-items: stretch;justify-content: center;background-color: white;position: relative;}#sk-container-id-185 div.sk-item::before, #sk-container-id-185 div.sk-parallel-item::before {content: \"\";position: absolute;border-left: 1px solid gray;box-sizing: border-box;top: 0;bottom: 0;left: 50%;z-index: -1;}#sk-container-id-185 div.sk-parallel-item {display: flex;flex-direction: column;z-index: 1;position: relative;background-color: white;}#sk-container-id-185 div.sk-parallel-item:first-child::after {align-self: flex-end;width: 50%;}#sk-container-id-185 div.sk-parallel-item:last-child::after {align-self: flex-start;width: 50%;}#sk-container-id-185 div.sk-parallel-item:only-child::after {width: 0;}#sk-container-id-185 div.sk-dashed-wrapped {border: 1px dashed gray;margin: 0 0.4em 0.5em 0.4em;box-sizing: border-box;padding-bottom: 0.4em;background-color: white;}#sk-container-id-185 div.sk-label label {font-family: monospace;font-weight: bold;display: inline-block;line-height: 1.2em;}#sk-container-id-185 div.sk-label-container {text-align: center;}#sk-container-id-185 div.sk-container {/* jupyter's `normalize.less` sets `[hidden] { display: none; }` but bootstrap.min.css set `[hidden] { display: none !important; }` so we also need the `!important` here to be able to override the default hidden behavior on the sphinx rendered scikit-learn.org. See: https://github.com/scikit-learn/scikit-learn/issues/21755 */display: inline-block !important;position: relative;}#sk-container-id-185 div.sk-text-repr-fallback {display: none;}</style><div id=\"sk-container-id-185\" class=\"sk-top-container\"><div class=\"sk-text-repr-fallback\"><pre>SVC(kernel=&#x27;poly&#x27;, probability=True)</pre><b>In a Jupyter environment, please rerun this cell to show the HTML representation or trust the notebook. <br />On GitHub, the HTML representation is unable to render, please try loading this page with nbviewer.org.</b></div><div class=\"sk-container\" hidden><div class=\"sk-item\"><div class=\"sk-estimator sk-toggleable\"><input class=\"sk-toggleable__control sk-hidden--visually\" id=\"sk-estimator-id-187\" type=\"checkbox\" checked><label for=\"sk-estimator-id-187\" class=\"sk-toggleable__label sk-toggleable__label-arrow\">SVC</label><div class=\"sk-toggleable__content\"><pre>SVC(kernel=&#x27;poly&#x27;, probability=True)</pre></div></div></div></div></div>"
      ],
      "text/plain": [
       "SVC(kernel='poly', probability=True)"
      ]
     },
     "execution_count": 827,
     "metadata": {},
     "output_type": "execute_result"
    }
   ],
   "source": [
    "np.load('./model_check_P1_P10_918.pkl', allow_pickle=True)"
   ]
  },
  {
   "cell_type": "code",
   "execution_count": 881,
   "id": "f721bfc8-f673-4a06-94a1-6e574d970108",
   "metadata": {},
   "outputs": [
    {
     "data": {
      "text/plain": [
       "array([[0.01560647, 0.0027861 , 0.98160742]])"
      ]
     },
     "execution_count": 881,
     "metadata": {},
     "output_type": "execute_result"
    }
   ],
   "source": [
    "model = np.load('./model_check_P1_P10_938.pkl', allow_pickle=True)\n",
    "ansver = model.predict_proba([x_test[8]])\n",
    "ansver"
   ]
  },
  {
   "cell_type": "code",
   "execution_count": 884,
   "id": "248cf51f-cea1-4400-97a5-6d3d0a382636",
   "metadata": {},
   "outputs": [
    {
     "data": {
      "text/plain": [
       "2"
      ]
     },
     "execution_count": 884,
     "metadata": {},
     "output_type": "execute_result"
    }
   ],
   "source": [
    "np.argmax(ansver)"
   ]
  },
  {
   "cell_type": "code",
   "execution_count": 46,
   "id": "e453f1ca-d5f3-4bd2-a844-3d0a9e63b19b",
   "metadata": {},
   "outputs": [],
   "source": [
    "import cv2\n",
    "import matplotlib.pyplot as plt"
   ]
  },
  {
   "cell_type": "code",
   "execution_count": 189,
   "id": "35ec47ff-a4cf-4de6-8dd2-0ff4cba8021a",
   "metadata": {},
   "outputs": [],
   "source": [
    "frame_path = './tet/2.jpg'  # Replace with the actual image file path\n",
    "frame = cv2.imread(frame_path)"
   ]
  },
  {
   "cell_type": "code",
   "execution_count": 190,
   "id": "b6bd0775-c470-4aac-8cd8-ac850986e7f6",
   "metadata": {},
   "outputs": [
    {
     "data": {
      "text/plain": [
       "<matplotlib.image.AxesImage at 0x17b91c430>"
      ]
     },
     "execution_count": 190,
     "metadata": {},
     "output_type": "execute_result"
    },
    {
     "data": {
      "image/png": "[encoded data removed]",
      "text/plain": [
       "<Figure size 640x480 with 1 Axes>"
      ]
     },
     "metadata": {},
     "output_type": "display_data"
    }
   ],
   "source": [
    "image_rgb = cv2.cvtColor(frame, cv2.COLOR_BGR2RGB)\n",
    "plt.imshow(image_rgb)"
   ]
  },
  {
   "cell_type": "code",
   "execution_count": 191,
   "id": "61d3a468-b8f0-4acf-876d-4fd5cc12d318",
   "metadata": {},
   "outputs": [],
   "source": [
    "blurred = cv2.GaussianBlur(frame, (5,5), 0)\n",
    "greenLower = (27, 105, 145)\n",
    "greenUpper = (90, 255, 255)\n",
    "hsv = cv2.cvtColor(blurred, cv2.COLOR_BGR2HSV)\n",
    "mask = cv2.inRange(hsv, greenLower, greenUpper)"
   ]
  },
  {
   "cell_type": "code",
   "execution_count": 192,
   "id": "2e92d9fe-88e0-4d5f-9b99-a13828237c6f",
   "metadata": {},
   "outputs": [
    {
     "data": {
      "text/plain": [
       "<matplotlib.image.AxesImage at 0x17b991af0>"
      ]
     },
     "execution_count": 192,
     "metadata": {},
     "output_type": "execute_result"
    },
    {
     "data": {
      "image/png": "[encoded data removed]",
      "text/plain": [
       "<Figure size 640x480 with 1 Axes>"
      ]
     },
     "metadata": {},
     "output_type": "display_data"
    }
   ],
   "source": [
    "plt.imshow(mask)"
   ]
  },
  {
   "cell_type": "code",
   "execution_count": 193,
   "id": "0d1d0f1c-f0af-49a4-a92b-25cd0032cace",
   "metadata": {},
   "outputs": [
    {
     "ename": "NameError",
     "evalue": "name 'img' is not defined",
     "output_type": "error",
     "traceback": [
      "\u001b[0;31m---------------------------------------------------------------------------\u001b[0m",
      "\u001b[0;31mNameError\u001b[0m                                 Traceback (most recent call last)",
      "Cell \u001b[0;32mIn[193], line 1\u001b[0m\n\u001b[0;32m----> 1\u001b[0m cv2\u001b[38;5;241m.\u001b[39mimshow(\u001b[38;5;124m'\u001b[39m\u001b[38;5;124mimage\u001b[39m\u001b[38;5;124m'\u001b[39m, \u001b[43mimg\u001b[49m)\n",
      "\u001b[0;31mNameError\u001b[0m: name 'img' is not defined"
     ]
    }
   ],
   "source": [
    "cv2.imshow('image', img)"
   ]
  },
  {
   "cell_type": "code",
   "execution_count": 54,
   "id": "c63a146c-85c7-4136-a85b-e817226ea521",
   "metadata": {},
   "outputs": [],
   "source": [
    "blurred = cv2.GaussianBlur(frame, (5,5), 0)"
   ]
  },
  {
   "cell_type": "code",
   "execution_count": 194,
   "id": "60621d0a-9d0b-4ae5-9f15-0ebc26b74e83",
   "metadata": {},
   "outputs": [
    {
     "name": "stdout",
     "output_type": "stream",
     "text": [
      "Requirement already satisfied: opencv-python in /Users/odner/miniconda3/envs/torch/lib/python3.8/site-packages (4.8.0.76)\n",
      "Collecting tensorflow\n",
      "  Obtaining dependency information for tensorflow from https://files.pythonhosted.org/packages/b9/ab/a04186eaaeaa1969b4d81dc74aa440f98c8eb7c92b0cd33ceda37b70d46e/tensorflow-2.13.0-cp38-cp38-macosx_12_0_arm64.whl.metadata\n",
      "  Downloading tensorflow-2.13.0-cp38-cp38-macosx_12_0_arm64.whl.metadata (2.6 kB)\n",
      "\u001b[31mERROR: Could not find a version that satisfies the requirement keras-yolo3 (from versions: none)\u001b[0m\u001b[31m\n",
      "\u001b[0m\u001b[31mERROR: No matching distribution found for keras-yolo3\u001b[0m\u001b[31m\n",
      "\u001b[0m"
     ]
    }
   ],
   "source": [
    "!pip install opencv-python tensorflow"
   ]
  },
  {
   "cell_type": "code",
   "execution_count": 198,
   "id": "05dd822b-748d-49a1-b519-22ece821e5ee",
   "metadata": {},
   "outputs": [
    {
     "name": "stdout",
     "output_type": "stream",
     "text": [
      "\u001b[31mERROR: Could not find a version that satisfies the requirement keras-yolo3 (from versions: none)\u001b[0m\u001b[31m\n",
      "\u001b[0m\u001b[31mERROR: No matching distribution found for keras-yolo3\u001b[0m\u001b[31m\n",
      "\u001b[0m"
     ]
    }
   ],
   "source": [
    "!pip install keras-yolo3"
   ]
  },
  {
   "cell_type": "code",
   "execution_count": 196,
   "id": "29c7f188-995b-4a2f-8289-884ddf2f4315",
   "metadata": {},
   "outputs": [
    {
     "ename": "ModuleNotFoundError",
     "evalue": "No module named 'keras_yolo3'",
     "output_type": "error",
     "traceback": [
      "\u001b[0;31m---------------------------------------------------------------------------\u001b[0m",
      "\u001b[0;31mModuleNotFoundError\u001b[0m                       Traceback (most recent call last)",
      "Cell \u001b[0;32mIn[196], line 2\u001b[0m\n\u001b[1;32m      1\u001b[0m \u001b[38;5;28;01mimport\u001b[39;00m \u001b[38;5;21;01mcv2\u001b[39;00m\n\u001b[0;32m----> 2\u001b[0m \u001b[38;5;28;01mfrom\u001b[39;00m \u001b[38;5;21;01mkeras_yolo3\u001b[39;00m\u001b[38;5;21;01m.\u001b[39;00m\u001b[38;5;21;01myolo\u001b[39;00m \u001b[38;5;28;01mimport\u001b[39;00m YOLO\n\u001b[1;32m      4\u001b[0m \u001b[38;5;66;03m# Загрузка модели YOLO\u001b[39;00m\n\u001b[1;32m      5\u001b[0m yolo \u001b[38;5;241m=\u001b[39m YOLO()\n",
      "\u001b[0;31mModuleNotFoundError\u001b[0m: No module named 'keras_yolo3'"
     ]
    }
   ],
   "source": [
    "import cv2\n",
    "from keras_yolo3.yolo import YOLO\n",
    "\n",
    "# Загрузка модели YOLO\n",
    "yolo = YOLO()"
   ]
  },
  {
   "cell_type": "code",
   "execution_count": null,
   "id": "35f193ad-5e7d-4842-80f9-0774ac78ed55",
   "metadata": {},
   "outputs": [],
   "source": [
    "image_path = 'путь/к/вашему/изображению.jpg'  # Замените на фактический путь к файлу изображения\n",
    "image = cv2.imread(image_path)"
   ]
  },
  {
   "cell_type": "code",
   "execution_count": null,
   "id": "4dfb851c-d9b8-4bb4-a183-e9b7ea857ef4",
   "metadata": {},
   "outputs": [],
   "source": [
    "# Нарисовать ограничивающие рамки на изображении\n",
    "for box, score, class_id in zip(boxes, scores, classes):\n",
    "    top, left, bottom, right = box\n",
    "    cv2.rectangle(image, (left, top), (right, bottom), (0, 255, 0), 2)\n",
    "    label = f'Мяч для гольфа: {score:.2f}'\n",
    "    cv2.putText(image, label, (left, top - 10), cv2.FONT_HERSHEY_SIMPLEX, 0.5, (0, 255, 0), 2)\n",
    "\n",
    "# Показать результат\n",
    "cv2.imshow('Обнаружение мяча для гольфа', image)\n",
    "cv2.waitKey(0)\n",
    "cv2.destroyAllWindows()"
   ]
  },
  {
   "cell_type": "code",
   "execution_count": null,
   "id": "d4c66ca9-4dd0-4a27-83fe-e0619024169f",
   "metadata": {},
   "outputs": [],
   "source": []
  },
  {
   "cell_type": "code",
   "execution_count": 201,
   "id": "b0417a0d-7a23-4524-be06-e2282e2692dd",
   "metadata": {},
   "outputs": [],
   "source": [
    "import os\n",
    "import numpy as np\n",
    "\n",
    "video_folder = './Тест'\n",
    "video_names = [filename for filename in os.listdir(video_folder) if filename.endswith('.mp4')]"
   ]
  },
  {
   "cell_type": "code",
   "execution_count": 207,
   "id": "40a5b623-624f-4800-987e-64c7ef0e82d6",
   "metadata": {},
   "outputs": [
    {
     "name": "stdout",
     "output_type": "stream",
     "text": [
      "33\n"
     ]
    }
   ],
   "source": [
    "print(len(video_names))"
   ]
  },
  {
   "cell_type": "code",
   "execution_count": 206,
   "id": "6f8668e6-8615-4745-bb2b-6d7567126fae",
   "metadata": {},
   "outputs": [
    {
     "name": "stdout",
     "output_type": "stream",
     "text": [
      "The file 'c0b93372-0b19-430d-a92f-5de0472a2a35.mp4' does not exist in the folder.\n",
      "The file '949e17f3-2818-4815-bb1c-f26a0c95d179.mp4' does not exist in the folder.\n",
      "The file 'f18a27f8-6460-401f-8c67-33d09c27b87b.mp4' does not exist in the folder.\n",
      "The file '5badc618-782b-43f2-86e6-365279981524.mp4' does not exist in the folder.\n",
      "The file 'f8f1e5c4-068d-405d-8953-d640aaa08517.mp4' does not exist in the folder.\n",
      "The file '229f1a5d-a573-41d2-a1c5-155bd3b643dc.mp4' does not exist in the folder.\n",
      "The file '0ae17d29-242b-40ec-bff6-fe6b23ac8824.mp4' does not exist in the folder.\n",
      "The file 'a73afde3-ea62-40bb-b6e4-4008a4d8ce0a.mp4' does not exist in the folder.\n",
      "The file 'bae78440-7c67-4dfc-bc20-bfbb9dd54255.mp4' does not exist in the folder.\n",
      "The file '00858b25-c5c3-4092-8ae7-5c61ada25097.mp4' does not exist in the folder.\n",
      "The file '27e9571c-2170-4178-90a8-a1108aa3a977.mp4' does not exist in the folder.\n",
      "The file 'e2fb434c-7c54-483c-990f-e0f39d61a2ff.mp4' does not exist in the folder.\n",
      "The file '9c44433c-6534-4d20-90d1-2a2835b46291.mp4' does not exist in the folder.\n",
      "The file 'fa9aff59-a9ff-4220-8f8e-65d45faf85de.mp4' does not exist in the folder.\n",
      "The file '67ae2f8c-9e3e-4215-b31b-c8b38e74a09a.mp4' does not exist in the folder.\n",
      "The file 'a8d9aa0b-4b73-47e7-8d51-d3863895dc81.mp4' does not exist in the folder.\n",
      "The file 'daf2ea36-8992-4f2d-8bb0-ddc950f019a2.mp4' does not exist in the folder.\n",
      "The file '1366a9b8-ec83-4f9a-9593-235ee4623269.mp4' does not exist in the folder.\n",
      "The file 'f53cc53d-07b2-49d9-a7a4-2ec328cde5fa.mp4' does not exist in the folder.\n",
      "The file 'f8b9e19d-f454-40f9-948d-907731823033.mp4' does not exist in the folder.\n",
      "The file 'bc9d5d76-d043-4a86-9f65-79938f28393c.mp4' does not exist in the folder.\n",
      "The file 'cf0d273e-7950-4098-8258-cf05285cc87f.mp4' does not exist in the folder.\n",
      "The file 'c4cd4deb-ad1b-4097-9632-05e494a1c0e8.mp4' does not exist in the folder.\n",
      "The file '6a9de841-481e-4f0f-9b47-8ca2be41891b.mp4' does not exist in the folder.\n",
      "The file '9e63c7c3-b4b1-40d0-b1fb-e6a8f726bffc.mp4' does not exist in the folder.\n",
      "The file '52bb20cc-2a34-46d8-9214-fe6fce5bf017.mp4' does not exist in the folder.\n",
      "The file 'cc979b72-5ee9-412d-a3ea-a0e11b53ba29.mp4' does not exist in the folder.\n",
      "The file '4bd7b045-a997-40e5-a60d-1b05d28d0992.mp4' does not exist in the folder.\n",
      "The file '55443cc1-03a9-4f61-a90c-acffe366f427.mp4' does not exist in the folder.\n",
      "The file '5b18838e-44ea-4e91-94b1-13f60807c400.mp4' does not exist in the folder.\n",
      "The file '30c305bc-3dbb-4f5f-8152-268c8c774667.mp4' does not exist in the folder.\n",
      "The file 'faefc825-90ad-490e-a2ed-8ca7bff04c2d.mp4' does not exist in the folder.\n",
      "The file 'e147b321-1e1e-4812-869e-c2e248366fec.mp4' does not exist in the folder.\n"
     ]
    }
   ],
   "source": [
    "for file_name_to_check in video_names:\n",
    "    file_path = os.path.join('./positions_of_the_golf_swing_train', file_name_to_check)\n",
    "    \n",
    "    if os.path.exists(file_path):\n",
    "        print(f\"The file '{file_name_to_check}' exists in the folder.\")\n",
    "    else:\n",
    "        print(f\"The file '{file_name_to_check}' does not exist in the folder.\")"
   ]
  },
  {
   "cell_type": "code",
   "execution_count": null,
   "id": "1b376a93-d965-465e-9102-b36a4b247e36",
   "metadata": {},
   "outputs": [],
   "source": []
  }
 ],
 "metadata": {
  "kernelspec": {
   "display_name": "Python 3.8 (pytorch)",
   "language": "python",
   "name": "pytorch"
  },
  "language_info": {
   "codemirror_mode": {
    "name": "ipython",
    "version": 3
   },
   "file_extension": ".py",
   "mimetype": "text/x-python",
   "name": "python",
   "nbconvert_exporter": "python",
   "pygments_lexer": "ipython3",
   "version": "3.8.17"
  }
 },
 "nbformat": 4,
 "nbformat_minor": 5
}
