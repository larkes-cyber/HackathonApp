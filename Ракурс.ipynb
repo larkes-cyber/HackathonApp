{
 "cells": [
  {
   "cell_type": "code",
   "execution_count": 2,
   "id": "84e9d1d8-d53f-4862-bebd-ac930abe4036",
   "metadata": {},
   "outputs": [],
   "source": [
    "import cv2\n",
    "import mediapipe as mp"
   ]
  },
  {
   "cell_type": "code",
   "execution_count": 70,
   "id": "9593de34-2d0c-4373-949e-4d826f05a5b2",
   "metadata": {},
   "outputs": [],
   "source": [
    "mp_pose = mp.solutions.pose\n",
    "pose = mp_pose.Pose(static_image_mode=True, model_complexity=1)\n",
    "mp_drawing = mp.solutions.drawing_utils"
   ]
  },
  {
   "cell_type": "code",
   "execution_count": 113,
   "id": "e9cadcd4-7bd0-4fef-ae3e-05b8024fef9b",
   "metadata": {},
   "outputs": [],
   "source": [
    "def video_now(video_array, data_frame_video = []):\n",
    "    if not video_array.isOpened():\n",
    "        print(\"Ошибка при открытии видеофайла.\")\n",
    "    count = 0\n",
    "    while True:\n",
    "        ret, frame = video_array.read()\n",
    "        if not ret:\n",
    "            break\n",
    "        if count%10==0:\n",
    "            res=frame_to_cord(frame)\n",
    "\n",
    "            if len(res)!=18: print(\"Error!\")\n",
    "            data_frame_video.append(res)\n",
    "        count +=1\n",
    "            \n",
    "    return data_frame_video"
   ]
  },
  {
   "cell_type": "code",
   "execution_count": 114,
   "id": "8f3dbd24-b3fe-4dfb-941b-174b535f10ce",
   "metadata": {},
   "outputs": [],
   "source": [
    "def frame_to_cord(frame):\n",
    "    num_block_access_cords = [8, 6, 5, 4, 1, 2, 3, 7, 18, 20, 22, 21, 19, 17]\n",
    "    num_access_cords = list(filter(lambda x: x not in num_block_access_cords, list(range(32))))\n",
    "\n",
    "                                \n",
    "    results = pose.process(cv2.cvtColor(frame, cv2.COLOR_BGR2RGB))\n",
    "\n",
    "    cord = list()\n",
    "    for i in num_access_cords:\n",
    "        try:\n",
    "            x = results.pose_landmarks.landmark[mp_pose.PoseLandmark(i).value].x\n",
    "            y = results.pose_landmarks.landmark[mp_pose.PoseLandmark(i).value].y\n",
    "            if x==None or y==None:\n",
    "                cord.append([-1, -1])\n",
    "            else: cord.append([x, y])\n",
    "        except:\n",
    "            cord.append([-1, -1])\n",
    "    \n",
    "    return cord"
   ]
  },
  {
   "cell_type": "code",
   "execution_count": 115,
   "id": "14786c09",
   "metadata": {},
   "outputs": [],
   "source": [
    "video_path = \"C:\\\\Users\\\\Nazarova Polina\\\\Desktop\\\\Кейс Синтез\\\\Датасет_Синтез\\\\face_on_videos\\\\-2848615634596107088.mp4\"\n",
    "video_array = []\n",
    "cap = cv2.VideoCapture(video_path)"
   ]
  },
  {
   "cell_type": "code",
   "execution_count": 116,
   "id": "dc636434",
   "metadata": {
    "scrolled": true
   },
   "outputs": [
    {
     "data": {
      "text/plain": [
       "[[[0.49047672748565674, 0.3927030861377716],\n",
       "  [0.5014196038246155, 0.3934067189693451],\n",
       "  [0.47894638776779175, 0.39197802543640137],\n",
       "  [0.5637378692626953, 0.4114511013031006],\n",
       "  [0.4111458659172058, 0.3729790449142456],\n",
       "  [0.464394748210907, 0.4798520505428314],\n",
       "  [0.3518739342689514, 0.4471586346626282],\n",
       "  [0.3432300090789795, 0.5192340612411499],\n",
       "  [0.2974660098552704, 0.5106288194656372],\n",
       "  [0.5384801030158997, 0.5045396089553833],\n",
       "  [0.447469025850296, 0.5033189654350281],\n",
       "  [0.5574833154678345, 0.6262306571006775],\n",
       "  [0.4111458659172058, 0.6150612235069275],\n",
       "  [0.5877037048339844, 0.713110625743866],\n",
       "  [0.3847302198410034, 0.7166464924812317],\n",
       "  [0.5801138281822205, 0.7234166264533997],\n",
       "  [0.39398664236068726, 0.7284985780715942],\n",
       "  [0.6089268922805786, 0.7569020390510559]],\n",
       " [[0.5711888074874878, 0.35692867636680603],\n",
       "  [0.5670264959335327, 0.36177998781204224],\n",
       "  [0.5578855872154236, 0.36642980575561523],\n",
       "  [0.538541316986084, 0.365887314081192],\n",
       "  [0.4994838833808899, 0.4043733477592468],\n",
       "  [0.6299017071723938, 0.3941500782966614],\n",
       "  [0.6134639978408813, 0.42999348044395447],\n",
       "  [0.7145708799362183, 0.42490386962890625],\n",
       "  [0.7249808311462402, 0.43197932839393616],\n",
       "  [0.5337063670158386, 0.5056121349334717],\n",
       "  [0.465013325214386, 0.5109753012657166],\n",
       "  [0.5642143487930298, 0.6091651916503906],\n",
       "  [0.4554074704647064, 0.622028112411499],\n",
       "  [0.5926924347877502, 0.7131460905075073],\n",
       "  [0.3759378492832184, 0.7177262306213379],\n",
       "  [0.5763577222824097, 0.7289446592330933],\n",
       "  [0.35552704334259033, 0.7290278673171997],\n",
       "  [0.626456081867218, 0.7582042813301086]],\n",
       " [[0.6094777584075928, 0.33576902747154236],\n",
       "  [0.6013692617416382, 0.34332209825515747],\n",
       "  [0.5961955785751343, 0.34607213735580444],\n",
       "  [0.5500674843788147, 0.3512301445007324],\n",
       "  [0.558631181716919, 0.3881109952926636],\n",
       "  [0.6836578845977783, 0.3580634593963623],\n",
       "  [0.6923428773880005, 0.37888288497924805],\n",
       "  [0.7917975187301636, 0.3531811237335205],\n",
       "  [0.7673602104187012, 0.35652783513069153],\n",
       "  [0.5384141802787781, 0.5087969303131104],\n",
       "  [0.4991222620010376, 0.5157461762428284],\n",
       "  [0.5681567788124084, 0.6117417216300964],\n",
       "  [0.4636303782463074, 0.6244537234306335],\n",
       "  [0.5948522686958313, 0.7104758024215698],\n",
       "  [0.3678756356239319, 0.7149190902709961],\n",
       "  [0.5754224061965942, 0.7279601693153381],\n",
       "  [0.340104877948761, 0.7257540225982666],\n",
       "  [0.6405859589576721, 0.7540875673294067]],\n",
       " [[0.6096144318580627, 0.3349537253379822],\n",
       "  [0.6028094291687012, 0.3443033695220947],\n",
       "  [0.5964182615280151, 0.3477562665939331],\n",
       "  [0.574906587600708, 0.354853093624115],\n",
       "  [0.5596699714660645, 0.3943794071674347],\n",
       "  [0.7048221826553345, 0.37442123889923096],\n",
       "  [0.7202749848365784, 0.3961827754974365],\n",
       "  [0.8406064510345459, 0.3796035945415497],\n",
       "  [0.8426293730735779, 0.3807692527770996],\n",
       "  [0.5651620626449585, 0.5129425525665283],\n",
       "  [0.5017853379249573, 0.5170674920082092],\n",
       "  [0.5712098479270935, 0.6167820692062378],\n",
       "  [0.45728760957717896, 0.6258810758590698],\n",
       "  [0.5916160345077515, 0.714665412902832],\n",
       "  [0.36337944865226746, 0.7158007621765137],\n",
       "  [0.5734690427780151, 0.7291363477706909],\n",
       "  [0.337101548910141, 0.7238878011703491],\n",
       "  [0.6284871697425842, 0.7614606022834778]],\n",
       " [[0.6083309650421143, 0.3519829511642456],\n",
       "  [0.6035944223403931, 0.35952192544937134],\n",
       "  [0.5931587219238281, 0.36322247982025146],\n",
       "  [0.5836902260780334, 0.3677605390548706],\n",
       "  [0.5454381108283997, 0.40687820315361023],\n",
       "  [0.6909198760986328, 0.39475759863853455],\n",
       "  [0.7021805047988892, 0.4267794191837311],\n",
       "  [0.8140649199485779, 0.4207744002342224],\n",
       "  [0.8302627801895142, 0.42650192975997925],\n",
       "  [0.5589188933372498, 0.5204899311065674],\n",
       "  [0.4979793429374695, 0.5248539447784424],\n",
       "  [0.5727720856666565, 0.6238285303115845],\n",
       "  [0.4479590654373169, 0.6287796497344971],\n",
       "  [0.5789951086044312, 0.7218922972679138],\n",
       "  [0.355383038520813, 0.724144458770752],\n",
       "  [0.5593785047531128, 0.7362592220306396],\n",
       "  [0.3289024233818054, 0.7346971035003662],\n",
       "  [0.6186453700065613, 0.7656748294830322]],\n",
       " [[0.5881208777427673, 0.34474605321884155],\n",
       "  [0.590380072593689, 0.35422760248184204],\n",
       "  [0.5709735155105591, 0.3562203049659729],\n",
       "  [0.6211032271385193, 0.36894479393959045],\n",
       "  [0.4954207241535187, 0.39103391766548157],\n",
       "  [0.6651818752288818, 0.44223278760910034],\n",
       "  [0.5895498991012573, 0.46154946088790894],\n",
       "  [0.7112672924995422, 0.5225810408592224],\n",
       "  [0.698337972164154, 0.5261434316635132],\n",
       "  [0.5726974606513977, 0.5175950527191162],\n",
       "  [0.49318450689315796, 0.519376277923584],\n",
       "  [0.5894973278045654, 0.6369991898536682],\n",
       "  [0.4643423855304718, 0.6406283378601074],\n",
       "  [0.5744059085845947, 0.728098452091217],\n",
       "  [0.36238154768943787, 0.7242028117179871],\n",
       "  [0.554364800453186, 0.7410340309143066],\n",
       "  [0.3364551067352295, 0.7309125661849976],\n",
       "  [0.6145793199539185, 0.7691584825515747]]]"
      ]
     },
     "execution_count": 116,
     "metadata": {},
     "output_type": "execute_result"
    }
   ],
   "source": [
    "cap = cv2.VideoCapture(video_path)\n",
    "video_now(cap)"
   ]
  },
  {
   "cell_type": "code",
   "execution_count": 129,
   "id": "eb9418a3",
   "metadata": {},
   "outputs": [
    {
     "name": "stdout",
     "output_type": "stream",
     "text": [
      "C:\\Users\\Nazarova Polina\\Desktop\\Кейс Синтез\\Датасет_Синтез\\face_on_videos\\-2848615634596107088.mp4\n",
      "C:\\Users\\Nazarova Polina\\Desktop\\Кейс Синтез\\Датасет_Синтез\\face_on_videos\\-5341804404774293621.mp4\n",
      "C:\\Users\\Nazarova Polina\\Desktop\\Кейс Синтез\\Датасет_Синтез\\face_on_videos\\Front-6.mp4\n",
      "C:\\Users\\Nazarova Polina\\Desktop\\Кейс Синтез\\Датасет_Синтез\\face_on_videos\\Front-6.mp4.mp4\n",
      "C:\\Users\\Nazarova Polina\\Desktop\\Кейс Синтез\\Датасет_Синтез\\face_on_videos\\image_picker1764086013541721514.mp4.mp4\n",
      "C:\\Users\\Nazarova Polina\\Desktop\\Кейс Синтез\\Датасет_Синтез\\face_on_videos\\image_picker3395546139163340517.mp4\n",
      "C:\\Users\\Nazarova Polina\\Desktop\\Кейс Синтез\\Датасет_Синтез\\face_on_videos\\image_picker341423690675957690.mp4.mp4\n",
      "C:\\Users\\Nazarova Polina\\Desktop\\Кейс Синтез\\Датасет_Синтез\\face_on_videos\\image_picker4034111106295088349.mp4\n",
      "C:\\Users\\Nazarova Polina\\Desktop\\Кейс Синтез\\Датасет_Синтез\\face_on_videos\\image_picker429321974312927988.mp4\n",
      "C:\\Users\\Nazarova Polina\\Desktop\\Кейс Синтез\\Датасет_Синтез\\face_on_videos\\image_picker5017088693160813985.mp4\n",
      "C:\\Users\\Nazarova Polina\\Desktop\\Кейс Синтез\\Датасет_Синтез\\face_on_videos\\image_picker8895840134642642028.mp4\n",
      "C:\\Users\\Nazarova Polina\\Desktop\\Кейс Синтез\\Датасет_Синтез\\face_on_videos\\IMG_2201(1).mov\n",
      "C:\\Users\\Nazarova Polina\\Desktop\\Кейс Синтез\\Датасет_Синтез\\face_on_videos\\IMG_2201.MOV\n",
      "C:\\Users\\Nazarova Polina\\Desktop\\Кейс Синтез\\Датасет_Синтез\\face_on_videos\\IMG_5555.mov\n",
      "C:\\Users\\Nazarova Polina\\Desktop\\Кейс Синтез\\Датасет_Синтез\\face_on_videos\\IMG_5555.mov.mp4.mp4\n",
      "C:\\Users\\Nazarova Polina\\Desktop\\Кейс Синтез\\Датасет_Синтез\\face_on_videos\\IMG_5574.mov\n",
      "C:\\Users\\Nazarova Polina\\Desktop\\Кейс Синтез\\Датасет_Синтез\\face_on_videos\\IMG_6398.mov\n",
      "C:\\Users\\Nazarova Polina\\Desktop\\Кейс Синтез\\Датасет_Синтез\\face_on_videos\\IMG_6398.mov.mp4\n",
      "C:\\Users\\Nazarova Polina\\Desktop\\Кейс Синтез\\Датасет_Синтез\\face_on_videos\\PXL_20220826_071715597.mp4\n",
      "C:\\Users\\Nazarova Polina\\Desktop\\Кейс Синтез\\Датасет_Синтез\\face_on_videos\\PXL_20220826_073220332.mp4\n",
      "C:\\Users\\Nazarova Polina\\Desktop\\Кейс Синтез\\Датасет_Синтез\\face_on_videos\\PXL_20220826_073234462.mp4\n",
      "C:\\Users\\Nazarova Polina\\Desktop\\Кейс Синтез\\Датасет_Синтез\\face_on_videos\\REC12882902514651399.mp4\n",
      "C:\\Users\\Nazarova Polina\\Desktop\\Кейс Синтез\\Датасет_Синтез\\face_on_videos\\REC206453959049605930.mp4\n",
      "C:\\Users\\Nazarova Polina\\Desktop\\Кейс Синтез\\Датасет_Синтез\\face_on_videos\\REC253722092693147731.mp4\n",
      "C:\\Users\\Nazarova Polina\\Desktop\\Кейс Синтез\\Датасет_Синтез\\face_on_videos\\REC2747679780815881.mp4\n",
      "C:\\Users\\Nazarova Polina\\Desktop\\Кейс Синтез\\Датасет_Синтез\\face_on_videos\\REC304783712694696467.mp4\n",
      "C:\\Users\\Nazarova Polina\\Desktop\\Кейс Синтез\\Датасет_Синтез\\face_on_videos\\REC307324417752350708.mp4\n",
      "C:\\Users\\Nazarova Polina\\Desktop\\Кейс Синтез\\Датасет_Синтез\\face_on_videos\\REC363702784192752565.mp4\n",
      "C:\\Users\\Nazarova Polina\\Desktop\\Кейс Синтез\\Датасет_Синтез\\face_on_videos\\REC391115228301640889.mp4\n",
      "C:\\Users\\Nazarova Polina\\Desktop\\Кейс Синтез\\Датасет_Синтез\\face_on_videos\\REC415654522054476882.mp4\n",
      "C:\\Users\\Nazarova Polina\\Desktop\\Кейс Синтез\\Датасет_Синтез\\face_on_videos\\REC492414913998228213.mp4\n",
      "C:\\Users\\Nazarova Polina\\Desktop\\Кейс Синтез\\Датасет_Синтез\\face_on_videos\\REC511672896872202543.mp4\n",
      "C:\\Users\\Nazarova Polina\\Desktop\\Кейс Синтез\\Датасет_Синтез\\face_on_videos\\REC590999556057652783.mp4\n",
      "C:\\Users\\Nazarova Polina\\Desktop\\Кейс Синтез\\Датасет_Синтез\\face_on_videos\\REC608962859847973844.mp4\n",
      "C:\\Users\\Nazarova Polina\\Desktop\\Кейс Синтез\\Датасет_Синтез\\face_on_videos\\REC609143345171367447.mp4\n",
      "C:\\Users\\Nazarova Polina\\Desktop\\Кейс Синтез\\Датасет_Синтез\\face_on_videos\\REC631256602791347818.mp4\n",
      "C:\\Users\\Nazarova Polina\\Desktop\\Кейс Синтез\\Датасет_Синтез\\face_on_videos\\REC642691094697091315.mp4\n",
      "C:\\Users\\Nazarova Polina\\Desktop\\Кейс Синтез\\Датасет_Синтез\\face_on_videos\\REC691590213615164222.mp4\n",
      "C:\\Users\\Nazarova Polina\\Desktop\\Кейс Синтез\\Датасет_Синтез\\face_on_videos\\REC696782862596995435.mp4\n",
      "C:\\Users\\Nazarova Polina\\Desktop\\Кейс Синтез\\Датасет_Синтез\\face_on_videos\\REC738170078948019064.mp4\n",
      "C:\\Users\\Nazarova Polina\\Desktop\\Кейс Синтез\\Датасет_Синтез\\face_on_videos\\REC793130604868079910.mp4\n",
      "C:\\Users\\Nazarova Polina\\Desktop\\Кейс Синтез\\Датасет_Синтез\\face_on_videos\\REC816657563682002682.mp4\n",
      "C:\\Users\\Nazarova Polina\\Desktop\\Кейс Синтез\\Датасет_Синтез\\face_on_videos\\REC865226733603081670.mp4\n",
      "C:\\Users\\Nazarova Polina\\Desktop\\Кейс Синтез\\Датасет_Синтез\\face_on_videos\\REC921916764885394951.mp4\n",
      "C:\\Users\\Nazarova Polina\\Desktop\\Кейс Синтез\\Датасет_Синтез\\face_on_videos\\REC9317436733056456.mp4\n",
      "C:\\Users\\Nazarova Polina\\Desktop\\Кейс Синтез\\Датасет_Синтез\\face_on_videos\\REC949071847659536515.mp4\n",
      "C:\\Users\\Nazarova Polina\\Desktop\\Кейс Синтез\\Датасет_Синтез\\face_on_videos\\REC968696618024491288.mp4\n",
      "C:\\Users\\Nazarova Polina\\Desktop\\Кейс Синтез\\Датасет_Синтез\\face_on_videos\\REC_5EB55950-89D0-4861-B968-FAFF53492B58.mp4\n"
     ]
    }
   ],
   "source": [
    "import os\n",
    "\n",
    "rootdir = \"C:\\\\Users\\\\Nazarova Polina\\\\Desktop\\\\Кейс Синтез\\\\Датасет_Синтез\\\\face_on_videos\"\n",
    "coords = []\n",
    "for subdir, dirs, files in os.walk(rootdir):\n",
    "    for file in files:\n",
    "        #print os.path.join(subdir, file)\n",
    "        filepath = subdir + os.sep + file\n",
    "        print(filepath)\n",
    "        cap = cv2.VideoCapture(filepath)\n",
    "        video_now(cap,coords)"
   ]
  },
  {
   "cell_type": "code",
   "execution_count": 130,
   "id": "e4647d55",
   "metadata": {},
   "outputs": [
    {
     "name": "stdout",
     "output_type": "stream",
     "text": [
      "(1683, 18, 2)\n"
     ]
    }
   ],
   "source": [
    "import numpy as np\n",
    "print(np.asarray(coords).shape)\n",
    "coords_of_face_on = coords"
   ]
  },
  {
   "cell_type": "code",
   "execution_count": 131,
   "id": "e40762a2",
   "metadata": {},
   "outputs": [
    {
     "name": "stdout",
     "output_type": "stream",
     "text": [
      "C:\\Users\\Nazarova Polina\\Desktop\\Кейс Синтез\\Датасет_Синтез\\raw\\Lefty\\REC1417452076598505848.mp4\n",
      "C:\\Users\\Nazarova Polina\\Desktop\\Кейс Синтез\\Датасет_Синтез\\raw\\Lefty\\REC177522980354433669.mp4\n",
      "C:\\Users\\Nazarova Polina\\Desktop\\Кейс Синтез\\Датасет_Синтез\\raw\\Lefty\\REC2693091959188560600.mp4\n",
      "C:\\Users\\Nazarova Polina\\Desktop\\Кейс Синтез\\Датасет_Синтез\\raw\\Lefty\\REC2934288510612764834.mp4\n",
      "C:\\Users\\Nazarova Polina\\Desktop\\Кейс Синтез\\Датасет_Синтез\\raw\\Lefty\\REC3458776981741682133.mp4\n",
      "C:\\Users\\Nazarova Polina\\Desktop\\Кейс Синтез\\Датасет_Синтез\\raw\\Lefty\\REC3983902136262559433.mp4\n",
      "C:\\Users\\Nazarova Polina\\Desktop\\Кейс Синтез\\Датасет_Синтез\\raw\\Lefty\\REC4190203013052790648.mp4\n",
      "C:\\Users\\Nazarova Polina\\Desktop\\Кейс Синтез\\Датасет_Синтез\\raw\\Lefty\\REC4687222614000277927.mp4\n",
      "C:\\Users\\Nazarova Polina\\Desktop\\Кейс Синтез\\Датасет_Синтез\\raw\\Lefty\\REC5056938308919926532.mp4\n",
      "C:\\Users\\Nazarova Polina\\Desktop\\Кейс Синтез\\Датасет_Синтез\\raw\\Lefty\\REC5406698582827935303.mp4\n",
      "C:\\Users\\Nazarova Polina\\Desktop\\Кейс Синтез\\Датасет_Синтез\\raw\\Lefty\\REC5575805666989281638.mp4\n",
      "C:\\Users\\Nazarova Polina\\Desktop\\Кейс Синтез\\Датасет_Синтез\\raw\\Lefty\\REC5868063962159723936.mp4\n",
      "C:\\Users\\Nazarova Polina\\Desktop\\Кейс Синтез\\Датасет_Синтез\\raw\\Lefty\\REC5868634174996866622.mp4\n",
      "C:\\Users\\Nazarova Polina\\Desktop\\Кейс Синтез\\Датасет_Синтез\\raw\\Lefty\\REC6004501860119544978.mp4\n",
      "C:\\Users\\Nazarova Polina\\Desktop\\Кейс Синтез\\Датасет_Синтез\\raw\\Lefty\\REC661682474880126110.mp4\n",
      "C:\\Users\\Nazarova Polina\\Desktop\\Кейс Синтез\\Датасет_Синтез\\raw\\Lefty\\REC673479933540987368.mp4\n",
      "C:\\Users\\Nazarova Polina\\Desktop\\Кейс Синтез\\Датасет_Синтез\\raw\\Lefty\\REC6785925859267753999.mp4\n",
      "C:\\Users\\Nazarova Polina\\Desktop\\Кейс Синтез\\Датасет_Синтез\\raw\\Lefty\\REC7361281299335177740.mp4\n",
      "C:\\Users\\Nazarova Polina\\Desktop\\Кейс Синтез\\Датасет_Синтез\\raw\\Lefty\\REC7655860434196012383.mp4\n",
      "C:\\Users\\Nazarova Polina\\Desktop\\Кейс Синтез\\Датасет_Синтез\\raw\\Lefty\\REC7850246504596738253.mp4\n",
      "C:\\Users\\Nazarova Polina\\Desktop\\Кейс Синтез\\Датасет_Синтез\\raw\\Lefty\\REC8755967777977013536.mp4\n",
      "C:\\Users\\Nazarova Polina\\Desktop\\Кейс Синтез\\Датасет_Синтез\\raw\\Lefty\\REC8771758042881015331.mp4\n",
      "C:\\Users\\Nazarova Polina\\Desktop\\Кейс Синтез\\Датасет_Синтез\\raw\\Lefty\\REC_1CA4B758-B64E-4391-9256-3D579830E904.mp4\n",
      "C:\\Users\\Nazarova Polina\\Desktop\\Кейс Синтез\\Датасет_Синтез\\raw\\Lefty\\REC_A4302D59-9827-4157-81B7-443E7C383C0D.mp4\n",
      "C:\\Users\\Nazarova Polina\\Desktop\\Кейс Синтез\\Датасет_Синтез\\raw\\Lefty\\REC_C9B4D0E2-65EC-4CDC-A897-308F79BAAC5B.mp4\n"
     ]
    }
   ],
   "source": [
    "rootdir = \"C:\\\\Users\\\\Nazarova Polina\\\\Desktop\\\\Кейс Синтез\\\\Датасет_Синтез\\\\raw\\\\Lefty\"\n",
    "coords_of_left = []\n",
    "for subdir, dirs, files in os.walk(rootdir):\n",
    "    for file in files:\n",
    "        #print os.path.join(subdir, file)\n",
    "        filepath = subdir + os.sep + file\n",
    "        print(filepath)\n",
    "        cap = cv2.VideoCapture(filepath)\n",
    "        video_now(cap,coords_of_left)"
   ]
  },
  {
   "cell_type": "code",
   "execution_count": 132,
   "id": "7eca481b",
   "metadata": {
    "scrolled": true
   },
   "outputs": [
    {
     "name": "stdout",
     "output_type": "stream",
     "text": [
      "C:\\Users\\Nazarova Polina\\Desktop\\Кейс Синтез\\Датасет_Синтез\\raw\\Righty\\-7447457679884757378.mp4\n",
      "C:\\Users\\Nazarova Polina\\Desktop\\Кейс Синтез\\Датасет_Синтез\\raw\\Righty\\05f113e4-d0d0-41ea-993c-2e577512ed81.mp4\n",
      "C:\\Users\\Nazarova Polina\\Desktop\\Кейс Синтез\\Датасет_Синтез\\raw\\Righty\\07ef858f-ecfc-4f1d-8b2c-2097e541df65.mp4\n",
      "C:\\Users\\Nazarova Polina\\Desktop\\Кейс Синтез\\Датасет_Синтез\\raw\\Righty\\09e5fd86-2cb1-4005-bfb4-1692a9160d7c.mp4\n",
      "C:\\Users\\Nazarova Polina\\Desktop\\Кейс Синтез\\Датасет_Синтез\\raw\\Righty\\0c901a44-8916-45e0-860c-874774412596.mp4\n",
      "C:\\Users\\Nazarova Polina\\Desktop\\Кейс Синтез\\Датасет_Синтез\\raw\\Righty\\1.MP4\n",
      "C:\\Users\\Nazarova Polina\\Desktop\\Кейс Синтез\\Датасет_Синтез\\raw\\Righty\\1366a9b8-ec83-4f9a-9593-235ee4623269.mp4\n",
      "C:\\Users\\Nazarova Polina\\Desktop\\Кейс Синтез\\Датасет_Синтез\\raw\\Righty\\1671171593002.mp4\n",
      "C:\\Users\\Nazarova Polina\\Desktop\\Кейс Синтез\\Датасет_Синтез\\raw\\Righty\\1673454476144.mp4\n",
      "C:\\Users\\Nazarova Polina\\Desktop\\Кейс Синтез\\Датасет_Синтез\\raw\\Righty\\1674321624331.mp4\n",
      "C:\\Users\\Nazarova Polina\\Desktop\\Кейс Синтез\\Датасет_Синтез\\raw\\Righty\\1674560962199.mp4\n",
      "C:\\Users\\Nazarova Polina\\Desktop\\Кейс Синтез\\Датасет_Синтез\\raw\\Righty\\1934fd93-8315-401d-a534-71b4dfef602f.mp4\n",
      "C:\\Users\\Nazarova Polina\\Desktop\\Кейс Синтез\\Датасет_Синтез\\raw\\Righty\\212343df-f193-4c85-844e-1c5ea3589aa1.mp4\n",
      "C:\\Users\\Nazarova Polina\\Desktop\\Кейс Синтез\\Датасет_Синтез\\raw\\Righty\\2_5210847601330496316.mp4\n",
      "C:\\Users\\Nazarova Polina\\Desktop\\Кейс Синтез\\Датасет_Синтез\\raw\\Righty\\30c305bc-3dbb-4f5f-8152-268c8c774667.mp4\n",
      "C:\\Users\\Nazarova Polina\\Desktop\\Кейс Синтез\\Датасет_Синтез\\raw\\Righty\\345441385_6381845485170545_2624922501894417219_n.mov\n",
      "C:\\Users\\Nazarova Polina\\Desktop\\Кейс Синтез\\Датасет_Синтез\\raw\\Righty\\354b68d0-9379-49a8-a2a6-6e89aeb07392.mp4\n",
      "C:\\Users\\Nazarova Polina\\Desktop\\Кейс Синтез\\Датасет_Синтез\\raw\\Righty\\35f93f8c-d75e-4546-82e8-93ec58746a8d.mp4\n",
      "C:\\Users\\Nazarova Polina\\Desktop\\Кейс Синтез\\Датасет_Синтез\\raw\\Righty\\37356e9e-fc6b-40fa-a7f1-398018feee70.mp4\n",
      "C:\\Users\\Nazarova Polina\\Desktop\\Кейс Синтез\\Датасет_Синтез\\raw\\Righty\\3b06547d-02f3-4981-b145-59026a62fb8f.mp4\n",
      "C:\\Users\\Nazarova Polina\\Desktop\\Кейс Синтез\\Датасет_Синтез\\raw\\Righty\\448647bc-f284-45c7-b98f-56b24f8566c9.mp4\n",
      "C:\\Users\\Nazarova Polina\\Desktop\\Кейс Синтез\\Датасет_Синтез\\raw\\Righty\\4edac8b5-7da7-4c87-b411-6a7c210f28eb.mp4\n",
      "C:\\Users\\Nazarova Polina\\Desktop\\Кейс Синтез\\Датасет_Синтез\\raw\\Righty\\55443cc1-03a9-4f61-a90c-acffe366f427.mp4\n",
      "C:\\Users\\Nazarova Polina\\Desktop\\Кейс Синтез\\Датасет_Синтез\\raw\\Righty\\5a547aa6-2bb4-4cf8-b623-93d33ade7620.mp4\n",
      "C:\\Users\\Nazarova Polina\\Desktop\\Кейс Синтез\\Датасет_Синтез\\raw\\Righty\\5ab06d6f-c532-40ce-8397-7543cd55adac.mp4\n",
      "C:\\Users\\Nazarova Polina\\Desktop\\Кейс Синтез\\Датасет_Синтез\\raw\\Righty\\5c865445-7d14-4385-a65f-3d9151837e5d.mp4\n",
      "C:\\Users\\Nazarova Polina\\Desktop\\Кейс Синтез\\Датасет_Синтез\\raw\\Righty\\62789a67-124c-47e1-92b9-77829341959f.mp4\n",
      "C:\\Users\\Nazarova Polina\\Desktop\\Кейс Синтез\\Датасет_Синтез\\raw\\Righty\\6a9de841-481e-4f0f-9b47-8ca2be41891b.mp4\n",
      "C:\\Users\\Nazarova Polina\\Desktop\\Кейс Синтез\\Датасет_Синтез\\raw\\Righty\\6e66c0c5-09b6-4aa2-9121-ff2316c38669.mp4\n",
      "C:\\Users\\Nazarova Polina\\Desktop\\Кейс Синтез\\Датасет_Синтез\\raw\\Righty\\7683cdb4-30a7-42bd-8c3c-5b19122b4b62.mp4\n",
      "C:\\Users\\Nazarova Polina\\Desktop\\Кейс Синтез\\Датасет_Синтез\\raw\\Righty\\7f82a718-579a-4171-b977-9e224c6103fd.mp4\n",
      "C:\\Users\\Nazarova Polina\\Desktop\\Кейс Синтез\\Датасет_Синтез\\raw\\Righty\\8392b6a1-f230-4641-b651-56a898bf5e99.mp4\n",
      "C:\\Users\\Nazarova Polina\\Desktop\\Кейс Синтез\\Датасет_Синтез\\raw\\Righty\\87c98ac0-8f15-4e55-9c8f-bb1d9f1444b2.mp4\n",
      "C:\\Users\\Nazarova Polina\\Desktop\\Кейс Синтез\\Датасет_Синтез\\raw\\Righty\\88d78934-6327-4129-bbeb-be90443a891c.mp4\n",
      "C:\\Users\\Nazarova Polina\\Desktop\\Кейс Синтез\\Датасет_Синтез\\raw\\Righty\\90524b4b-ed57-42f4-9082-961dfb394aaf.mp4\n",
      "C:\\Users\\Nazarova Polina\\Desktop\\Кейс Синтез\\Датасет_Синтез\\raw\\Righty\\9a3a5671-8a27-4b2f-a9e9-4e298652de13.mp4\n",
      "C:\\Users\\Nazarova Polina\\Desktop\\Кейс Синтез\\Датасет_Синтез\\raw\\Righty\\9c952d74-e4f7-4d02-8d4d-ebacaf19d158.mp4\n",
      "C:\\Users\\Nazarova Polina\\Desktop\\Кейс Синтез\\Датасет_Синтез\\raw\\Righty\\9e8acff0-be8a-49b8-8437-295d1bc828dd.mp4\n",
      "C:\\Users\\Nazarova Polina\\Desktop\\Кейс Синтез\\Датасет_Синтез\\raw\\Righty\\a34bfd98-028d-4410-a001-48ae858e4e87.mp4\n",
      "C:\\Users\\Nazarova Polina\\Desktop\\Кейс Синтез\\Датасет_Синтез\\raw\\Righty\\a73afde3-ea62-40bb-b6e4-4008a4d8ce0a.mp4\n",
      "C:\\Users\\Nazarova Polina\\Desktop\\Кейс Синтез\\Датасет_Синтез\\raw\\Righty\\ab714ca7-1515-41b8-af25-70af3b04a871.mp4\n",
      "C:\\Users\\Nazarova Polina\\Desktop\\Кейс Синтез\\Датасет_Синтез\\raw\\Righty\\b11751b2-ecfa-44fb-9a28-498c7a41b540.mp4\n",
      "C:\\Users\\Nazarova Polina\\Desktop\\Кейс Синтез\\Датасет_Синтез\\raw\\Righty\\b6b46246-e257-469a-a155-af76c6bf4366.mp4\n",
      "C:\\Users\\Nazarova Polina\\Desktop\\Кейс Синтез\\Датасет_Синтез\\raw\\Righty\\b9a5908a-8b84-42f3-bab3-41ae2d2b2601.mp4\n",
      "C:\\Users\\Nazarova Polina\\Desktop\\Кейс Синтез\\Датасет_Синтез\\raw\\Righty\\Back-7.MOV.mp4\n",
      "C:\\Users\\Nazarova Polina\\Desktop\\Кейс Синтез\\Датасет_Синтез\\raw\\Righty\\bae78440-7c67-4dfc-bc20-bfbb9dd54255.mp4\n",
      "C:\\Users\\Nazarova Polina\\Desktop\\Кейс Синтез\\Датасет_Синтез\\raw\\Righty\\bc03b018-1b5c-4c75-bc16-387b4112c326.mp4\n",
      "C:\\Users\\Nazarova Polina\\Desktop\\Кейс Синтез\\Датасет_Синтез\\raw\\Righty\\c0b93372-0b19-430d-a92f-5de0472a2a35.mp4\n",
      "C:\\Users\\Nazarova Polina\\Desktop\\Кейс Синтез\\Датасет_Синтез\\raw\\Righty\\c23219c1-c3f9-421b-82c9-fbddea482354.mp4\n",
      "C:\\Users\\Nazarova Polina\\Desktop\\Кейс Синтез\\Датасет_Синтез\\raw\\Righty\\cc312e20-d13b-46a3-b910-5434fd96b7c5.mp4\n",
      "C:\\Users\\Nazarova Polina\\Desktop\\Кейс Синтез\\Датасет_Синтез\\raw\\Righty\\d0ea12f9-859f-46a3-8126-af7253437e4f.mp4\n",
      "C:\\Users\\Nazarova Polina\\Desktop\\Кейс Синтез\\Датасет_Синтез\\raw\\Righty\\daf2ea36-8992-4f2d-8bb0-ddc950f019a2.mp4\n",
      "C:\\Users\\Nazarova Polina\\Desktop\\Кейс Синтез\\Датасет_Синтез\\raw\\Righty\\de715d21-4f35-4f0f-b963-6bd385074341.mp4\n",
      "C:\\Users\\Nazarova Polina\\Desktop\\Кейс Синтез\\Датасет_Синтез\\raw\\Righty\\e147b321-1e1e-4812-869e-c2e248366fec.mp4\n",
      "C:\\Users\\Nazarova Polina\\Desktop\\Кейс Синтез\\Датасет_Синтез\\raw\\Righty\\ede3b225-c1e6-4d88-8ad5-8a2c9e39eb97.mp4\n",
      "C:\\Users\\Nazarova Polina\\Desktop\\Кейс Синтез\\Датасет_Синтез\\raw\\Righty\\ef9b5537-ffc5-4107-ad94-ce54cd04e493.mp4\n",
      "C:\\Users\\Nazarova Polina\\Desktop\\Кейс Синтез\\Датасет_Синтез\\raw\\Righty\\f26c57ac-2082-4ee9-b990-d329c295f640.mp4\n",
      "C:\\Users\\Nazarova Polina\\Desktop\\Кейс Синтез\\Датасет_Синтез\\raw\\Righty\\f8b9e19d-f454-40f9-948d-907731823033.mp4\n",
      "C:\\Users\\Nazarova Polina\\Desktop\\Кейс Синтез\\Датасет_Синтез\\raw\\Righty\\image_picker1327093669721437491.mp4.mp4\n",
      "C:\\Users\\Nazarova Polina\\Desktop\\Кейс Синтез\\Датасет_Синтез\\raw\\Righty\\image_picker1330290477439016822.mp4.mp4\n",
      "C:\\Users\\Nazarova Polina\\Desktop\\Кейс Синтез\\Датасет_Синтез\\raw\\Righty\\image_picker1884443242020978357.mp4\n",
      "C:\\Users\\Nazarova Polina\\Desktop\\Кейс Синтез\\Датасет_Синтез\\raw\\Righty\\image_picker2197576751027079579.mp4\n",
      "C:\\Users\\Nazarova Polina\\Desktop\\Кейс Синтез\\Датасет_Синтез\\raw\\Righty\\image_picker2681123543616056266.mp4\n",
      "C:\\Users\\Nazarova Polina\\Desktop\\Кейс Синтез\\Датасет_Синтез\\raw\\Righty\\image_picker3509073644286788560.mp4\n",
      "C:\\Users\\Nazarova Polina\\Desktop\\Кейс Синтез\\Датасет_Синтез\\raw\\Righty\\image_picker5417623432071395164.mp4\n",
      "C:\\Users\\Nazarova Polina\\Desktop\\Кейс Синтез\\Датасет_Синтез\\raw\\Righty\\image_picker9106844178258188480.mp4\n",
      "C:\\Users\\Nazarova Polina\\Desktop\\Кейс Синтез\\Датасет_Синтез\\raw\\Righty\\IMG_5186.mov\n",
      "C:\\Users\\Nazarova Polina\\Desktop\\Кейс Синтез\\Датасет_Синтез\\raw\\Righty\\IMG_7326.mov\n",
      "C:\\Users\\Nazarova Polina\\Desktop\\Кейс Синтез\\Датасет_Синтез\\raw\\Righty\\PXL_20210523_104919032.LS.mov\n",
      "C:\\Users\\Nazarova Polina\\Desktop\\Кейс Синтез\\Датасет_Синтез\\raw\\Righty\\REC1017089429808792451.mp4\n",
      "C:\\Users\\Nazarova Polina\\Desktop\\Кейс Синтез\\Датасет_Синтез\\raw\\Righty\\REC1193919057978693134.mp4\n",
      "C:\\Users\\Nazarova Polina\\Desktop\\Кейс Синтез\\Датасет_Синтез\\raw\\Righty\\REC1275556990603251889.mp4\n",
      "C:\\Users\\Nazarova Polina\\Desktop\\Кейс Синтез\\Датасет_Синтез\\raw\\Righty\\REC1281011785759637041.mp4\n",
      "C:\\Users\\Nazarova Polina\\Desktop\\Кейс Синтез\\Датасет_Синтез\\raw\\Righty\\REC1321004300322951133.mp4\n",
      "C:\\Users\\Nazarova Polina\\Desktop\\Кейс Синтез\\Датасет_Синтез\\raw\\Righty\\REC1349563532124177633.mp4\n",
      "C:\\Users\\Nazarova Polina\\Desktop\\Кейс Синтез\\Датасет_Синтез\\raw\\Righty\\REC1359258885155069236.mp4\n",
      "C:\\Users\\Nazarova Polina\\Desktop\\Кейс Синтез\\Датасет_Синтез\\raw\\Righty\\REC1390167851651919878.mp4\n"
     ]
    },
    {
     "name": "stdout",
     "output_type": "stream",
     "text": [
      "C:\\Users\\Nazarova Polina\\Desktop\\Кейс Синтез\\Датасет_Синтез\\raw\\Righty\\REC147335107421453128.mp4\n",
      "C:\\Users\\Nazarova Polina\\Desktop\\Кейс Синтез\\Датасет_Синтез\\raw\\Righty\\REC151161525446040847.mp4\n",
      "C:\\Users\\Nazarova Polina\\Desktop\\Кейс Синтез\\Датасет_Синтез\\raw\\Righty\\REC1604724449388265247.mp4\n",
      "C:\\Users\\Nazarova Polina\\Desktop\\Кейс Синтез\\Датасет_Синтез\\raw\\Righty\\REC1699028774362107879.mp4\n",
      "C:\\Users\\Nazarova Polina\\Desktop\\Кейс Синтез\\Датасет_Синтез\\raw\\Righty\\REC1801773731625536123.mp4\n",
      "C:\\Users\\Nazarova Polina\\Desktop\\Кейс Синтез\\Датасет_Синтез\\raw\\Righty\\REC1814108615251208245.mp4\n",
      "C:\\Users\\Nazarova Polina\\Desktop\\Кейс Синтез\\Датасет_Синтез\\raw\\Righty\\REC1874829457864167815.mp4\n",
      "C:\\Users\\Nazarova Polina\\Desktop\\Кейс Синтез\\Датасет_Синтез\\raw\\Righty\\REC1981111353826047362.mp4\n",
      "C:\\Users\\Nazarova Polina\\Desktop\\Кейс Синтез\\Датасет_Синтез\\raw\\Righty\\REC2008955649838916587.mp4\n",
      "C:\\Users\\Nazarova Polina\\Desktop\\Кейс Синтез\\Датасет_Синтез\\raw\\Righty\\REC2066875112224953375.mp4\n",
      "C:\\Users\\Nazarova Polina\\Desktop\\Кейс Синтез\\Датасет_Синтез\\raw\\Righty\\REC2079447934181250159.mp4\n",
      "C:\\Users\\Nazarova Polina\\Desktop\\Кейс Синтез\\Датасет_Синтез\\raw\\Righty\\REC2104812826310541492.mp4\n",
      "C:\\Users\\Nazarova Polina\\Desktop\\Кейс Синтез\\Датасет_Синтез\\raw\\Righty\\REC2129127975523638640.mp4\n",
      "C:\\Users\\Nazarova Polina\\Desktop\\Кейс Синтез\\Датасет_Синтез\\raw\\Righty\\REC2172155043729593985.mp4\n",
      "C:\\Users\\Nazarova Polina\\Desktop\\Кейс Синтез\\Датасет_Синтез\\raw\\Righty\\REC2198304707658806276.mp4\n",
      "C:\\Users\\Nazarova Polina\\Desktop\\Кейс Синтез\\Датасет_Синтез\\raw\\Righty\\REC2265941128799929117.mp4\n",
      "C:\\Users\\Nazarova Polina\\Desktop\\Кейс Синтез\\Датасет_Синтез\\raw\\Righty\\REC2428844198088759391.mp4\n",
      "C:\\Users\\Nazarova Polina\\Desktop\\Кейс Синтез\\Датасет_Синтез\\raw\\Righty\\REC2509838410493253070.mp4\n",
      "C:\\Users\\Nazarova Polina\\Desktop\\Кейс Синтез\\Датасет_Синтез\\raw\\Righty\\REC262000627587085677.mp4\n",
      "C:\\Users\\Nazarova Polina\\Desktop\\Кейс Синтез\\Датасет_Синтез\\raw\\Righty\\REC277558324186368903.mp4\n",
      "C:\\Users\\Nazarova Polina\\Desktop\\Кейс Синтез\\Датасет_Синтез\\raw\\Righty\\REC2866660071629034902.mp4\n",
      "C:\\Users\\Nazarova Polina\\Desktop\\Кейс Синтез\\Датасет_Синтез\\raw\\Righty\\REC2982604971307124223.mp4\n",
      "C:\\Users\\Nazarova Polina\\Desktop\\Кейс Синтез\\Датасет_Синтез\\raw\\Righty\\REC3064772884826468080.mp4\n",
      "C:\\Users\\Nazarova Polina\\Desktop\\Кейс Синтез\\Датасет_Синтез\\raw\\Righty\\REC3126935477275649865.mp4\n",
      "C:\\Users\\Nazarova Polina\\Desktop\\Кейс Синтез\\Датасет_Синтез\\raw\\Righty\\REC3300338065317398042.mp4\n",
      "C:\\Users\\Nazarova Polina\\Desktop\\Кейс Синтез\\Датасет_Синтез\\raw\\Righty\\REC3410777832670477935.mp4\n",
      "C:\\Users\\Nazarova Polina\\Desktop\\Кейс Синтез\\Датасет_Синтез\\raw\\Righty\\REC3448121756170096185.mp4\n",
      "C:\\Users\\Nazarova Polina\\Desktop\\Кейс Синтез\\Датасет_Синтез\\raw\\Righty\\REC3561329753958808702.mp4\n",
      "C:\\Users\\Nazarova Polina\\Desktop\\Кейс Синтез\\Датасет_Синтез\\raw\\Righty\\REC3607184059176739491 (1).mp4\n",
      "C:\\Users\\Nazarova Polina\\Desktop\\Кейс Синтез\\Датасет_Синтез\\raw\\Righty\\REC3615251983777583521.mp4\n",
      "C:\\Users\\Nazarova Polina\\Desktop\\Кейс Синтез\\Датасет_Синтез\\raw\\Righty\\REC3718951243081170600.mp4\n",
      "C:\\Users\\Nazarova Polina\\Desktop\\Кейс Синтез\\Датасет_Синтез\\raw\\Righty\\REC378814457581951059.mp4\n",
      "C:\\Users\\Nazarova Polina\\Desktop\\Кейс Синтез\\Датасет_Синтез\\raw\\Righty\\REC3805475669229770331.mp4\n",
      "C:\\Users\\Nazarova Polina\\Desktop\\Кейс Синтез\\Датасет_Синтез\\raw\\Righty\\REC3919284352385285019.mp4\n",
      "C:\\Users\\Nazarova Polina\\Desktop\\Кейс Синтез\\Датасет_Синтез\\raw\\Righty\\REC3964081809684513514.mp4\n",
      "C:\\Users\\Nazarova Polina\\Desktop\\Кейс Синтез\\Датасет_Синтез\\raw\\Righty\\REC4002308266194695141.mp4\n",
      "C:\\Users\\Nazarova Polina\\Desktop\\Кейс Синтез\\Датасет_Синтез\\raw\\Righty\\REC4095216445221538547.mp4\n",
      "C:\\Users\\Nazarova Polina\\Desktop\\Кейс Синтез\\Датасет_Синтез\\raw\\Righty\\REC4155717558097590215.mp4\n",
      "C:\\Users\\Nazarova Polina\\Desktop\\Кейс Синтез\\Датасет_Синтез\\raw\\Righty\\REC4187007987813884544.mp4\n",
      "C:\\Users\\Nazarova Polina\\Desktop\\Кейс Синтез\\Датасет_Синтез\\raw\\Righty\\REC4213869996299483220.mp4\n",
      "C:\\Users\\Nazarova Polina\\Desktop\\Кейс Синтез\\Датасет_Синтез\\raw\\Righty\\REC423602522770800425.mp4\n",
      "C:\\Users\\Nazarova Polina\\Desktop\\Кейс Синтез\\Датасет_Синтез\\raw\\Righty\\REC4278552453885514704.mp4\n",
      "C:\\Users\\Nazarova Polina\\Desktop\\Кейс Синтез\\Датасет_Синтез\\raw\\Righty\\REC4343451133887684340.mp4\n",
      "C:\\Users\\Nazarova Polina\\Desktop\\Кейс Синтез\\Датасет_Синтез\\raw\\Righty\\REC4409924124906237788.mp4\n",
      "C:\\Users\\Nazarova Polina\\Desktop\\Кейс Синтез\\Датасет_Синтез\\raw\\Righty\\REC4421673090903229674.mp4\n",
      "C:\\Users\\Nazarova Polina\\Desktop\\Кейс Синтез\\Датасет_Синтез\\raw\\Righty\\REC4528793220417286848.mp4\n",
      "C:\\Users\\Nazarova Polina\\Desktop\\Кейс Синтез\\Датасет_Синтез\\raw\\Righty\\REC4544998883879559665.mp4\n",
      "C:\\Users\\Nazarova Polina\\Desktop\\Кейс Синтез\\Датасет_Синтез\\raw\\Righty\\REC4597838064482447898.mp4\n",
      "C:\\Users\\Nazarova Polina\\Desktop\\Кейс Синтез\\Датасет_Синтез\\raw\\Righty\\REC4660951312443591311.mp4\n",
      "C:\\Users\\Nazarova Polina\\Desktop\\Кейс Синтез\\Датасет_Синтез\\raw\\Righty\\REC4706456386837545411.mp4\n",
      "C:\\Users\\Nazarova Polina\\Desktop\\Кейс Синтез\\Датасет_Синтез\\raw\\Righty\\REC4849416780432963069.mp4\n",
      "C:\\Users\\Nazarova Polina\\Desktop\\Кейс Синтез\\Датасет_Синтез\\raw\\Righty\\REC4916394845381218680.mp4\n",
      "C:\\Users\\Nazarova Polina\\Desktop\\Кейс Синтез\\Датасет_Синтез\\raw\\Righty\\REC4921634549681425331.mp4\n",
      "C:\\Users\\Nazarova Polina\\Desktop\\Кейс Синтез\\Датасет_Синтез\\raw\\Righty\\REC5018421022404641037.mp4\n",
      "C:\\Users\\Nazarova Polina\\Desktop\\Кейс Синтез\\Датасет_Синтез\\raw\\Righty\\REC5057479853665859586.mp4\n",
      "C:\\Users\\Nazarova Polina\\Desktop\\Кейс Синтез\\Датасет_Синтез\\raw\\Righty\\REC5150839440549552096.mp4\n",
      "C:\\Users\\Nazarova Polina\\Desktop\\Кейс Синтез\\Датасет_Синтез\\raw\\Righty\\REC5236680735190575109.mp4\n",
      "C:\\Users\\Nazarova Polina\\Desktop\\Кейс Синтез\\Датасет_Синтез\\raw\\Righty\\REC5309300155722644506.mp4\n",
      "C:\\Users\\Nazarova Polina\\Desktop\\Кейс Синтез\\Датасет_Синтез\\raw\\Righty\\REC540205120671164700.mp4\n",
      "C:\\Users\\Nazarova Polina\\Desktop\\Кейс Синтез\\Датасет_Синтез\\raw\\Righty\\REC5406698582827935303.mp4\n",
      "C:\\Users\\Nazarova Polina\\Desktop\\Кейс Синтез\\Датасет_Синтез\\raw\\Righty\\REC5471491352352527680.mp4\n",
      "C:\\Users\\Nazarova Polina\\Desktop\\Кейс Синтез\\Датасет_Синтез\\raw\\Righty\\REC5669910912610755107.mp4\n",
      "C:\\Users\\Nazarova Polina\\Desktop\\Кейс Синтез\\Датасет_Синтез\\raw\\Righty\\REC5722431377140735655.mp4\n",
      "C:\\Users\\Nazarova Polina\\Desktop\\Кейс Синтез\\Датасет_Синтез\\raw\\Righty\\REC576748227072830582.mp4\n",
      "C:\\Users\\Nazarova Polina\\Desktop\\Кейс Синтез\\Датасет_Синтез\\raw\\Righty\\REC5837162736046916423.mp4\n",
      "C:\\Users\\Nazarova Polina\\Desktop\\Кейс Синтез\\Датасет_Синтез\\raw\\Righty\\REC5858109153529315605.mp4\n",
      "C:\\Users\\Nazarova Polina\\Desktop\\Кейс Синтез\\Датасет_Синтез\\raw\\Righty\\REC5884597333490060270.mp4\n",
      "C:\\Users\\Nazarova Polina\\Desktop\\Кейс Синтез\\Датасет_Синтез\\raw\\Righty\\REC5988157172906849885.mp4\n",
      "C:\\Users\\Nazarova Polina\\Desktop\\Кейс Синтез\\Датасет_Синтез\\raw\\Righty\\REC6031227569208835891.mp4\n",
      "C:\\Users\\Nazarova Polina\\Desktop\\Кейс Синтез\\Датасет_Синтез\\raw\\Righty\\REC6083781238901264812.mp4\n",
      "C:\\Users\\Nazarova Polina\\Desktop\\Кейс Синтез\\Датасет_Синтез\\raw\\Righty\\REC6177247633956364288.mp4\n",
      "C:\\Users\\Nazarova Polina\\Desktop\\Кейс Синтез\\Датасет_Синтез\\raw\\Righty\\REC6244270479377717025.mp4\n",
      "C:\\Users\\Nazarova Polina\\Desktop\\Кейс Синтез\\Датасет_Синтез\\raw\\Righty\\REC6312972576721666550.mp4\n",
      "C:\\Users\\Nazarova Polina\\Desktop\\Кейс Синтез\\Датасет_Синтез\\raw\\Righty\\REC6326841972043602524.mp4\n",
      "C:\\Users\\Nazarova Polina\\Desktop\\Кейс Синтез\\Датасет_Синтез\\raw\\Righty\\REC642802528429297379.mp4\n",
      "C:\\Users\\Nazarova Polina\\Desktop\\Кейс Синтез\\Датасет_Синтез\\raw\\Righty\\REC6512720108059872549.mp4\n",
      "C:\\Users\\Nazarova Polina\\Desktop\\Кейс Синтез\\Датасет_Синтез\\raw\\Righty\\REC6532174686372677833.mp4\n",
      "C:\\Users\\Nazarova Polina\\Desktop\\Кейс Синтез\\Датасет_Синтез\\raw\\Righty\\REC6584961404762828451.mp4\n",
      "C:\\Users\\Nazarova Polina\\Desktop\\Кейс Синтез\\Датасет_Синтез\\raw\\Righty\\REC6673950001683047987.mp4\n",
      "C:\\Users\\Nazarova Polina\\Desktop\\Кейс Синтез\\Датасет_Синтез\\raw\\Righty\\REC672597203411174408.mp4\n",
      "C:\\Users\\Nazarova Polina\\Desktop\\Кейс Синтез\\Датасет_Синтез\\raw\\Righty\\REC6752400575985043628.mp4\n",
      "C:\\Users\\Nazarova Polina\\Desktop\\Кейс Синтез\\Датасет_Синтез\\raw\\Righty\\REC6805051385307167256.mp4\n",
      "C:\\Users\\Nazarova Polina\\Desktop\\Кейс Синтез\\Датасет_Синтез\\raw\\Righty\\REC6855301629811448481.mp4\n",
      "C:\\Users\\Nazarova Polina\\Desktop\\Кейс Синтез\\Датасет_Синтез\\raw\\Righty\\REC688454022305245494.mp4\n"
     ]
    },
    {
     "name": "stdout",
     "output_type": "stream",
     "text": [
      "C:\\Users\\Nazarova Polina\\Desktop\\Кейс Синтез\\Датасет_Синтез\\raw\\Righty\\REC6906643028042645722.mp4\n",
      "C:\\Users\\Nazarova Polina\\Desktop\\Кейс Синтез\\Датасет_Синтез\\raw\\Righty\\REC6954514843850206860.mp4\n",
      "C:\\Users\\Nazarova Polina\\Desktop\\Кейс Синтез\\Датасет_Синтез\\raw\\Righty\\REC7028895690218114875.mp4\n",
      "C:\\Users\\Nazarova Polina\\Desktop\\Кейс Синтез\\Датасет_Синтез\\raw\\Righty\\REC7161306264070208558.mp4\n",
      "C:\\Users\\Nazarova Polina\\Desktop\\Кейс Синтез\\Датасет_Синтез\\raw\\Righty\\REC72357565509942439.mp4\n",
      "C:\\Users\\Nazarova Polina\\Desktop\\Кейс Синтез\\Датасет_Синтез\\raw\\Righty\\REC7288880080685784399.mp4\n",
      "C:\\Users\\Nazarova Polina\\Desktop\\Кейс Синтез\\Датасет_Синтез\\raw\\Righty\\REC7393113770948795140.mp4\n",
      "C:\\Users\\Nazarova Polina\\Desktop\\Кейс Синтез\\Датасет_Синтез\\raw\\Righty\\REC7440165507423558660.mp4\n",
      "C:\\Users\\Nazarova Polina\\Desktop\\Кейс Синтез\\Датасет_Синтез\\raw\\Righty\\REC7447347951628634510.mp4\n",
      "C:\\Users\\Nazarova Polina\\Desktop\\Кейс Синтез\\Датасет_Синтез\\raw\\Righty\\REC7466751368027843575.mp4\n",
      "C:\\Users\\Nazarova Polina\\Desktop\\Кейс Синтез\\Датасет_Синтез\\raw\\Righty\\REC7505331756037749089.mp4\n",
      "C:\\Users\\Nazarova Polina\\Desktop\\Кейс Синтез\\Датасет_Синтез\\raw\\Righty\\REC7518493709849704189.mp4\n",
      "C:\\Users\\Nazarova Polina\\Desktop\\Кейс Синтез\\Датасет_Синтез\\raw\\Righty\\REC7563167071849368069.mp4\n",
      "C:\\Users\\Nazarova Polina\\Desktop\\Кейс Синтез\\Датасет_Синтез\\raw\\Righty\\REC7645602687612530715.mp4\n",
      "C:\\Users\\Nazarova Polina\\Desktop\\Кейс Синтез\\Датасет_Синтез\\raw\\Righty\\REC7689261583295431643.mp4\n",
      "C:\\Users\\Nazarova Polina\\Desktop\\Кейс Синтез\\Датасет_Синтез\\raw\\Righty\\REC7771236187582613236.mp4\n",
      "C:\\Users\\Nazarova Polina\\Desktop\\Кейс Синтез\\Датасет_Синтез\\raw\\Righty\\REC78221429850092830.mp4\n",
      "C:\\Users\\Nazarova Polina\\Desktop\\Кейс Синтез\\Датасет_Синтез\\raw\\Righty\\REC7862348460784669608.mp4\n",
      "C:\\Users\\Nazarova Polina\\Desktop\\Кейс Синтез\\Датасет_Синтез\\raw\\Righty\\REC7920977774524439283.mp4\n",
      "C:\\Users\\Nazarova Polina\\Desktop\\Кейс Синтез\\Датасет_Синтез\\raw\\Righty\\REC7989085108889675651.mp4\n",
      "C:\\Users\\Nazarova Polina\\Desktop\\Кейс Синтез\\Датасет_Синтез\\raw\\Righty\\REC8081556786435881278.mp4\n",
      "C:\\Users\\Nazarova Polina\\Desktop\\Кейс Синтез\\Датасет_Синтез\\raw\\Righty\\REC8129521179493915880.mp4\n",
      "C:\\Users\\Nazarova Polina\\Desktop\\Кейс Синтез\\Датасет_Синтез\\raw\\Righty\\REC8164151149421126571.mp4\n",
      "C:\\Users\\Nazarova Polina\\Desktop\\Кейс Синтез\\Датасет_Синтез\\raw\\Righty\\REC819317062611294728.mp4\n",
      "C:\\Users\\Nazarova Polina\\Desktop\\Кейс Синтез\\Датасет_Синтез\\raw\\Righty\\REC8274087224595333202.mp4\n",
      "C:\\Users\\Nazarova Polina\\Desktop\\Кейс Синтез\\Датасет_Синтез\\raw\\Righty\\REC8313519546974200569.mp4\n",
      "C:\\Users\\Nazarova Polina\\Desktop\\Кейс Синтез\\Датасет_Синтез\\raw\\Righty\\REC8344628990073598203.mp4\n",
      "C:\\Users\\Nazarova Polina\\Desktop\\Кейс Синтез\\Датасет_Синтез\\raw\\Righty\\REC840244839835580394.mp4\n",
      "C:\\Users\\Nazarova Polina\\Desktop\\Кейс Синтез\\Датасет_Синтез\\raw\\Righty\\REC8483705515246179378.mp4\n",
      "C:\\Users\\Nazarova Polina\\Desktop\\Кейс Синтез\\Датасет_Синтез\\raw\\Righty\\REC8655533326301084644.mp4\n",
      "C:\\Users\\Nazarova Polina\\Desktop\\Кейс Синтез\\Датасет_Синтез\\raw\\Righty\\REC8689703475347317659.mp4\n",
      "C:\\Users\\Nazarova Polina\\Desktop\\Кейс Синтез\\Датасет_Синтез\\raw\\Righty\\REC8790894937353240548.mp4\n",
      "C:\\Users\\Nazarova Polina\\Desktop\\Кейс Синтез\\Датасет_Синтез\\raw\\Righty\\REC8820702969968553313.mp4\n",
      "C:\\Users\\Nazarova Polina\\Desktop\\Кейс Синтез\\Датасет_Синтез\\raw\\Righty\\REC8910839994048405719.mp4\n",
      "C:\\Users\\Nazarova Polina\\Desktop\\Кейс Синтез\\Датасет_Синтез\\raw\\Righty\\REC8945078547835447567.mp4\n",
      "C:\\Users\\Nazarova Polina\\Desktop\\Кейс Синтез\\Датасет_Синтез\\raw\\Righty\\REC8986540505676174391.mp4\n",
      "C:\\Users\\Nazarova Polina\\Desktop\\Кейс Синтез\\Датасет_Синтез\\raw\\Righty\\REC9031660670533810848.mp4\n",
      "C:\\Users\\Nazarova Polina\\Desktop\\Кейс Синтез\\Датасет_Синтез\\raw\\Righty\\REC9049066661201068101.mp4\n",
      "C:\\Users\\Nazarova Polina\\Desktop\\Кейс Синтез\\Датасет_Синтез\\raw\\Righty\\REC9072874105488935272.mp4\n",
      "C:\\Users\\Nazarova Polina\\Desktop\\Кейс Синтез\\Датасет_Синтез\\raw\\Righty\\REC9085827838160212348.mp4\n",
      "C:\\Users\\Nazarova Polina\\Desktop\\Кейс Синтез\\Датасет_Синтез\\raw\\Righty\\REC9106620242575065351.mp4\n",
      "C:\\Users\\Nazarova Polina\\Desktop\\Кейс Синтез\\Датасет_Синтез\\raw\\Righty\\REC9184781998969745407.mp4\n",
      "C:\\Users\\Nazarova Polina\\Desktop\\Кейс Синтез\\Датасет_Синтез\\raw\\Righty\\REC92281415479836924.mp4\n",
      "C:\\Users\\Nazarova Polina\\Desktop\\Кейс Синтез\\Датасет_Синтез\\raw\\Righty\\REC_0024EE40-13D5-4CAC-85E2-B5E2FCA0F2EE.mp4\n",
      "C:\\Users\\Nazarova Polina\\Desktop\\Кейс Синтез\\Датасет_Синтез\\raw\\Righty\\REC_0143C87E-99FB-478C-9434-1FE23F6951DB.mp4\n",
      "C:\\Users\\Nazarova Polina\\Desktop\\Кейс Синтез\\Датасет_Синтез\\raw\\Righty\\REC_02474D92-3A1F-4977-AA87-FD1699A56CD8.mp4\n",
      "C:\\Users\\Nazarova Polina\\Desktop\\Кейс Синтез\\Датасет_Синтез\\raw\\Righty\\REC_0306E846-7A09-4FF8-B93A-6636FD6D5D95.mp4\n",
      "C:\\Users\\Nazarova Polina\\Desktop\\Кейс Синтез\\Датасет_Синтез\\raw\\Righty\\REC_04C0E445-8B99-4752-81FA-1316CD9B14F4.mp4\n",
      "C:\\Users\\Nazarova Polina\\Desktop\\Кейс Синтез\\Датасет_Синтез\\raw\\Righty\\REC_081EAA4D-072C-401B-A8AA-B3839D60FA8E.mp4\n",
      "C:\\Users\\Nazarova Polina\\Desktop\\Кейс Синтез\\Датасет_Синтез\\raw\\Righty\\REC_0AE333B4-1A55-46BF-968C-A9C7B1791391.mp4\n",
      "C:\\Users\\Nazarova Polina\\Desktop\\Кейс Синтез\\Датасет_Синтез\\raw\\Righty\\REC_0B13B8BB-8342-4B7D-92A9-92EF4E5CF7B1.mp4\n",
      "C:\\Users\\Nazarova Polina\\Desktop\\Кейс Синтез\\Датасет_Синтез\\raw\\Righty\\REC_0BAE33E1-4CEC-4D36-9273-927AD6D57DD6.mp4\n",
      "C:\\Users\\Nazarova Polina\\Desktop\\Кейс Синтез\\Датасет_Синтез\\raw\\Righty\\REC_0D341C16-730A-47FA-BA7E-1E25C87F1EEC.mp4\n",
      "C:\\Users\\Nazarova Polina\\Desktop\\Кейс Синтез\\Датасет_Синтез\\raw\\Righty\\REC_10A539D7-D9A8-4FBE-8EBA-7EA3F07DE3E7.mp4\n",
      "C:\\Users\\Nazarova Polina\\Desktop\\Кейс Синтез\\Датасет_Синтез\\raw\\Righty\\REC_117D9AB3-4B9C-4015-8776-45A9E5EFF6AD.mp4\n",
      "C:\\Users\\Nazarova Polina\\Desktop\\Кейс Синтез\\Датасет_Синтез\\raw\\Righty\\REC_14AB43AE-3EB5-455B-AFA5-5A116C48F06F.mp4\n",
      "C:\\Users\\Nazarova Polina\\Desktop\\Кейс Синтез\\Датасет_Синтез\\raw\\Righty\\REC_15BD70EF-D4AC-460A-BFC5-255B23192C35.mp4\n",
      "C:\\Users\\Nazarova Polina\\Desktop\\Кейс Синтез\\Датасет_Синтез\\raw\\Righty\\REC_1AA824AA-156A-48B3-9B43-16DA0AD077C9.mp4\n",
      "C:\\Users\\Nazarova Polina\\Desktop\\Кейс Синтез\\Датасет_Синтез\\raw\\Righty\\REC_1CF49B91-0D33-475C-AD8F-09EAFF75298A.mp4\n",
      "C:\\Users\\Nazarova Polina\\Desktop\\Кейс Синтез\\Датасет_Синтез\\raw\\Righty\\REC_1E3DC333-4B34-4DB2-8CE4-D69F318B3E70.mp4\n",
      "C:\\Users\\Nazarova Polina\\Desktop\\Кейс Синтез\\Датасет_Синтез\\raw\\Righty\\REC_2189A19B-7647-4E60-866A-C2253FF21E92.mp4\n",
      "C:\\Users\\Nazarova Polina\\Desktop\\Кейс Синтез\\Датасет_Синтез\\raw\\Righty\\REC_23C05161-CFA0-449B-8FF2-75BA051D1FDA.mp4\n",
      "C:\\Users\\Nazarova Polina\\Desktop\\Кейс Синтез\\Датасет_Синтез\\raw\\Righty\\REC_271F5532-F1DE-4371-8EE7-D3B8B78E6A2B.mp4\n",
      "C:\\Users\\Nazarova Polina\\Desktop\\Кейс Синтез\\Датасет_Синтез\\raw\\Righty\\REC_29E7188E-476D-48B4-A08E-173160B8BC13.mp4\n",
      "C:\\Users\\Nazarova Polina\\Desktop\\Кейс Синтез\\Датасет_Синтез\\raw\\Righty\\REC_2AC53B04-70CF-495B-AFD0-9A381EB2E023.mp4\n",
      "C:\\Users\\Nazarova Polina\\Desktop\\Кейс Синтез\\Датасет_Синтез\\raw\\Righty\\REC_2CDB0DB4-022A-41C6-A660-8A896D0FF4B2.mp4\n",
      "C:\\Users\\Nazarova Polina\\Desktop\\Кейс Синтез\\Датасет_Синтез\\raw\\Righty\\REC_2D96DFEB-653D-4046-91A4-E86CA4474084.mp4\n",
      "C:\\Users\\Nazarova Polina\\Desktop\\Кейс Синтез\\Датасет_Синтез\\raw\\Righty\\REC_3413B7BD-ED5E-4F2E-A8AB-CA0E561256BC.mp4\n",
      "C:\\Users\\Nazarova Polina\\Desktop\\Кейс Синтез\\Датасет_Синтез\\raw\\Righty\\REC_35E4093D-8356-47A0-A197-06A1708DC91D.mp4\n",
      "C:\\Users\\Nazarova Polina\\Desktop\\Кейс Синтез\\Датасет_Синтез\\raw\\Righty\\REC_36F2ADA2-1F2E-48CC-8E9D-870C166B774C.mp4\n",
      "C:\\Users\\Nazarova Polina\\Desktop\\Кейс Синтез\\Датасет_Синтез\\raw\\Righty\\REC_3EADFE8C-5336-46DA-9EF1-401CEFF0F73E.mp4\n",
      "C:\\Users\\Nazarova Polina\\Desktop\\Кейс Синтез\\Датасет_Синтез\\raw\\Righty\\REC_3F84C3F0-5BB3-4C5E-870A-A85EAE209AC1.mp4\n",
      "C:\\Users\\Nazarova Polina\\Desktop\\Кейс Синтез\\Датасет_Синтез\\raw\\Righty\\REC_409F33F1-5BA8-48B3-9FDC-E9F31301B89F.mp4\n",
      "C:\\Users\\Nazarova Polina\\Desktop\\Кейс Синтез\\Датасет_Синтез\\raw\\Righty\\REC_43AFD6AE-5B65-4E38-934E-FABE62779AB6.mp4\n",
      "C:\\Users\\Nazarova Polina\\Desktop\\Кейс Синтез\\Датасет_Синтез\\raw\\Righty\\REC_467A952C-344C-4824-A763-93E0A0F8EDD2.mp4\n",
      "C:\\Users\\Nazarova Polina\\Desktop\\Кейс Синтез\\Датасет_Синтез\\raw\\Righty\\REC_48120A45-5643-464A-825B-2AD290E0657A.mp4\n",
      "C:\\Users\\Nazarova Polina\\Desktop\\Кейс Синтез\\Датасет_Синтез\\raw\\Righty\\REC_4BAC72A6-5B43-44F4-A68D-7F0C5BF130FD.mp4\n",
      "C:\\Users\\Nazarova Polina\\Desktop\\Кейс Синтез\\Датасет_Синтез\\raw\\Righty\\REC_4DA0682A-7E57-48E0-B16E-415AD03A6A62.mp4\n"
     ]
    },
    {
     "name": "stdout",
     "output_type": "stream",
     "text": [
      "C:\\Users\\Nazarova Polina\\Desktop\\Кейс Синтез\\Датасет_Синтез\\raw\\Righty\\REC_4E582C23-5C16-4CF3-B5C6-68CC9926141F.mp4\n",
      "C:\\Users\\Nazarova Polina\\Desktop\\Кейс Синтез\\Датасет_Синтез\\raw\\Righty\\REC_4E9293F5-53A6-48B6-986F-E8A7D10BCD66.mp4\n",
      "C:\\Users\\Nazarova Polina\\Desktop\\Кейс Синтез\\Датасет_Синтез\\raw\\Righty\\REC_4F1556C1-715A-481F-95FE-E682EB9400D9.mp4\n",
      "C:\\Users\\Nazarova Polina\\Desktop\\Кейс Синтез\\Датасет_Синтез\\raw\\Righty\\REC_50123DBF-E239-4E72-86EA-3C7D415B36D8.mp4\n",
      "C:\\Users\\Nazarova Polina\\Desktop\\Кейс Синтез\\Датасет_Синтез\\raw\\Righty\\REC_5128BE97-CE0E-45AA-A2E7-FCD3D3885BF4.mp4\n",
      "C:\\Users\\Nazarova Polina\\Desktop\\Кейс Синтез\\Датасет_Синтез\\raw\\Righty\\REC_51A8061C-C996-4D03-9BD4-9B07241192F8.mp4\n",
      "C:\\Users\\Nazarova Polina\\Desktop\\Кейс Синтез\\Датасет_Синтез\\raw\\Righty\\REC_55BD00B7-4E80-4C27-8673-25A4D4F78218.mp4\n",
      "C:\\Users\\Nazarova Polina\\Desktop\\Кейс Синтез\\Датасет_Синтез\\raw\\Righty\\REC_571BB378-B1BE-43DC-BD67-B302F2AA1B85.mp4\n",
      "C:\\Users\\Nazarova Polina\\Desktop\\Кейс Синтез\\Датасет_Синтез\\raw\\Righty\\REC_5B04DE2E-F79F-4228-B389-08E34E93B8C8.mp4\n",
      "C:\\Users\\Nazarova Polina\\Desktop\\Кейс Синтез\\Датасет_Синтез\\raw\\Righty\\REC_5C96AB5F-B381-45AB-8F95-2CA3B95DBB03.mp4\n",
      "C:\\Users\\Nazarova Polina\\Desktop\\Кейс Синтез\\Датасет_Синтез\\raw\\Righty\\REC_5E4B495A-95D5-49A6-A8B3-03C6C061381C.mp4\n",
      "C:\\Users\\Nazarova Polina\\Desktop\\Кейс Синтез\\Датасет_Синтез\\raw\\Righty\\REC_601FF1C2-133A-47C1-AB0A-4A1DD9A9F518.mp4\n",
      "C:\\Users\\Nazarova Polina\\Desktop\\Кейс Синтез\\Датасет_Синтез\\raw\\Righty\\REC_60D83500-4D81-49F2-AF9B-D3059C4CA10B.mp4\n",
      "C:\\Users\\Nazarova Polina\\Desktop\\Кейс Синтез\\Датасет_Синтез\\raw\\Righty\\REC_63FA8304-F7EC-4023-AD0F-4854220EC7D6.mp4\n",
      "C:\\Users\\Nazarova Polina\\Desktop\\Кейс Синтез\\Датасет_Синтез\\raw\\Righty\\REC_6576831E-06FE-48BD-9FB1-A6EAE165D61B.mp4\n",
      "C:\\Users\\Nazarova Polina\\Desktop\\Кейс Синтез\\Датасет_Синтез\\raw\\Righty\\REC_66FCECD6-CA34-421F-8DAC-3EE55B465722.mp4\n",
      "C:\\Users\\Nazarova Polina\\Desktop\\Кейс Синтез\\Датасет_Синтез\\raw\\Righty\\REC_6BDC6202-2C20-44DC-A722-964B3B71428D.mp4\n",
      "C:\\Users\\Nazarova Polina\\Desktop\\Кейс Синтез\\Датасет_Синтез\\raw\\Righty\\REC_6CF759E0-7DFF-48C1-84B8-6A9CB751BB9D.mp4\n",
      "C:\\Users\\Nazarova Polina\\Desktop\\Кейс Синтез\\Датасет_Синтез\\raw\\Righty\\REC_6E9C9757-1DD3-4B77-A972-D74119FD7B4A.mp4\n",
      "C:\\Users\\Nazarova Polina\\Desktop\\Кейс Синтез\\Датасет_Синтез\\raw\\Righty\\REC_747ADB10-26A6-4529-9EAE-8E8522900125.mp4\n",
      "C:\\Users\\Nazarova Polina\\Desktop\\Кейс Синтез\\Датасет_Синтез\\raw\\Righty\\REC_75E3BEC2-06DD-412F-A285-8E01AB4E6C61.mp4\n",
      "C:\\Users\\Nazarova Polina\\Desktop\\Кейс Синтез\\Датасет_Синтез\\raw\\Righty\\REC_7771228E-D238-4644-9A45-0A9CDDC730EB.mp4\n",
      "C:\\Users\\Nazarova Polina\\Desktop\\Кейс Синтез\\Датасет_Синтез\\raw\\Righty\\REC_77A2EE4E-D5AD-4481-ABD6-B7118BA6129A.mp4\n",
      "C:\\Users\\Nazarova Polina\\Desktop\\Кейс Синтез\\Датасет_Синтез\\raw\\Righty\\REC_78506746-1DEF-4B79-A07A-3B554641F0A6.mp4\n",
      "C:\\Users\\Nazarova Polina\\Desktop\\Кейс Синтез\\Датасет_Синтез\\raw\\Righty\\REC_7CC3DF7F-52CC-41B3-B479-E707E9C913CB.mp4\n",
      "C:\\Users\\Nazarova Polina\\Desktop\\Кейс Синтез\\Датасет_Синтез\\raw\\Righty\\REC_7FBEC8BA-172F-4204-B460-514B8FAF8536.mp4\n",
      "C:\\Users\\Nazarova Polina\\Desktop\\Кейс Синтез\\Датасет_Синтез\\raw\\Righty\\REC_80CAB66B-946C-4711-A5EF-77F73A7EC743.mp4\n",
      "C:\\Users\\Nazarova Polina\\Desktop\\Кейс Синтез\\Датасет_Синтез\\raw\\Righty\\REC_828F1325-53E9-489C-B495-AA2BBF51CEA5.mp4\n",
      "C:\\Users\\Nazarova Polina\\Desktop\\Кейс Синтез\\Датасет_Синтез\\raw\\Righty\\REC_8376B65B-D1FD-4BA5-BD93-00CF1533B2AD.mp4\n",
      "C:\\Users\\Nazarova Polina\\Desktop\\Кейс Синтез\\Датасет_Синтез\\raw\\Righty\\REC_844C4BAC-4B09-41FF-B90A-8267BF2AE7D0.mp4\n",
      "C:\\Users\\Nazarova Polina\\Desktop\\Кейс Синтез\\Датасет_Синтез\\raw\\Righty\\REC_853C491A-4CB7-4C1B-B760-F6DC51425DFC.mp4\n",
      "C:\\Users\\Nazarova Polina\\Desktop\\Кейс Синтез\\Датасет_Синтез\\raw\\Righty\\REC_870BBF0F-B787-4CF8-8C09-B5FE864DD86A.mp4\n",
      "C:\\Users\\Nazarova Polina\\Desktop\\Кейс Синтез\\Датасет_Синтез\\raw\\Righty\\REC_881BE501-37F8-4817-A9E4-36C0A32AB3D1.mp4\n",
      "C:\\Users\\Nazarova Polina\\Desktop\\Кейс Синтез\\Датасет_Синтез\\raw\\Righty\\REC_8AA27931-C4F8-4E21-A86E-7957C5402436.mp4\n",
      "C:\\Users\\Nazarova Polina\\Desktop\\Кейс Синтез\\Датасет_Синтез\\raw\\Righty\\REC_8CA5D3C5-5A9C-4372-B7DF-3624006829F0.mp4\n",
      "C:\\Users\\Nazarova Polina\\Desktop\\Кейс Синтез\\Датасет_Синтез\\raw\\Righty\\REC_8DD516ED-D771-4186-9D94-E27CABDE2725.mp4\n",
      "C:\\Users\\Nazarova Polina\\Desktop\\Кейс Синтез\\Датасет_Синтез\\raw\\Righty\\REC_8F9E9F2F-4FE9-4A6B-9842-459CB4B1F3F6.mp4\n",
      "C:\\Users\\Nazarova Polina\\Desktop\\Кейс Синтез\\Датасет_Синтез\\raw\\Righty\\REC_9034C772-1159-48BB-BA54-807626291896.mp4\n",
      "C:\\Users\\Nazarova Polina\\Desktop\\Кейс Синтез\\Датасет_Синтез\\raw\\Righty\\REC_942BBF64-594B-494B-B36E-FD93A505B748.mp4\n",
      "C:\\Users\\Nazarova Polina\\Desktop\\Кейс Синтез\\Датасет_Синтез\\raw\\Righty\\REC_969DAB52-7A5D-43E4-8523-99FECFABC1F7.mp4\n",
      "C:\\Users\\Nazarova Polina\\Desktop\\Кейс Синтез\\Датасет_Синтез\\raw\\Righty\\REC_9881A493-D34C-46F4-94CB-81200796C115.mp4\n",
      "C:\\Users\\Nazarova Polina\\Desktop\\Кейс Синтез\\Датасет_Синтез\\raw\\Righty\\REC_99CC9A8F-FD73-42A3-ACE3-942029361A38.mp4\n",
      "C:\\Users\\Nazarova Polina\\Desktop\\Кейс Синтез\\Датасет_Синтез\\raw\\Righty\\REC_9B2AB20A-7098-494D-BA44-41627BAD3A5A.mp4\n",
      "C:\\Users\\Nazarova Polina\\Desktop\\Кейс Синтез\\Датасет_Синтез\\raw\\Righty\\REC_9E69F67D-3C8E-4847-B6E0-8BE5489BCA7B.mp4\n",
      "C:\\Users\\Nazarova Polina\\Desktop\\Кейс Синтез\\Датасет_Синтез\\raw\\Righty\\REC_9EAAABA2-CDEF-4F92-994F-EBE9E72A3DCF.mp4\n",
      "C:\\Users\\Nazarova Polina\\Desktop\\Кейс Синтез\\Датасет_Синтез\\raw\\Righty\\REC_9FDA091E-D0BC-41FD-98A3-6D7E699E3F77.mp4\n",
      "C:\\Users\\Nazarova Polina\\Desktop\\Кейс Синтез\\Датасет_Синтез\\raw\\Righty\\REC_A0DF797D-B336-4EE7-892F-F2C0C4CA696C.mp4\n",
      "C:\\Users\\Nazarova Polina\\Desktop\\Кейс Синтез\\Датасет_Синтез\\raw\\Righty\\REC_A2065077-AB11-40B0-9D38-226A868AF62D.mp4\n",
      "C:\\Users\\Nazarova Polina\\Desktop\\Кейс Синтез\\Датасет_Синтез\\raw\\Righty\\REC_A593E964-D18E-4FF6-A379-1A591BB4997C.mp4\n",
      "C:\\Users\\Nazarova Polina\\Desktop\\Кейс Синтез\\Датасет_Синтез\\raw\\Righty\\REC_A735E8DC-A6B5-4531-86E4-6E57D1C6C85B.mp4\n",
      "C:\\Users\\Nazarova Polina\\Desktop\\Кейс Синтез\\Датасет_Синтез\\raw\\Righty\\REC_A8582FB4-9517-4CF9-B60E-FEB099F35C9C.mp4\n",
      "C:\\Users\\Nazarova Polina\\Desktop\\Кейс Синтез\\Датасет_Синтез\\raw\\Righty\\REC_AAC3AF64-581B-4600-A06F-0286C6200E41.mp4\n",
      "C:\\Users\\Nazarova Polina\\Desktop\\Кейс Синтез\\Датасет_Синтез\\raw\\Righty\\REC_ACCABBBE-3A7F-427E-93A7-F726834474AE.mp4\n",
      "C:\\Users\\Nazarova Polina\\Desktop\\Кейс Синтез\\Датасет_Синтез\\raw\\Righty\\REC_B29C045B-16AD-41A9-892B-D6A6147F4B28.mp4\n",
      "C:\\Users\\Nazarova Polina\\Desktop\\Кейс Синтез\\Датасет_Синтез\\raw\\Righty\\REC_B374122F-1E81-4B53-82B2-C42CBFE37CF8.mp4\n",
      "C:\\Users\\Nazarova Polina\\Desktop\\Кейс Синтез\\Датасет_Синтез\\raw\\Righty\\REC_B84866F9-0865-4ABF-83BC-E80FD88F78F3.mp4\n",
      "C:\\Users\\Nazarova Polina\\Desktop\\Кейс Синтез\\Датасет_Синтез\\raw\\Righty\\REC_B9378700-259E-40B1-A974-7AF84124528C.mp4\n",
      "C:\\Users\\Nazarova Polina\\Desktop\\Кейс Синтез\\Датасет_Синтез\\raw\\Righty\\REC_BA4FB7AD-8CE4-4CFE-99FD-C15CB1021F14.mp4\n",
      "C:\\Users\\Nazarova Polina\\Desktop\\Кейс Синтез\\Датасет_Синтез\\raw\\Righty\\REC_BB17D04F-7D42-428C-8F24-ADC07FD65FBB.mp4\n",
      "C:\\Users\\Nazarova Polina\\Desktop\\Кейс Синтез\\Датасет_Синтез\\raw\\Righty\\REC_BB31D19E-3705-48CB-B265-CBD76B7EAF66.mp4\n",
      "C:\\Users\\Nazarova Polina\\Desktop\\Кейс Синтез\\Датасет_Синтез\\raw\\Righty\\REC_BE307FA5-2AAF-417B-AAA4-41F544E2D412.mp4\n",
      "C:\\Users\\Nazarova Polina\\Desktop\\Кейс Синтез\\Датасет_Синтез\\raw\\Righty\\REC_BFA7FF9A-234D-4B40-81A9-BF8A97E78DA6.mp4\n",
      "C:\\Users\\Nazarova Polina\\Desktop\\Кейс Синтез\\Датасет_Синтез\\raw\\Righty\\REC_C04098DE-7B2D-4670-84A1-26485EB7E9BB.mp4\n",
      "C:\\Users\\Nazarova Polina\\Desktop\\Кейс Синтез\\Датасет_Синтез\\raw\\Righty\\REC_C118D1E5-759D-45C1-8A3E-605F118D8538.mp4\n",
      "C:\\Users\\Nazarova Polina\\Desktop\\Кейс Синтез\\Датасет_Синтез\\raw\\Righty\\REC_C1F66516-67F5-498E-AEAF-4030C6B81C56.mp4\n",
      "C:\\Users\\Nazarova Polina\\Desktop\\Кейс Синтез\\Датасет_Синтез\\raw\\Righty\\REC_C33D1FAB-12CB-4289-9C07-6B8C65A7083A.mp4\n",
      "C:\\Users\\Nazarova Polina\\Desktop\\Кейс Синтез\\Датасет_Синтез\\raw\\Righty\\REC_C5A44515-C1AD-4235-80F5-A39EFF8F7A15.mp4\n",
      "C:\\Users\\Nazarova Polina\\Desktop\\Кейс Синтез\\Датасет_Синтез\\raw\\Righty\\REC_C8D675A4-DD67-4B06-B95F-E3BB308F1FD8.mp4\n",
      "C:\\Users\\Nazarova Polina\\Desktop\\Кейс Синтез\\Датасет_Синтез\\raw\\Righty\\REC_CD446DA2-AAB5-4E86-B840-2150F2B725F6.mp4\n",
      "C:\\Users\\Nazarova Polina\\Desktop\\Кейс Синтез\\Датасет_Синтез\\raw\\Righty\\REC_D150DF53-8426-4E7B-9673-EBF2E5242077.mp4\n",
      "C:\\Users\\Nazarova Polina\\Desktop\\Кейс Синтез\\Датасет_Синтез\\raw\\Righty\\REC_D3212E53-2C80-49BB-BF67-247B87E8DA15.mp4\n"
     ]
    },
    {
     "name": "stdout",
     "output_type": "stream",
     "text": [
      "C:\\Users\\Nazarova Polina\\Desktop\\Кейс Синтез\\Датасет_Синтез\\raw\\Righty\\REC_D4D3573F-D665-4E13-BB1E-FA9E19024D36.mp4\n",
      "C:\\Users\\Nazarova Polina\\Desktop\\Кейс Синтез\\Датасет_Синтез\\raw\\Righty\\REC_D752D4A6-C508-423C-B077-94A96F0FAFC1.mp4\n",
      "C:\\Users\\Nazarova Polina\\Desktop\\Кейс Синтез\\Датасет_Синтез\\raw\\Righty\\REC_D8644F1F-26B9-4EE0-AA9A-E600AFCD8F73.mp4\n",
      "C:\\Users\\Nazarova Polina\\Desktop\\Кейс Синтез\\Датасет_Синтез\\raw\\Righty\\REC_DCA44D99-F7E7-46D6-BCE2-51A877DE43AB.mp4\n",
      "C:\\Users\\Nazarova Polina\\Desktop\\Кейс Синтез\\Датасет_Синтез\\raw\\Righty\\REC_DFB2D4D3-258B-4E5B-835E-87FC5D998598.mp4\n",
      "C:\\Users\\Nazarova Polina\\Desktop\\Кейс Синтез\\Датасет_Синтез\\raw\\Righty\\REC_E1BB2F7A-378C-4719-A2B8-ABD317F7F0CE.mp4\n",
      "C:\\Users\\Nazarova Polina\\Desktop\\Кейс Синтез\\Датасет_Синтез\\raw\\Righty\\REC_E3F19AD1-BBEC-4882-8B83-04354F927750.mp4\n",
      "C:\\Users\\Nazarova Polina\\Desktop\\Кейс Синтез\\Датасет_Синтез\\raw\\Righty\\REC_E58120D7-15A4-4CE7-A8C0-A1A33973F58B.mp4\n",
      "C:\\Users\\Nazarova Polina\\Desktop\\Кейс Синтез\\Датасет_Синтез\\raw\\Righty\\REC_E627329E-9E88-48B2-B9C5-8B8453EDAEA9.mp4\n",
      "C:\\Users\\Nazarova Polina\\Desktop\\Кейс Синтез\\Датасет_Синтез\\raw\\Righty\\REC_E85F4A43-FC86-4CCA-A157-1C6E390CA4F2.mp4\n",
      "C:\\Users\\Nazarova Polina\\Desktop\\Кейс Синтез\\Датасет_Синтез\\raw\\Righty\\REC_E97CD197-9189-4D16-B86B-2028BBB962CD_0_COMPRESSED.mp4\n",
      "C:\\Users\\Nazarova Polina\\Desktop\\Кейс Синтез\\Датасет_Синтез\\raw\\Righty\\REC_ECD37664-78DF-4732-A235-2BE753D629C0.mp4\n",
      "C:\\Users\\Nazarova Polina\\Desktop\\Кейс Синтез\\Датасет_Синтез\\raw\\Righty\\REC_F08BD662-45A3-44F1-9C69-5DB51C02BFE0.mp4\n",
      "C:\\Users\\Nazarova Polina\\Desktop\\Кейс Синтез\\Датасет_Синтез\\raw\\Righty\\REC_F3B994B2-1A32-4468-B605-1C404BB15382.mp4\n",
      "C:\\Users\\Nazarova Polina\\Desktop\\Кейс Синтез\\Датасет_Синтез\\raw\\Righty\\REC_F5346AD6-7F03-4267-A09D-ACEFD168BDAB.mp4\n",
      "C:\\Users\\Nazarova Polina\\Desktop\\Кейс Синтез\\Датасет_Синтез\\raw\\Righty\\REC_F6962A06-AF1D-495B-99DE-AB7B7C75FA2D.mp4\n",
      "C:\\Users\\Nazarova Polina\\Desktop\\Кейс Синтез\\Датасет_Синтез\\raw\\Righty\\REC_F7934F15-7279-4889-A351-B6995F041B3D.mp4\n",
      "C:\\Users\\Nazarova Polina\\Desktop\\Кейс Синтез\\Датасет_Синтез\\raw\\Righty\\REC_FADDE71D-9528-493F-A47A-BF77022C3A18.mp4\n",
      "C:\\Users\\Nazarova Polina\\Desktop\\Кейс Синтез\\Датасет_Синтез\\raw\\Righty\\REC_FD0F2A8B-B449-4ED7-8551-73CC54DCB256.mp4\n",
      "C:\\Users\\Nazarova Polina\\Desktop\\Кейс Синтез\\Датасет_Синтез\\raw\\Righty\\REC_FE0F045B-E592-4DC2-93D9-FE2784793360.mp4\n",
      "C:\\Users\\Nazarova Polina\\Desktop\\Кейс Синтез\\Датасет_Синтез\\raw\\Righty\\REC_FF7EBF62-9974-4BBD-ABEC-7CF44BECC3D5.mp4\n",
      "C:\\Users\\Nazarova Polina\\Desktop\\Кейс Синтез\\Датасет_Синтез\\raw\\Righty\\VID_20230305_180438_417.mp4\n"
     ]
    }
   ],
   "source": [
    "rootdir = \"C:\\\\Users\\\\Nazarova Polina\\\\Desktop\\\\Кейс Синтез\\\\Датасет_Синтез\\\\raw\\\\Righty\"\n",
    "coords_of_right = []\n",
    "walk_one = 0\n",
    "for subdir, dirs, files in os.walk(rootdir):\n",
    "    for file in files:\n",
    "        if walk_one%2==0:\n",
    "            #print os.path.join(subdir, file)\n",
    "            filepath = subdir + os.sep + file\n",
    "            print(filepath)\n",
    "            cap = cv2.VideoCapture(filepath)\n",
    "            video_now(cap,coords_of_right)\n",
    "        walk_one+=1"
   ]
  },
  {
   "cell_type": "code",
   "execution_count": 133,
   "id": "b7d79a46",
   "metadata": {},
   "outputs": [],
   "source": [
    "np.save(\"C:\\\\Users\\\\Nazarova Polina\\\\Desktop\\\\Кейс Синтез\\\\Датасет_Синтез\\\\coords_of_right.npy\",np.array(coords_of_right))\n",
    "np.save(\"C:\\\\Users\\\\Nazarova Polina\\\\Desktop\\\\Кейс Синтез\\\\Датасет_Синтез\\\\coords_of_left.npy\",np.array(coords_of_left))\n",
    "np.save(\"C:\\\\Users\\\\Nazarova Polina\\\\Desktop\\\\Кейс Синтез\\\\Датасет_Синтез\\\\coords_of_face_on.npy\",np.array(coords_of_face_on))"
   ]
  },
  {
   "cell_type": "markdown",
   "id": "c1c04d4a",
   "metadata": {},
   "source": [
    "ПРОСТО МОИ КОММЕНТАРИИ, ЧТОБЫ НЕ ПОТЕРЯТЬСЯ\n",
    "coords_of_right,coords_of_left,coords_of_face_on\n",
    "2,1,0"
   ]
  },
  {
   "cell_type": "code",
   "execution_count": 137,
   "id": "3ff93472",
   "metadata": {},
   "outputs": [
    {
     "name": "stdout",
     "output_type": "stream",
     "text": [
      "(19265, 18, 2)\n"
     ]
    }
   ],
   "source": [
    "print(np.asarray(coords_of_right).shape)"
   ]
  },
  {
   "cell_type": "code",
   "execution_count": 138,
   "id": "68ec9f77",
   "metadata": {},
   "outputs": [
    {
     "name": "stdout",
     "output_type": "stream",
     "text": [
      "(513, 18, 2)\n"
     ]
    }
   ],
   "source": [
    "print(np.asarray(coords_of_left).shape)"
   ]
  },
  {
   "cell_type": "code",
   "execution_count": 139,
   "id": "409fd381",
   "metadata": {},
   "outputs": [
    {
     "name": "stdout",
     "output_type": "stream",
     "text": [
      "(1683, 18, 2)\n"
     ]
    }
   ],
   "source": [
    "print(np.asarray(coords_of_face_on).shape)"
   ]
  },
  {
   "cell_type": "code",
   "execution_count": 140,
   "id": "fce09c8a",
   "metadata": {},
   "outputs": [],
   "source": [
    "from sklearn.utils import shuffle\n",
    "coords_of_right = shuffle (coords_of_right) #2\n",
    "coords_of_left = shuffle (coords_of_left) #1\n",
    "coords_of_face_on = shuffle (coords_of_face_on) #0"
   ]
  },
  {
   "cell_type": "code",
   "execution_count": 175,
   "id": "a2895d1e",
   "metadata": {},
   "outputs": [],
   "source": [
    "X = []\n",
    "y = []\n",
    "\n",
    "for i in range (1683):\n",
    "    dots=[]\n",
    "    for j in range (18):\n",
    "        dots.append(coords_of_face_on[i][j][0])\n",
    "        dots.append(coords_of_face_on[i][j][1])\n",
    "    X.append(tuple(dots))\n",
    "    y.append(0)\n",
    "    \n",
    "for i in range (513):\n",
    "    dots=[]\n",
    "    for j in range (18):\n",
    "        pair=(coords_of_left[i][j][0],coords_of_left[i][j][1])\n",
    "        dots.append(coords_of_left[i][j][0])\n",
    "        dots.append(coords_of_left[i][j][1])\n",
    "    X.append(tuple(dots))\n",
    "    y.append(1)\n",
    "\n",
    "for i in range (2000):\n",
    "    dots=[]\n",
    "    for j in range (18):\n",
    "        pair=(coords_of_right[i][j][0],coords_of_right[i][j][1])\n",
    "        dots.append(coords_of_right[i][j][0])\n",
    "        dots.append(coords_of_right[i][j][1])\n",
    "    X.append(tuple(dots))\n",
    "    y.append(2)"
   ]
  },
  {
   "cell_type": "code",
   "execution_count": 176,
   "id": "bc423883",
   "metadata": {},
   "outputs": [
    {
     "name": "stdout",
     "output_type": "stream",
     "text": [
      "(4196, 36)\n",
      "(4196,)\n"
     ]
    }
   ],
   "source": [
    "print(np.asarray(X).shape)\n",
    "print(np.asarray(y).shape)"
   ]
  },
  {
   "cell_type": "code",
   "execution_count": 183,
   "id": "e0b3281a",
   "metadata": {},
   "outputs": [],
   "source": [
    "from sklearn.model_selection import train_test_split\n",
    "X, y = shuffle(X, y)\n",
    "X_train, X_test, y_train, y_test = train_test_split(X, y, test_size=0.1, random_state=21)"
   ]
  },
  {
   "cell_type": "code",
   "execution_count": 184,
   "id": "370f874e",
   "metadata": {},
   "outputs": [],
   "source": [
    "from sklearn import svm"
   ]
  },
  {
   "cell_type": "code",
   "execution_count": 189,
   "id": "ea174242",
   "metadata": {},
   "outputs": [
    {
     "data": {
      "text/html": [
       "<style>#sk-container-id-7 {color: black;}#sk-container-id-7 pre{padding: 0;}#sk-container-id-7 div.sk-toggleable {background-color: white;}#sk-container-id-7 label.sk-toggleable__label {cursor: pointer;display: block;width: 100%;margin-bottom: 0;padding: 0.3em;box-sizing: border-box;text-align: center;}#sk-container-id-7 label.sk-toggleable__label-arrow:before {content: \"▸\";float: left;margin-right: 0.25em;color: #696969;}#sk-container-id-7 label.sk-toggleable__label-arrow:hover:before {color: black;}#sk-container-id-7 div.sk-estimator:hover label.sk-toggleable__label-arrow:before {color: black;}#sk-container-id-7 div.sk-toggleable__content {max-height: 0;max-width: 0;overflow: hidden;text-align: left;background-color: #f0f8ff;}#sk-container-id-7 div.sk-toggleable__content pre {margin: 0.2em;color: black;border-radius: 0.25em;background-color: #f0f8ff;}#sk-container-id-7 input.sk-toggleable__control:checked~div.sk-toggleable__content {max-height: 200px;max-width: 100%;overflow: auto;}#sk-container-id-7 input.sk-toggleable__control:checked~label.sk-toggleable__label-arrow:before {content: \"▾\";}#sk-container-id-7 div.sk-estimator input.sk-toggleable__control:checked~label.sk-toggleable__label {background-color: #d4ebff;}#sk-container-id-7 div.sk-label input.sk-toggleable__control:checked~label.sk-toggleable__label {background-color: #d4ebff;}#sk-container-id-7 input.sk-hidden--visually {border: 0;clip: rect(1px 1px 1px 1px);clip: rect(1px, 1px, 1px, 1px);height: 1px;margin: -1px;overflow: hidden;padding: 0;position: absolute;width: 1px;}#sk-container-id-7 div.sk-estimator {font-family: monospace;background-color: #f0f8ff;border: 1px dotted black;border-radius: 0.25em;box-sizing: border-box;margin-bottom: 0.5em;}#sk-container-id-7 div.sk-estimator:hover {background-color: #d4ebff;}#sk-container-id-7 div.sk-parallel-item::after {content: \"\";width: 100%;border-bottom: 1px solid gray;flex-grow: 1;}#sk-container-id-7 div.sk-label:hover label.sk-toggleable__label {background-color: #d4ebff;}#sk-container-id-7 div.sk-serial::before {content: \"\";position: absolute;border-left: 1px solid gray;box-sizing: border-box;top: 0;bottom: 0;left: 50%;z-index: 0;}#sk-container-id-7 div.sk-serial {display: flex;flex-direction: column;align-items: center;background-color: white;padding-right: 0.2em;padding-left: 0.2em;position: relative;}#sk-container-id-7 div.sk-item {position: relative;z-index: 1;}#sk-container-id-7 div.sk-parallel {display: flex;align-items: stretch;justify-content: center;background-color: white;position: relative;}#sk-container-id-7 div.sk-item::before, #sk-container-id-7 div.sk-parallel-item::before {content: \"\";position: absolute;border-left: 1px solid gray;box-sizing: border-box;top: 0;bottom: 0;left: 50%;z-index: -1;}#sk-container-id-7 div.sk-parallel-item {display: flex;flex-direction: column;z-index: 1;position: relative;background-color: white;}#sk-container-id-7 div.sk-parallel-item:first-child::after {align-self: flex-end;width: 50%;}#sk-container-id-7 div.sk-parallel-item:last-child::after {align-self: flex-start;width: 50%;}#sk-container-id-7 div.sk-parallel-item:only-child::after {width: 0;}#sk-container-id-7 div.sk-dashed-wrapped {border: 1px dashed gray;margin: 0 0.4em 0.5em 0.4em;box-sizing: border-box;padding-bottom: 0.4em;background-color: white;}#sk-container-id-7 div.sk-label label {font-family: monospace;font-weight: bold;display: inline-block;line-height: 1.2em;}#sk-container-id-7 div.sk-label-container {text-align: center;}#sk-container-id-7 div.sk-container {/* jupyter's `normalize.less` sets `[hidden] { display: none; }` but bootstrap.min.css set `[hidden] { display: none !important; }` so we also need the `!important` here to be able to override the default hidden behavior on the sphinx rendered scikit-learn.org. See: https://github.com/scikit-learn/scikit-learn/issues/21755 */display: inline-block !important;position: relative;}#sk-container-id-7 div.sk-text-repr-fallback {display: none;}</style><div id=\"sk-container-id-7\" class=\"sk-top-container\"><div class=\"sk-text-repr-fallback\"><pre>SVC()</pre><b>In a Jupyter environment, please rerun this cell to show the HTML representation or trust the notebook. <br />On GitHub, the HTML representation is unable to render, please try loading this page with nbviewer.org.</b></div><div class=\"sk-container\" hidden><div class=\"sk-item\"><div class=\"sk-estimator sk-toggleable\"><input class=\"sk-toggleable__control sk-hidden--visually\" id=\"sk-estimator-id-7\" type=\"checkbox\" checked><label for=\"sk-estimator-id-7\" class=\"sk-toggleable__label sk-toggleable__label-arrow\">SVC</label><div class=\"sk-toggleable__content\"><pre>SVC()</pre></div></div></div></div></div>"
      ],
      "text/plain": [
       "SVC()"
      ]
     },
     "execution_count": 189,
     "metadata": {},
     "output_type": "execute_result"
    }
   ],
   "source": [
    "lin_clf = svm.SVC()\n",
    "lin_clf.fit(X_train, y_train)"
   ]
  },
  {
   "cell_type": "code",
   "execution_count": 190,
   "id": "9865d05f",
   "metadata": {},
   "outputs": [
    {
     "name": "stdout",
     "output_type": "stream",
     "text": [
      "0.9666666666666667\n"
     ]
    }
   ],
   "source": [
    "import numpy as np\n",
    "correct=0\n",
    "for i in range(len(X_test)):\n",
    "    dec = lin_clf.predict([X_test[i]])\n",
    "    if dec==y_test[i]: correct+=1\n",
    "print(correct/len(X_test))"
   ]
  },
  {
   "cell_type": "code",
   "execution_count": 191,
   "id": "73092169",
   "metadata": {},
   "outputs": [
    {
     "name": "stdout",
     "output_type": "stream",
     "text": [
      "[0]\n",
      "0\n"
     ]
    }
   ],
   "source": [
    "print(lin_clf.predict([X[0]]))\n",
    "print(y[0])"
   ]
  },
  {
   "cell_type": "code",
   "execution_count": 26,
   "id": "2d8fdce6",
   "metadata": {},
   "outputs": [],
   "source": [
    "import numpy as np"
   ]
  },
  {
   "cell_type": "code",
   "execution_count": 27,
   "id": "a8c0b3f4-f0cc-4da6-b11c-474c714c63bb",
   "metadata": {},
   "outputs": [],
   "source": [
    "data = np.array([[[53, 1],[53, 2]], [[3, 14], [4, 23]], [[5, 34],[6, 34]], [[53, 7],[53, 8]]])"
   ]
  },
  {
   "cell_type": "code",
   "execution_count": 28,
   "id": "8fc3d682-34c1-435e-8dae-0e2c8d5d5cd4",
   "metadata": {},
   "outputs": [],
   "source": [
    "data = [data[0], np.concatenate(data[1:-1]), data[-1]]"
   ]
  },
  {
   "cell_type": "code",
   "execution_count": 29,
   "id": "0d08a295-9f97-47f9-a783-d6dd1b3b34c2",
   "metadata": {},
   "outputs": [
    {
     "data": {
      "text/plain": [
       "[array([[53,  1],\n",
       "        [53,  2]]),\n",
       " array([[ 3, 14],\n",
       "        [ 4, 23],\n",
       "        [ 5, 34],\n",
       "        [ 6, 34]]),\n",
       " array([[53,  7],\n",
       "        [53,  8]])]"
      ]
     },
     "execution_count": 29,
     "metadata": {},
     "output_type": "execute_result"
    }
   ],
   "source": [
    "data"
   ]
  },
  {
   "cell_type": "code",
   "execution_count": null,
   "id": "551c4847-41ff-4171-9dde-91429891b98c",
   "metadata": {},
   "outputs": [],
   "source": []
  }
 ],
 "metadata": {
  "kernelspec": {
   "display_name": "Python 3.10 (tensorflow)",
   "language": "python",
   "name": "tensorflow"
  },
  "language_info": {
   "codemirror_mode": {
    "name": "ipython",
    "version": 3
   },
   "file_extension": ".py",
   "mimetype": "text/x-python",
   "name": "python",
   "nbconvert_exporter": "python",
   "pygments_lexer": "ipython3",
   "version": "3.10.12"
  }
 },
 "nbformat": 4,
 "nbformat_minor": 5
}
